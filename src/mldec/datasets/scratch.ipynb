{
 "cells": [
  {
   "cell_type": "code",
   "execution_count": 1,
   "metadata": {},
   "outputs": [],
   "source": [
    "# autoreload\n",
    "%load_ext autoreload\n",
    "%autoreload 2\n"
   ]
  },
  {
   "cell_type": "code",
   "execution_count": 40,
   "metadata": {},
   "outputs": [
    {
     "name": "stdout",
     "output_type": "stream",
     "text": [
      "(9, 5, 4)\n",
      "[[array([[1., 1.],\n",
      "       [2., 1.],\n",
      "       [2., 2.]], dtype=float32), array([[0, 0, 1, 1, 2, 2],\n",
      "       [1, 2, 0, 2, 0, 1]], dtype=int64), array([[1.],\n",
      "       [1.],\n",
      "       [1.],\n",
      "       [1.],\n",
      "       [1.],\n",
      "       [1.]], dtype=float32), array([[0.]], dtype=float32)], [array([[0., 1.],\n",
      "       [3., 2.],\n",
      "       [3., 3.]], dtype=float32), array([[0, 0, 1, 1, 2, 2],\n",
      "       [1, 2, 0, 2, 0, 1]], dtype=int64), array([[0.11111111],\n",
      "       [0.11111111],\n",
      "       [0.11111111],\n",
      "       [1.        ],\n",
      "       [0.11111111],\n",
      "       [1.        ]], dtype=float32), array([[0.]], dtype=float32)], [array([[0., 4.]], dtype=float32), array([], shape=(2, 0), dtype=int64), array([], shape=(0, 1), dtype=float32), array([[0.]], dtype=float32)], [array([[1., 1.],\n",
      "       [1., 2.]], dtype=float32), array([[0, 1],\n",
      "       [1, 0]], dtype=int64), array([[1.],\n",
      "       [1.]], dtype=float32), array([[0.]], dtype=float32)], [array([[1., 3.],\n",
      "       [1., 4.]], dtype=float32), array([[0, 1],\n",
      "       [1, 0]], dtype=int64), array([[1.],\n",
      "       [1.]], dtype=float32), array([[1.]], dtype=float32)], [array([[0., 1.],\n",
      "       [2., 3.],\n",
      "       [2., 4.]], dtype=float32), array([[0, 0, 1, 1, 2, 2],\n",
      "       [1, 2, 0, 2, 0, 1]], dtype=int64), array([[0.25      ],\n",
      "       [0.11111111],\n",
      "       [0.25      ],\n",
      "       [1.        ],\n",
      "       [0.11111111],\n",
      "       [1.        ]], dtype=float32), array([[0.]], dtype=float32)], [array([[1., 2.],\n",
      "       [1., 3.],\n",
      "       [2., 1.],\n",
      "       [2., 2.],\n",
      "       [2., 3.],\n",
      "       [2., 4.]], dtype=float32), array([[0, 0, 0, 0, 0, 1, 1, 1, 1, 1, 2, 2, 2, 2, 2, 3, 3, 3, 3, 3, 4, 4,\n",
      "        4, 4, 4, 5, 5, 5, 5, 5],\n",
      "       [1, 2, 3, 4, 5, 0, 2, 3, 4, 5, 0, 1, 3, 4, 5, 0, 1, 2, 4, 5, 0, 1,\n",
      "        2, 3, 5, 0, 1, 2, 3, 4]], dtype=int64), array([[1.        ],\n",
      "       [1.        ],\n",
      "       [1.        ],\n",
      "       [1.        ],\n",
      "       [0.25      ],\n",
      "       [1.        ],\n",
      "       [0.25      ],\n",
      "       [1.        ],\n",
      "       [1.        ],\n",
      "       [1.        ],\n",
      "       [1.        ],\n",
      "       [0.25      ],\n",
      "       [1.        ],\n",
      "       [0.25      ],\n",
      "       [0.11111111],\n",
      "       [1.        ],\n",
      "       [1.        ],\n",
      "       [1.        ],\n",
      "       [1.        ],\n",
      "       [0.25      ],\n",
      "       [1.        ],\n",
      "       [1.        ],\n",
      "       [0.25      ],\n",
      "       [1.        ],\n",
      "       [1.        ],\n",
      "       [0.25      ],\n",
      "       [1.        ],\n",
      "       [0.11111111],\n",
      "       [0.25      ],\n",
      "       [1.        ]], dtype=float32), array([[0.]], dtype=float32)], [array([[1., 4.],\n",
      "       [2., 3.],\n",
      "       [2., 4.]], dtype=float32), array([[0, 0, 1, 1, 2, 2],\n",
      "       [1, 2, 0, 2, 0, 1]], dtype=int64), array([[1.],\n",
      "       [1.],\n",
      "       [1.],\n",
      "       [1.],\n",
      "       [1.],\n",
      "       [1.]], dtype=float32), array([[0.]], dtype=float32)], [array([[0., 1.],\n",
      "       [0., 2.],\n",
      "       [3., 2.],\n",
      "       [3., 3.]], dtype=float32), array([[0, 0, 0, 1, 1, 1, 2, 2, 2, 3, 3, 3],\n",
      "       [1, 2, 3, 0, 2, 3, 0, 1, 3, 0, 1, 2]], dtype=int64), array([[1.        ],\n",
      "       [0.11111111],\n",
      "       [0.11111111],\n",
      "       [1.        ],\n",
      "       [0.11111111],\n",
      "       [0.11111111],\n",
      "       [0.11111111],\n",
      "       [0.11111111],\n",
      "       [1.        ],\n",
      "       [0.11111111],\n",
      "       [0.11111111],\n",
      "       [1.        ]], dtype=float32), array([[0.]], dtype=float32)]]\n",
      "-----\n",
      "tensor([[1., 2., 2.],\n",
      "        [1., 1., 2.]]) tensor([[0.]])\n",
      "\n",
      "-----\n",
      "tensor([[0., 3., 3.],\n",
      "        [1., 2., 3.]]) tensor([[0.]])\n",
      "\n",
      "-----\n",
      "tensor([[0.],\n",
      "        [4.]]) tensor([[0.]])\n",
      "\n",
      "-----\n",
      "tensor([[1., 1.],\n",
      "        [1., 2.]]) tensor([[0.]])\n",
      "\n",
      "-----\n",
      "tensor([[1., 1.],\n",
      "        [3., 4.]]) tensor([[1.]])\n",
      "\n",
      "-----\n",
      "tensor([[0., 2., 2.],\n",
      "        [1., 3., 4.]]) tensor([[0.]])\n",
      "\n",
      "-----\n",
      "tensor([[1., 1., 2., 2., 2., 2.],\n",
      "        [2., 3., 1., 2., 3., 4.]]) tensor([[0.]])\n",
      "\n",
      "-----\n",
      "tensor([[1., 2., 2.],\n",
      "        [4., 3., 4.]]) tensor([[0.]])\n",
      "\n",
      "-----\n",
      "tensor([[0., 0., 3., 3.],\n",
      "        [1., 2., 2., 3.]]) tensor([[0.]])\n",
      "\n",
      "[Data(x=[3, 2], edge_index=[2, 6], edge_attr=[6, 1], y=[1, 1]), Data(x=[3, 2], edge_index=[2, 6], edge_attr=[6, 1], y=[1, 1]), Data(x=[1, 2], edge_index=[2, 0], edge_attr=[0, 1], y=[1, 1]), Data(x=[2, 2], edge_index=[2, 2], edge_attr=[2, 1], y=[1, 1]), Data(x=[2, 2], edge_index=[2, 2], edge_attr=[2, 1], y=[1, 1]), Data(x=[3, 2], edge_index=[2, 6], edge_attr=[6, 1], y=[1, 1]), Data(x=[6, 2], edge_index=[2, 30], edge_attr=[30, 1], y=[1, 1]), Data(x=[3, 2], edge_index=[2, 6], edge_attr=[6, 1], y=[1, 1]), Data(x=[4, 2], edge_index=[2, 12], edge_attr=[12, 1], y=[1, 1])]\n"
     ]
    }
   ],
   "source": [
    "from mldec.datasets.reps_exp_rep_code_data import sample_dataset\n",
    "n_data = 10\n",
    "dataset_config = {\n",
    "    \"code_size\": 5,\n",
    "    \"repetitions\": 5,\n",
    "    \"beta\": 1\n",
    "}\n",
    "data_tr, triv_tr, _, _  = sample_dataset(n_data, dataset_config, None, seed=None)"
   ]
  },
  {
   "cell_type": "code",
   "execution_count": 36,
   "metadata": {},
   "outputs": [
    {
     "data": {
      "text/plain": [
       "[Data(x=[3, 2], edge_index=[2, 6], edge_attr=[6, 1], y=[1, 1]),\n",
       " Data(x=[3, 2], edge_index=[2, 6], edge_attr=[6, 1], y=[1, 1]),\n",
       " Data(x=[1, 2], edge_index=[2, 0], edge_attr=[0, 1], y=[1, 1]),\n",
       " Data(x=[2, 2], edge_index=[2, 2], edge_attr=[2, 1], y=[1, 1]),\n",
       " Data(x=[2, 2], edge_index=[2, 2], edge_attr=[2, 1], y=[1, 1]),\n",
       " Data(x=[3, 2], edge_index=[2, 6], edge_attr=[6, 1], y=[1, 1]),\n",
       " Data(x=[6, 2], edge_index=[2, 30], edge_attr=[30, 1], y=[1, 1]),\n",
       " Data(x=[3, 2], edge_index=[2, 6], edge_attr=[6, 1], y=[1, 1]),\n",
       " Data(x=[4, 2], edge_index=[2, 12], edge_attr=[12, 1], y=[1, 1])]"
      ]
     },
     "execution_count": 36,
     "metadata": {},
     "output_type": "execute_result"
    }
   ],
   "source": [
    "data_tr"
   ]
  },
  {
   "cell_type": "code",
   "execution_count": 5,
   "metadata": {},
   "outputs": [],
   "source": [
    "from mldec.datasets.reps_toric_code_data import *\n",
    "\n",
    "dataset_config = {\n",
    "    \"repetitions\": 4,\n",
    "    \"code_size\": 7,\n",
    "    \"p\": 0.05,\n",
    "    \"beta\": 1,\n",
    "}\n"
   ]
  },
  {
   "cell_type": "code",
   "execution_count": 6,
   "metadata": {},
   "outputs": [],
   "source": [
    "seed = None\n",
    "n_data = 10\n",
    "repetitions = dataset_config.get(\"repetitions\") # \"cycles\" of measurement\n",
    "code_size = dataset_config.get(\"code_size\")\n",
    "sampler, detector_coordinates, _ = make_sampler(dataset_config, seed=seed)\n",
    "\n",
    "# get the surface code grid:\n",
    "mask = syndrome_mask(code_size, repetitions)\n",
    "# sample detection events and observable flips\n",
    "stim_data, observable_flips = sampler.sample(shots=int(n_data), separate_observables=True)\n",
    "non_empty_indices = (np.sum(stim_data, axis = 1) != 0)\n",
    "trivial_count = len(observable_flips[~ non_empty_indices])\n",
    "stim_data = stim_data[non_empty_indices, :]\n",
    "observable_flips = observable_flips[non_empty_indices]"
   ]
  },
  {
   "cell_type": "code",
   "execution_count": 8,
   "metadata": {},
   "outputs": [
    {
     "data": {
      "text/plain": [
       "(10, 192)"
      ]
     },
     "execution_count": 8,
     "metadata": {},
     "output_type": "execute_result"
    }
   ],
   "source": [
    "stim_data.shape"
   ]
  },
  {
   "cell_type": "code",
   "execution_count": 141,
   "metadata": {},
   "outputs": [],
   "source": [
    "# Function for creating a single graph as a PyG Data object\n"
   ]
  },
  {
   "cell_type": "code",
   "execution_count": null,
   "metadata": {},
   "outputs": [
    {
     "ename": "NameError",
     "evalue": "name 'get_node_list_2D' is not defined",
     "output_type": "error",
     "traceback": [
      "\u001b[1;31m---------------------------------------------------------------------------\u001b[0m",
      "\u001b[1;31mNameError\u001b[0m                                 Traceback (most recent call last)",
      "Cell \u001b[1;32mIn[42], line 10\u001b[0m\n\u001b[0;32m      8\u001b[0m \u001b[38;5;66;03m# get defect indices: \u001b[39;00m\n\u001b[0;32m      9\u001b[0m defects, defect_indices_triple \u001b[38;5;241m=\u001b[39m get_node_list_3D(syndrome_3D)\n\u001b[1;32m---> 10\u001b[0m defects_2D, defect_indices_double \u001b[38;5;241m=\u001b[39m \u001b[43mget_node_list_2D\u001b[49m(syndrome_2D)\n\u001b[0;32m     14\u001b[0m \u001b[38;5;66;03m# Use helper function to create node feature matrix as torch.tensor\u001b[39;00m\n\u001b[0;32m     15\u001b[0m \u001b[38;5;66;03m# (X, Z, N-dist, W-dist, time-dist)\u001b[39;00m\n\u001b[0;32m     16\u001b[0m X \u001b[38;5;241m=\u001b[39m get_node_feature_matrix(defects, defect_indices_triple, num_node_features \u001b[38;5;241m=\u001b[39m \u001b[38;5;241m5\u001b[39m)\n",
      "\u001b[1;31mNameError\u001b[0m: name 'get_node_list_2D' is not defined"
     ]
    }
   ],
   "source": [
    "from mldec.utils.graph_representation import *\n",
    "\n",
    "i = 3\n",
    "\n",
    "\n",
    "syndrome_3D = stim_to_syndrome_3D(mask, detector_coordinates, stim_data[i])\n",
    "syndrome_2D = syndrome_3D[0,:,:] # mockup repetition code data for n=5 (syndromes are length 4)\n",
    "# get defect indices: \n",
    "defects, defect_indices_triple = get_node_list_3D(syndrome_3D)\n",
    "# defects_2D, defect_indices_double = get_node_list_2D(syndrome_2D)\n",
    "\n",
    "\n",
    "\n",
    "# Use helper function to create node feature matrix as torch.tensor\n",
    "# (X, Z, N-dist, W-dist, time-dist)\n",
    "X = get_node_feature_matrix(defects, defect_indices_triple, num_node_features = 5)\n",
    "\n",
    "# # currently, X_2D is redundant. Single stabilier means that the first axis will always contain '1'...\n",
    "# # X_2D can just be replaced with np.nonzero(syndrome_2D) which are x_coords, t_coords for all faults.\n",
    "# # should be 2-D: [d_left, d_time]\n",
    "# X_2D = get_node_feature_matrix_rep_code(defects_2D, defect_indices_double)\n",
    "\n",
    "\n",
    "# get the logical equivalence class:\n",
    "true_eq_class = np.array([int(observable_flips[i])])\n",
    "# map to graph representation\n",
    "\n",
    "# first element is 'X', the 5-D [is_x, is_z, d_north, d_west, d_time]\n",
    "graph_3D = graph_representation.get_3D_graph(syndrome_3D = syndrome_3D,\n",
    "                    target = true_eq_class,\n",
    "                    power = 2,\n",
    "                    m_nearest_nodes = None)\n",
    "\n",
    "# graph_2D = get_2D_graph(syndrome_2D = syndrome_2D, target=true_eq_class, power=2, m_nearest_nodes=None)\n",
    "\n",
    "\n"
   ]
  },
  {
   "cell_type": "code",
   "execution_count": 41,
   "metadata": {},
   "outputs": [
    {
     "ename": "NameError",
     "evalue": "name 'graph_3D' is not defined",
     "output_type": "error",
     "traceback": [
      "\u001b[1;31m---------------------------------------------------------------------------\u001b[0m",
      "\u001b[1;31mNameError\u001b[0m                                 Traceback (most recent call last)",
      "Cell \u001b[1;32mIn[41], line 1\u001b[0m\n\u001b[1;32m----> 1\u001b[0m \u001b[43mgraph_3D\u001b[49m\n",
      "\u001b[1;31mNameError\u001b[0m: name 'graph_3D' is not defined"
     ]
    }
   ],
   "source": [
    "graph_3D"
   ]
  },
  {
   "cell_type": "code",
   "execution_count": 148,
   "metadata": {},
   "outputs": [
    {
     "ename": "UnpicklingError",
     "evalue": "Weights only load failed. This file can still be loaded, to do so you have two options, \u001b[1mdo those steps only if you trust the source of the checkpoint\u001b[0m. \n\t(1) In PyTorch 2.6, we changed the default value of the `weights_only` argument in `torch.load` from `False` to `True`. Re-running `torch.load` with `weights_only` set to `False` will likely succeed, but it can result in arbitrary code execution. Do it only if you got the file from a trusted source.\n\t(2) Alternatively, to load with `weights_only=True` please check the recommended steps in the following error message.\n\tWeightsUnpickler error: Unsupported global: GLOBAL numpy.core.multiarray._reconstruct was not an allowed global by default. Please use `torch.serialization.add_safe_globals([_reconstruct])` or the `torch.serialization.safe_globals([_reconstruct])` context manager to allowlist this global if you trust this class/function.\n\nCheck the documentation of torch.load to learn more about types accepted by default with weights_only https://pytorch.org/docs/stable/generated/torch.load.html.",
     "output_type": "error",
     "traceback": [
      "\u001b[1;31m---------------------------------------------------------------------------\u001b[0m",
      "\u001b[1;31mUnpicklingError\u001b[0m                           Traceback (most recent call last)",
      "Cell \u001b[1;32mIn[148], line 8\u001b[0m\n\u001b[0;32m      2\u001b[0m n_data \u001b[38;5;241m=\u001b[39m \u001b[38;5;241m2048\u001b[39m\n\u001b[0;32m      3\u001b[0m dataset_config \u001b[38;5;241m=\u001b[39m {\n\u001b[0;32m      4\u001b[0m     \u001b[38;5;124m\"\u001b[39m\u001b[38;5;124mcode_size\u001b[39m\u001b[38;5;124m\"\u001b[39m: \u001b[38;5;241m5\u001b[39m,\n\u001b[0;32m      5\u001b[0m     \u001b[38;5;124m\"\u001b[39m\u001b[38;5;124mrepetitions\u001b[39m\u001b[38;5;124m\"\u001b[39m: \u001b[38;5;241m2\u001b[39m,\n\u001b[0;32m      6\u001b[0m     \u001b[38;5;124m\"\u001b[39m\u001b[38;5;124mbeta\u001b[39m\u001b[38;5;124m\"\u001b[39m: \u001b[38;5;241m1\u001b[39m\n\u001b[0;32m      7\u001b[0m }\n\u001b[1;32m----> 8\u001b[0m \u001b[43msample_dataset\u001b[49m\u001b[43m(\u001b[49m\u001b[43mn_data\u001b[49m\u001b[43m,\u001b[49m\u001b[43m \u001b[49m\u001b[43mdataset_config\u001b[49m\u001b[43m,\u001b[49m\u001b[43m \u001b[49m\u001b[38;5;28;43;01mNone\u001b[39;49;00m\u001b[43m,\u001b[49m\u001b[43m \u001b[49m\u001b[43mseed\u001b[49m\u001b[38;5;241;43m=\u001b[39;49m\u001b[38;5;28;43;01mNone\u001b[39;49;00m\u001b[43m)\u001b[49m\n",
      "File \u001b[1;32m~\\Desktop\\projects\\mldec\\src\\mldec\\datasets\\reps_exp_rep_code_data.py:65\u001b[0m, in \u001b[0;36msample_dataset\u001b[1;34m(n_data, dataset_config, device, seed)\u001b[0m\n\u001b[0;32m     63\u001b[0m \u001b[38;5;66;03m# get the experimental data\u001b[39;00m\n\u001b[0;32m     64\u001b[0m fname \u001b[38;5;241m=\u001b[39m make_exp_dataset_name(code_size, repetitions, beta)\n\u001b[1;32m---> 65\u001b[0m X, y \u001b[38;5;241m=\u001b[39m \u001b[43mload_data\u001b[49m\u001b[43m(\u001b[49m\u001b[43mfname\u001b[49m\u001b[43m)\u001b[49m\n\u001b[0;32m     66\u001b[0m \u001b[38;5;66;03m# slicing to fit our datasize: FIXME: do this in a randomized way.\u001b[39;00m\n\u001b[0;32m     67\u001b[0m X \u001b[38;5;241m=\u001b[39m X[:n_data]\n",
      "File \u001b[1;32m~\\Desktop\\projects\\mldec\\src\\mldec\\datasets\\reps_exp_rep_code_data.py:26\u001b[0m, in \u001b[0;36mload_data\u001b[1;34m(fname)\u001b[0m\n\u001b[0;32m     24\u001b[0m \u001b[38;5;28;01mdef\u001b[39;00m\u001b[38;5;250m \u001b[39m\u001b[38;5;21mload_data\u001b[39m(fname):\n\u001b[0;32m     25\u001b[0m     \u001b[38;5;28;01mglobal\u001b[39;00m EXP_DATA_DIR\n\u001b[1;32m---> 26\u001b[0m     X \u001b[38;5;241m=\u001b[39m \u001b[43mtorch\u001b[49m\u001b[38;5;241;43m.\u001b[39;49m\u001b[43mload\u001b[49m\u001b[43m(\u001b[49m\u001b[43mos\u001b[49m\u001b[38;5;241;43m.\u001b[39;49m\u001b[43mpath\u001b[49m\u001b[38;5;241;43m.\u001b[39;49m\u001b[43mjoin\u001b[49m\u001b[43m(\u001b[49m\u001b[43mEXP_DATA_DIR\u001b[49m\u001b[43m,\u001b[49m\u001b[43m \u001b[49m\u001b[43mfname\u001b[49m\u001b[43m \u001b[49m\u001b[38;5;241;43m+\u001b[39;49m\u001b[43m \u001b[49m\u001b[38;5;124;43m\"\u001b[39;49m\u001b[38;5;124;43m_X.pt\u001b[39;49m\u001b[38;5;124;43m\"\u001b[39;49m\u001b[43m)\u001b[49m\u001b[43m)\u001b[49m\n\u001b[0;32m     27\u001b[0m     Y \u001b[38;5;241m=\u001b[39m torch\u001b[38;5;241m.\u001b[39mload(os\u001b[38;5;241m.\u001b[39mpath\u001b[38;5;241m.\u001b[39mjoin(EXP_DATA_DIR, fname \u001b[38;5;241m+\u001b[39m \u001b[38;5;124m\"\u001b[39m\u001b[38;5;124m_Y.pt\u001b[39m\u001b[38;5;124m\"\u001b[39m))\n\u001b[0;32m     28\u001b[0m     \u001b[38;5;28;01mreturn\u001b[39;00m X, Y\n",
      "File \u001b[1;32mc:\\Users\\peter\\Desktop\\projects\\mldec\\.venv\\Lib\\site-packages\\torch\\serialization.py:1494\u001b[0m, in \u001b[0;36mload\u001b[1;34m(f, map_location, pickle_module, weights_only, mmap, **pickle_load_args)\u001b[0m\n\u001b[0;32m   1487\u001b[0m         \u001b[38;5;28;01mreturn\u001b[39;00m _legacy_load(\n\u001b[0;32m   1488\u001b[0m             opened_file,\n\u001b[0;32m   1489\u001b[0m             map_location,\n\u001b[0;32m   1490\u001b[0m             _weights_only_unpickler,\n\u001b[0;32m   1491\u001b[0m             \u001b[38;5;241m*\u001b[39m\u001b[38;5;241m*\u001b[39mpickle_load_args,\n\u001b[0;32m   1492\u001b[0m         )\n\u001b[0;32m   1493\u001b[0m     \u001b[38;5;28;01mexcept\u001b[39;00m pickle\u001b[38;5;241m.\u001b[39mUnpicklingError \u001b[38;5;28;01mas\u001b[39;00m e:\n\u001b[1;32m-> 1494\u001b[0m         \u001b[38;5;28;01mraise\u001b[39;00m pickle\u001b[38;5;241m.\u001b[39mUnpicklingError(_get_wo_message(\u001b[38;5;28mstr\u001b[39m(e))) \u001b[38;5;28;01mfrom\u001b[39;00m\u001b[38;5;250m \u001b[39m\u001b[38;5;28;01mNone\u001b[39;00m\n\u001b[0;32m   1495\u001b[0m \u001b[38;5;28;01mreturn\u001b[39;00m _legacy_load(\n\u001b[0;32m   1496\u001b[0m     opened_file, map_location, pickle_module, \u001b[38;5;241m*\u001b[39m\u001b[38;5;241m*\u001b[39mpickle_load_args\n\u001b[0;32m   1497\u001b[0m )\n",
      "\u001b[1;31mUnpicklingError\u001b[0m: Weights only load failed. This file can still be loaded, to do so you have two options, \u001b[1mdo those steps only if you trust the source of the checkpoint\u001b[0m. \n\t(1) In PyTorch 2.6, we changed the default value of the `weights_only` argument in `torch.load` from `False` to `True`. Re-running `torch.load` with `weights_only` set to `False` will likely succeed, but it can result in arbitrary code execution. Do it only if you got the file from a trusted source.\n\t(2) Alternatively, to load with `weights_only=True` please check the recommended steps in the following error message.\n\tWeightsUnpickler error: Unsupported global: GLOBAL numpy.core.multiarray._reconstruct was not an allowed global by default. Please use `torch.serialization.add_safe_globals([_reconstruct])` or the `torch.serialization.safe_globals([_reconstruct])` context manager to allowlist this global if you trust this class/function.\n\nCheck the documentation of torch.load to learn more about types accepted by default with weights_only https://pytorch.org/docs/stable/generated/torch.load.html."
     ]
    }
   ],
   "source": []
  },
  {
   "cell_type": "code",
   "execution_count": 145,
   "metadata": {},
   "outputs": [
    {
     "data": {
      "text/plain": [
       "array([[0, 0, 0, 0, 0],\n",
       "       [0, 0, 1, 1, 0],\n",
       "       [0, 0, 0, 0, 0],\n",
       "       [0, 0, 1, 1, 0],\n",
       "       [0, 0, 0, 0, 0],\n",
       "       [0, 1, 0, 0, 1],\n",
       "       [0, 0, 0, 0, 0],\n",
       "       [0, 0, 0, 0, 0]], dtype=uint8)"
      ]
     },
     "execution_count": 145,
     "metadata": {},
     "output_type": "execute_result"
    }
   ],
   "source": [
    "syndrome_2D"
   ]
  },
  {
   "cell_type": "code",
   "execution_count": 143,
   "metadata": {},
   "outputs": [
    {
     "data": {
      "text/plain": [
       "[array([[1., 2.],\n",
       "        [1., 3.],\n",
       "        [3., 2.],\n",
       "        [3., 3.],\n",
       "        [5., 1.],\n",
       "        [5., 4.]], dtype=float32),\n",
       " array([[0, 0, 0, 0, 0, 1, 1, 1, 1, 1, 2, 2, 2, 2, 2, 3, 3, 3, 3, 3, 4, 4,\n",
       "         4, 4, 4, 5, 5, 5, 5, 5],\n",
       "        [1, 2, 3, 4, 5, 0, 2, 3, 4, 5, 0, 1, 3, 4, 5, 0, 1, 2, 4, 5, 0, 1,\n",
       "         2, 3, 5, 0, 1, 2, 3, 4]], dtype=int64),\n",
       " array([[1.        ],\n",
       "        [0.25      ],\n",
       "        [0.25      ],\n",
       "        [0.0625    ],\n",
       "        [0.0625    ],\n",
       "        [1.        ],\n",
       "        [0.25      ],\n",
       "        [0.25      ],\n",
       "        [0.0625    ],\n",
       "        [0.0625    ],\n",
       "        [0.25      ],\n",
       "        [0.25      ],\n",
       "        [1.        ],\n",
       "        [0.25      ],\n",
       "        [0.25      ],\n",
       "        [0.25      ],\n",
       "        [0.25      ],\n",
       "        [1.        ],\n",
       "        [0.25      ],\n",
       "        [0.25      ],\n",
       "        [0.0625    ],\n",
       "        [0.0625    ],\n",
       "        [0.25      ],\n",
       "        [0.25      ],\n",
       "        [0.11111111],\n",
       "        [0.0625    ],\n",
       "        [0.0625    ],\n",
       "        [0.25      ],\n",
       "        [0.25      ],\n",
       "        [0.11111111]], dtype=float32),\n",
       " array([[1.]], dtype=float32)]"
      ]
     },
     "execution_count": 143,
     "metadata": {},
     "output_type": "execute_result"
    }
   ],
   "source": [
    "\n",
    "graph_2D"
   ]
  },
  {
   "cell_type": "code",
   "execution_count": 144,
   "metadata": {},
   "outputs": [
    {
     "data": {
      "text/plain": [
       "array([[1., 0., 0., 1., 2.],\n",
       "       [1., 0., 0., 1., 3.],\n",
       "       [1., 0., 0., 3., 2.],\n",
       "       [1., 0., 0., 3., 3.],\n",
       "       [1., 0., 0., 5., 1.],\n",
       "       [1., 0., 0., 5., 4.],\n",
       "       [0., 1., 1., 1., 2.],\n",
       "       [0., 1., 1., 1., 4.],\n",
       "       [1., 0., 1., 2., 1.],\n",
       "       [1., 0., 1., 2., 2.],\n",
       "       [0., 1., 1., 3., 1.],\n",
       "       [0., 1., 1., 3., 4.],\n",
       "       [1., 0., 1., 4., 1.],\n",
       "       [1., 0., 1., 4., 2.],\n",
       "       [0., 1., 1., 5., 2.],\n",
       "       [0., 1., 1., 5., 4.],\n",
       "       [1., 0., 1., 6., 1.],\n",
       "       [1., 0., 1., 6., 2.],\n",
       "       [1., 0., 1., 6., 3.],\n",
       "       [1., 0., 1., 6., 4.],\n",
       "       [0., 1., 2., 0., 0.],\n",
       "       [0., 1., 2., 0., 1.],\n",
       "       [0., 1., 2., 0., 2.],\n",
       "       [1., 0., 2., 1., 1.],\n",
       "       [1., 0., 2., 1., 2.],\n",
       "       [0., 1., 2., 4., 3.],\n",
       "       [1., 0., 2., 5., 1.],\n",
       "       [1., 0., 2., 5., 3.],\n",
       "       [0., 1., 3., 1., 0.],\n",
       "       [0., 1., 3., 1., 2.],\n",
       "       [0., 1., 3., 1., 3.],\n",
       "       [1., 0., 3., 2., 1.],\n",
       "       [1., 0., 3., 2., 4.],\n",
       "       [1., 0., 3., 4., 3.],\n",
       "       [1., 0., 3., 4., 4.],\n",
       "       [0., 1., 3., 5., 0.],\n",
       "       [0., 1., 3., 5., 1.],\n",
       "       [0., 1., 3., 5., 2.],\n",
       "       [0., 1., 3., 5., 4.],\n",
       "       [1., 0., 3., 6., 2.],\n",
       "       [1., 0., 3., 6., 3.],\n",
       "       [0., 1., 4., 0., 1.],\n",
       "       [0., 1., 4., 0., 2.],\n",
       "       [1., 0., 4., 1., 1.],\n",
       "       [1., 0., 4., 1., 2.],\n",
       "       [0., 1., 4., 2., 1.],\n",
       "       [0., 1., 4., 2., 2.],\n",
       "       [0., 1., 4., 2., 3.],\n",
       "       [0., 1., 4., 2., 4.],\n",
       "       [1., 0., 4., 3., 1.],\n",
       "       [1., 0., 4., 3., 2.],\n",
       "       [0., 1., 4., 4., 2.],\n",
       "       [0., 1., 4., 4., 3.],\n",
       "       [1., 0., 4., 5., 2.],\n",
       "       [1., 0., 4., 5., 3.],\n",
       "       [0., 1., 4., 6., 3.],\n",
       "       [0., 1., 4., 6., 4.],\n",
       "       [0., 1., 5., 1., 0.],\n",
       "       [0., 1., 5., 1., 1.],\n",
       "       [0., 1., 5., 1., 3.],\n",
       "       [0., 1., 5., 1., 4.],\n",
       "       [1., 0., 5., 2., 1.],\n",
       "       [1., 0., 5., 2., 2.],\n",
       "       [0., 1., 5., 3., 0.],\n",
       "       [0., 1., 5., 3., 3.],\n",
       "       [0., 1., 5., 3., 4.],\n",
       "       [0., 1., 5., 5., 0.],\n",
       "       [0., 1., 5., 5., 1.],\n",
       "       [0., 1., 5., 5., 2.],\n",
       "       [0., 1., 5., 5., 4.],\n",
       "       [1., 0., 5., 6., 2.],\n",
       "       [1., 0., 5., 6., 3.],\n",
       "       [0., 1., 5., 7., 1.],\n",
       "       [0., 1., 5., 7., 2.],\n",
       "       [0., 1., 5., 7., 3.],\n",
       "       [0., 1., 5., 7., 4.],\n",
       "       [0., 1., 6., 0., 0.],\n",
       "       [0., 1., 6., 0., 3.],\n",
       "       [1., 0., 6., 3., 1.],\n",
       "       [1., 0., 6., 3., 2.],\n",
       "       [0., 1., 6., 4., 1.],\n",
       "       [0., 1., 6., 6., 0.],\n",
       "       [0., 1., 6., 6., 1.],\n",
       "       [0., 1., 6., 6., 3.],\n",
       "       [1., 0., 7., 2., 1.],\n",
       "       [1., 0., 7., 2., 2.],\n",
       "       [1., 0., 7., 4., 1.],\n",
       "       [1., 0., 7., 4., 3.],\n",
       "       [1., 0., 7., 6., 2.],\n",
       "       [1., 0., 7., 6., 3.]])"
      ]
     },
     "execution_count": 144,
     "metadata": {},
     "output_type": "execute_result"
    }
   ],
   "source": [
    "X"
   ]
  },
  {
   "cell_type": "code",
   "execution_count": 113,
   "metadata": {},
   "outputs": [
    {
     "data": {
      "text/plain": [
       "[array([[1., 1., 1.],\n",
       "        [1., 1., 3.]], dtype=float32),\n",
       " array([[0, 1],\n",
       "        [1, 0]], dtype=int64),\n",
       " array([[0.25],\n",
       "        [0.25]], dtype=float32),\n",
       " array([[0.]], dtype=float32)]"
      ]
     },
     "execution_count": 113,
     "metadata": {},
     "output_type": "execute_result"
    }
   ],
   "source": [
    "graph_2D"
   ]
  },
  {
   "cell_type": "code",
   "execution_count": null,
   "metadata": {},
   "outputs": [
    {
     "name": "stdout",
     "output_type": "stream",
     "text": [
      "[[0 0 1 1 1 1 1 1 2 2 2 2 2 2 2 2]\n",
      " [0 0 1 1 1 1 1 1 2 2 2 2 2 2 2 2]\n",
      " [1 1 0 0 0 0 0 0 1 1 1 1 1 1 1 1]\n",
      " [1 1 0 0 0 0 0 0 1 1 1 1 1 1 1 1]\n",
      " [1 1 0 0 0 0 0 0 1 1 1 1 1 1 1 1]\n",
      " [1 1 0 0 0 0 0 0 1 1 1 1 1 1 1 1]\n",
      " [1 1 0 0 0 0 0 0 1 1 1 1 1 1 1 1]\n",
      " [1 1 0 0 0 0 0 0 1 1 1 1 1 1 1 1]\n",
      " [2 2 1 1 1 1 1 1 0 0 0 0 0 0 0 0]\n",
      " [2 2 1 1 1 1 1 1 0 0 0 0 0 0 0 0]\n",
      " [2 2 1 1 1 1 1 1 0 0 0 0 0 0 0 0]\n",
      " [2 2 1 1 1 1 1 1 0 0 0 0 0 0 0 0]\n",
      " [2 2 1 1 1 1 1 1 0 0 0 0 0 0 0 0]\n",
      " [2 2 1 1 1 1 1 1 0 0 0 0 0 0 0 0]\n",
      " [2 2 1 1 1 1 1 1 0 0 0 0 0 0 0 0]\n",
      " [2 2 1 1 1 1 1 1 0 0 0 0 0 0 0 0]]\n",
      "[[0 0 0 0 1 1 2 2 1 1 0 0 1 1 1 1]\n",
      " [0 0 0 0 1 1 2 2 1 1 0 0 1 1 1 1]\n",
      " [0 0 0 0 1 1 2 2 1 1 0 0 1 1 1 1]\n",
      " [0 0 0 0 1 1 2 2 1 1 0 0 1 1 1 1]\n",
      " [1 1 1 1 0 0 1 1 2 2 1 1 0 0 0 0]\n",
      " [1 1 1 1 0 0 1 1 2 2 1 1 0 0 0 0]\n",
      " [2 2 2 2 1 1 0 0 3 3 2 2 1 1 1 1]\n",
      " [2 2 2 2 1 1 0 0 3 3 2 2 1 1 1 1]\n",
      " [1 1 1 1 2 2 3 3 0 0 1 1 2 2 2 2]\n",
      " [1 1 1 1 2 2 3 3 0 0 1 1 2 2 2 2]\n",
      " [0 0 0 0 1 1 2 2 1 1 0 0 1 1 1 1]\n",
      " [0 0 0 0 1 1 2 2 1 1 0 0 1 1 1 1]\n",
      " [1 1 1 1 0 0 1 1 2 2 1 1 0 0 0 0]\n",
      " [1 1 1 1 0 0 1 1 2 2 1 1 0 0 0 0]\n",
      " [1 1 1 1 0 0 1 1 2 2 1 1 0 0 0 0]\n",
      " [1 1 1 1 0 0 1 1 2 2 1 1 0 0 0 0]]\n",
      "[[0 2 0 2 0 2 1 1 1 2 0 2 1 0 1 2]\n",
      " [2 0 2 0 2 0 3 1 1 0 2 0 3 2 1 0]\n",
      " [0 2 0 2 0 2 1 1 1 2 0 2 1 0 1 2]\n",
      " [2 0 2 0 2 0 3 1 1 0 2 0 3 2 1 0]\n",
      " [0 2 0 2 0 2 1 1 1 2 0 2 1 0 1 2]\n",
      " [2 0 2 0 2 0 3 1 1 0 2 0 3 2 1 0]\n",
      " [1 3 1 3 1 3 0 2 2 3 1 3 0 1 2 3]\n",
      " [1 1 1 1 1 1 2 0 0 1 1 1 2 1 0 1]\n",
      " [1 1 1 1 1 1 2 0 0 1 1 1 2 1 0 1]\n",
      " [2 0 2 0 2 0 3 1 1 0 2 0 3 2 1 0]\n",
      " [0 2 0 2 0 2 1 1 1 2 0 2 1 0 1 2]\n",
      " [2 0 2 0 2 0 3 1 1 0 2 0 3 2 1 0]\n",
      " [1 3 1 3 1 3 0 2 2 3 1 3 0 1 2 3]\n",
      " [0 2 0 2 0 2 1 1 1 2 0 2 1 0 1 2]\n",
      " [1 1 1 1 1 1 2 0 0 1 1 1 2 1 0 1]\n",
      " [2 0 2 0 2 0 3 1 1 0 2 0 3 2 1 0]]\n",
      "[[0 2 1 2 1 2 2 2 2 2 2 2 2 2 2 2]\n",
      " [2 0 2 1 2 1 3 2 2 2 2 2 3 2 2 2]\n",
      " [1 2 0 2 1 2 2 2 1 2 1 2 1 1 1 2]\n",
      " [2 1 2 0 2 1 3 2 1 1 2 1 3 2 1 1]\n",
      " [1 2 1 2 0 2 1 1 2 2 1 2 1 1 1 2]\n",
      " [2 1 2 1 2 0 3 1 2 2 2 1 3 2 1 1]\n",
      " [2 3 2 3 1 3 0 2 3 3 2 3 1 1 2 3]\n",
      " [2 2 2 2 1 1 2 0 3 3 2 2 2 1 1 1]\n",
      " [2 2 1 1 2 2 3 3 0 1 1 1 2 2 2 2]\n",
      " [2 2 2 1 2 2 3 3 1 0 2 1 3 2 2 2]\n",
      " [2 2 1 2 1 2 2 2 1 2 0 2 1 1 1 2]\n",
      " [2 2 2 1 2 1 3 2 1 1 2 0 3 2 1 1]\n",
      " [2 3 1 3 1 3 1 2 2 3 1 3 0 1 2 3]\n",
      " [2 2 1 2 1 2 1 1 2 2 1 2 1 0 1 2]\n",
      " [2 2 1 1 1 1 2 1 2 2 1 1 2 1 0 1]\n",
      " [2 2 2 1 2 1 3 1 2 2 2 1 3 2 1 0]]\n"
     ]
    },
    {
     "ename": "ValueError",
     "evalue": "stop here",
     "output_type": "error",
     "traceback": [
      "\u001b[1;31m---------------------------------------------------------------------------\u001b[0m",
      "\u001b[1;31mValueError\u001b[0m                                Traceback (most recent call last)",
      "Cell \u001b[1;32mIn[106], line 22\u001b[0m\n\u001b[0;32m     20\u001b[0m Adj \u001b[38;5;241m=\u001b[39m np\u001b[38;5;241m.\u001b[39mmaximum\u001b[38;5;241m.\u001b[39mreduce([y_dist, x_dist, t_dist])\n\u001b[0;32m     21\u001b[0m \u001b[38;5;28mprint\u001b[39m(Adj)\n\u001b[1;32m---> 22\u001b[0m \u001b[38;5;28;01mraise\u001b[39;00m \u001b[38;5;167;01mValueError\u001b[39;00m(\u001b[38;5;124m\"\u001b[39m\u001b[38;5;124mstop here\u001b[39m\u001b[38;5;124m\"\u001b[39m)\n\u001b[0;32m     23\u001b[0m \u001b[38;5;66;03m# set diagonal elements to nonzero to circumvent division by zero\u001b[39;00m\n\u001b[0;32m     24\u001b[0m np\u001b[38;5;241m.\u001b[39mfill_diagonal(Adj, \u001b[38;5;241m1\u001b[39m)\n",
      "\u001b[1;31mValueError\u001b[0m: stop here"
     ]
    }
   ],
   "source": [
    "defects, defect_indices_triple = get_node_list_3D(syndrome_3D)\n",
    "X = get_node_feature_matrix(defects, defect_indices_triple, num_node_features = 5)\n",
    "power = 1.\n",
    "\n",
    "# construct the adjacency matrix!\n",
    "n_defects = len(defects)\n",
    "y_coord = defect_indices_triple[0].reshape(n_defects, 1)\n",
    "x_coord = defect_indices_triple[1].reshape(n_defects, 1)\n",
    "t_coord = defect_indices_triple[2].reshape(n_defects, 1)\n",
    "\n",
    "y_dist = np.abs(y_coord.T - y_coord) # yy^T\n",
    "x_dist = np.abs(x_coord.T - x_coord) # xx^T\n",
    "t_dist = np.abs(t_coord.T - t_coord) # tt^T\n",
    "print(y_dist)\n",
    "print(x_dist)\n",
    "print(t_dist)\n",
    "\n",
    "\n",
    "# inverse square of the supremum norm between two nodes\n",
    "Adj = np.maximum.reduce([y_dist, x_dist, t_dist]) # this is a three-way maximum between three 2D arraysd...\n",
    "print(Adj)\n",
    "# set diagonal elements to nonzero to circumvent division by zero\n",
    "np.fill_diagonal(Adj, 1)\n",
    "# scale the edge weights\n",
    "Adj = 1./Adj ** power\n",
    "# set diagonal elements to zero to exclude self loops\n",
    "np.fill_diagonal(Adj, 0)\n",
    "\n",
    "# remove all but the m_nearest neighbours\n",
    "if m_nearest_nodes is not None:\n",
    "    for ix, row in enumerate(Adj.T):\n",
    "        # Do not remove edges if a node has (degree <= m)\n",
    "        if np.count_nonzero(row) <= m_nearest_nodes:\n",
    "            continue\n",
    "        # Get indices of all nodes that are not the m nearest\n",
    "        # Remove these edges by setting elements to 0 in adjacency matrix\n",
    "        Adj.T[ix, np.argpartition(row,-m_nearest_nodes)[:-m_nearest_nodes]] = 0.\n",
    "\n",
    "Adj = np.maximum(Adj, Adj.T) # Make sure for each edge i->j there is edge j->i\n",
    "n_edges = np.count_nonzero(Adj) # Get number of edges\n",
    "\n",
    "# get the edge indices:\n",
    "edge_index = np.nonzero(Adj)\n",
    "edge_attr = Adj[edge_index].reshape(n_edges, 1)\n",
    "edge_index = np.array(edge_index)\n",
    "\n",
    "if target is not None:\n",
    "    y = target.reshape(1, 1)\n",
    "else:\n",
    "    y = None\n",
    "\n",
    "return [X.astype(np.float32), edge_index.astype(np.int64,), edge_attr.astype(np.float32), y.astype(np.float32)]"
   ]
  },
  {
   "cell_type": "code",
   "execution_count": 104,
   "metadata": {},
   "outputs": [
    {
     "data": {
      "text/plain": [
       "[array([[1., 0., 0., 1., 1.],\n",
       "        [1., 0., 0., 1., 3.],\n",
       "        [0., 1., 1., 1., 1.],\n",
       "        [0., 1., 1., 1., 3.],\n",
       "        [1., 0., 1., 2., 1.],\n",
       "        [1., 0., 1., 2., 3.],\n",
       "        [0., 1., 1., 3., 0.],\n",
       "        [0., 1., 1., 3., 2.],\n",
       "        [0., 1., 2., 0., 2.],\n",
       "        [0., 1., 2., 0., 3.],\n",
       "        [1., 0., 2., 1., 1.],\n",
       "        [1., 0., 2., 1., 3.],\n",
       "        [0., 1., 2., 2., 0.],\n",
       "        [0., 1., 2., 2., 1.],\n",
       "        [0., 1., 2., 2., 2.],\n",
       "        [0., 1., 2., 2., 3.]], dtype=float32),\n",
       " array([[ 0,  0,  0,  0,  0,  0,  0,  0,  0,  0,  0,  0,  0,  0,  0,  1,\n",
       "          1,  1,  1,  1,  1,  1,  1,  1,  1,  1,  1,  1,  1,  1,  2,  2,\n",
       "          2,  2,  2,  2,  2,  2,  2,  2,  2,  2,  2,  2,  2,  3,  3,  3,\n",
       "          3,  3,  3,  3,  3,  3,  3,  3,  3,  3,  3,  3,  4,  4,  4,  4,\n",
       "          4,  4,  4,  4,  4,  4,  4,  4,  4,  4,  4,  5,  5,  5,  5,  5,\n",
       "          5,  5,  5,  5,  5,  5,  5,  5,  5,  5,  6,  6,  6,  6,  6,  6,\n",
       "          6,  6,  6,  6,  6,  6,  6,  6,  6,  7,  7,  7,  7,  7,  7,  7,\n",
       "          7,  7,  7,  7,  7,  7,  7,  7,  8,  8,  8,  8,  8,  8,  8,  8,\n",
       "          8,  8,  8,  8,  8,  8,  8,  9,  9,  9,  9,  9,  9,  9,  9,  9,\n",
       "          9,  9,  9,  9,  9,  9, 10, 10, 10, 10, 10, 10, 10, 10, 10, 10,\n",
       "         10, 10, 10, 10, 10, 11, 11, 11, 11, 11, 11, 11, 11, 11, 11, 11,\n",
       "         11, 11, 11, 11, 12, 12, 12, 12, 12, 12, 12, 12, 12, 12, 12, 12,\n",
       "         12, 12, 12, 13, 13, 13, 13, 13, 13, 13, 13, 13, 13, 13, 13, 13,\n",
       "         13, 13, 14, 14, 14, 14, 14, 14, 14, 14, 14, 14, 14, 14, 14, 14,\n",
       "         14, 15, 15, 15, 15, 15, 15, 15, 15, 15, 15, 15, 15, 15, 15, 15],\n",
       "        [ 1,  2,  3,  4,  5,  6,  7,  8,  9, 10, 11, 12, 13, 14, 15,  0,\n",
       "          2,  3,  4,  5,  6,  7,  8,  9, 10, 11, 12, 13, 14, 15,  0,  1,\n",
       "          3,  4,  5,  6,  7,  8,  9, 10, 11, 12, 13, 14, 15,  0,  1,  2,\n",
       "          4,  5,  6,  7,  8,  9, 10, 11, 12, 13, 14, 15,  0,  1,  2,  3,\n",
       "          5,  6,  7,  8,  9, 10, 11, 12, 13, 14, 15,  0,  1,  2,  3,  4,\n",
       "          6,  7,  8,  9, 10, 11, 12, 13, 14, 15,  0,  1,  2,  3,  4,  5,\n",
       "          7,  8,  9, 10, 11, 12, 13, 14, 15,  0,  1,  2,  3,  4,  5,  6,\n",
       "          8,  9, 10, 11, 12, 13, 14, 15,  0,  1,  2,  3,  4,  5,  6,  7,\n",
       "          9, 10, 11, 12, 13, 14, 15,  0,  1,  2,  3,  4,  5,  6,  7,  8,\n",
       "         10, 11, 12, 13, 14, 15,  0,  1,  2,  3,  4,  5,  6,  7,  8,  9,\n",
       "         11, 12, 13, 14, 15,  0,  1,  2,  3,  4,  5,  6,  7,  8,  9, 10,\n",
       "         12, 13, 14, 15,  0,  1,  2,  3,  4,  5,  6,  7,  8,  9, 10, 11,\n",
       "         13, 14, 15,  0,  1,  2,  3,  4,  5,  6,  7,  8,  9, 10, 11, 12,\n",
       "         14, 15,  0,  1,  2,  3,  4,  5,  6,  7,  8,  9, 10, 11, 12, 13,\n",
       "         15,  0,  1,  2,  3,  4,  5,  6,  7,  8,  9, 10, 11, 12, 13, 14]],\n",
       "       dtype=int64),\n",
       " array([[0.25      ],\n",
       "        [1.        ],\n",
       "        [0.25      ],\n",
       "        [1.        ],\n",
       "        [0.25      ],\n",
       "        [0.25      ],\n",
       "        [0.25      ],\n",
       "        [0.25      ],\n",
       "        [0.25      ],\n",
       "        [0.25      ],\n",
       "        [0.25      ],\n",
       "        [0.25      ],\n",
       "        [0.25      ],\n",
       "        [0.25      ],\n",
       "        [0.25      ],\n",
       "        [0.25      ],\n",
       "        [0.25      ],\n",
       "        [1.        ],\n",
       "        [0.25      ],\n",
       "        [1.        ],\n",
       "        [0.11111111],\n",
       "        [0.25      ],\n",
       "        [0.25      ],\n",
       "        [0.25      ],\n",
       "        [0.25      ],\n",
       "        [0.25      ],\n",
       "        [0.11111111],\n",
       "        [0.25      ],\n",
       "        [0.25      ],\n",
       "        [0.25      ],\n",
       "        [1.        ],\n",
       "        [0.25      ],\n",
       "        [0.25      ],\n",
       "        [1.        ],\n",
       "        [0.25      ],\n",
       "        [0.25      ],\n",
       "        [0.25      ],\n",
       "        [1.        ],\n",
       "        [0.25      ],\n",
       "        [1.        ],\n",
       "        [0.25      ],\n",
       "        [1.        ],\n",
       "        [1.        ],\n",
       "        [1.        ],\n",
       "        [0.25      ],\n",
       "        [0.25      ],\n",
       "        [1.        ],\n",
       "        [0.25      ],\n",
       "        [0.25      ],\n",
       "        [1.        ],\n",
       "        [0.11111111],\n",
       "        [0.25      ],\n",
       "        [1.        ],\n",
       "        [1.        ],\n",
       "        [0.25      ],\n",
       "        [1.        ],\n",
       "        [0.11111111],\n",
       "        [0.25      ],\n",
       "        [1.        ],\n",
       "        [1.        ],\n",
       "        [1.        ],\n",
       "        [0.25      ],\n",
       "        [1.        ],\n",
       "        [0.25      ],\n",
       "        [0.25      ],\n",
       "        [1.        ],\n",
       "        [1.        ],\n",
       "        [0.25      ],\n",
       "        [0.25      ],\n",
       "        [1.        ],\n",
       "        [0.25      ],\n",
       "        [1.        ],\n",
       "        [1.        ],\n",
       "        [1.        ],\n",
       "        [0.25      ],\n",
       "        [0.25      ],\n",
       "        [1.        ],\n",
       "        [0.25      ],\n",
       "        [1.        ],\n",
       "        [0.25      ],\n",
       "        [0.11111111],\n",
       "        [1.        ],\n",
       "        [0.25      ],\n",
       "        [0.25      ],\n",
       "        [0.25      ],\n",
       "        [1.        ],\n",
       "        [0.11111111],\n",
       "        [0.25      ],\n",
       "        [1.        ],\n",
       "        [1.        ],\n",
       "        [0.25      ],\n",
       "        [0.11111111],\n",
       "        [0.25      ],\n",
       "        [0.11111111],\n",
       "        [1.        ],\n",
       "        [0.11111111],\n",
       "        [0.25      ],\n",
       "        [0.11111111],\n",
       "        [0.11111111],\n",
       "        [0.25      ],\n",
       "        [0.11111111],\n",
       "        [1.        ],\n",
       "        [1.        ],\n",
       "        [0.25      ],\n",
       "        [0.11111111],\n",
       "        [0.25      ],\n",
       "        [0.25      ],\n",
       "        [0.25      ],\n",
       "        [0.25      ],\n",
       "        [1.        ],\n",
       "        [1.        ],\n",
       "        [0.25      ],\n",
       "        [0.11111111],\n",
       "        [0.11111111],\n",
       "        [0.25      ],\n",
       "        [0.25      ],\n",
       "        [0.25      ],\n",
       "        [1.        ],\n",
       "        [1.        ],\n",
       "        [1.        ],\n",
       "        [0.25      ],\n",
       "        [0.25      ],\n",
       "        [1.        ],\n",
       "        [1.        ],\n",
       "        [0.25      ],\n",
       "        [0.25      ],\n",
       "        [0.11111111],\n",
       "        [0.11111111],\n",
       "        [1.        ],\n",
       "        [1.        ],\n",
       "        [1.        ],\n",
       "        [0.25      ],\n",
       "        [0.25      ],\n",
       "        [0.25      ],\n",
       "        [0.25      ],\n",
       "        [0.25      ],\n",
       "        [0.25      ],\n",
       "        [0.25      ],\n",
       "        [1.        ],\n",
       "        [0.25      ],\n",
       "        [0.25      ],\n",
       "        [0.11111111],\n",
       "        [0.11111111],\n",
       "        [1.        ],\n",
       "        [0.25      ],\n",
       "        [1.        ],\n",
       "        [0.11111111],\n",
       "        [0.25      ],\n",
       "        [0.25      ],\n",
       "        [0.25      ],\n",
       "        [0.25      ],\n",
       "        [0.25      ],\n",
       "        [1.        ],\n",
       "        [0.25      ],\n",
       "        [1.        ],\n",
       "        [0.25      ],\n",
       "        [0.25      ],\n",
       "        [0.25      ],\n",
       "        [1.        ],\n",
       "        [0.25      ],\n",
       "        [0.25      ],\n",
       "        [1.        ],\n",
       "        [1.        ],\n",
       "        [1.        ],\n",
       "        [0.25      ],\n",
       "        [0.25      ],\n",
       "        [0.25      ],\n",
       "        [0.25      ],\n",
       "        [1.        ],\n",
       "        [0.25      ],\n",
       "        [1.        ],\n",
       "        [0.11111111],\n",
       "        [0.25      ],\n",
       "        [1.        ],\n",
       "        [1.        ],\n",
       "        [0.25      ],\n",
       "        [0.11111111],\n",
       "        [0.25      ],\n",
       "        [1.        ],\n",
       "        [1.        ],\n",
       "        [0.25      ],\n",
       "        [0.11111111],\n",
       "        [1.        ],\n",
       "        [0.11111111],\n",
       "        [1.        ],\n",
       "        [0.11111111],\n",
       "        [1.        ],\n",
       "        [0.25      ],\n",
       "        [0.25      ],\n",
       "        [0.11111111],\n",
       "        [1.        ],\n",
       "        [0.11111111],\n",
       "        [1.        ],\n",
       "        [0.25      ],\n",
       "        [0.11111111],\n",
       "        [0.25      ],\n",
       "        [0.25      ],\n",
       "        [1.        ],\n",
       "        [0.25      ],\n",
       "        [1.        ],\n",
       "        [0.25      ],\n",
       "        [1.        ],\n",
       "        [1.        ],\n",
       "        [0.25      ],\n",
       "        [0.25      ],\n",
       "        [1.        ],\n",
       "        [0.25      ],\n",
       "        [1.        ],\n",
       "        [1.        ],\n",
       "        [0.25      ],\n",
       "        [0.25      ],\n",
       "        [0.25      ],\n",
       "        [1.        ],\n",
       "        [1.        ],\n",
       "        [1.        ],\n",
       "        [1.        ],\n",
       "        [0.25      ],\n",
       "        [1.        ],\n",
       "        [0.25      ],\n",
       "        [0.25      ],\n",
       "        [1.        ],\n",
       "        [1.        ],\n",
       "        [0.25      ],\n",
       "        [1.        ],\n",
       "        [1.        ],\n",
       "        [0.25      ],\n",
       "        [0.25      ],\n",
       "        [0.25      ],\n",
       "        [1.        ],\n",
       "        [0.25      ],\n",
       "        [1.        ],\n",
       "        [0.11111111],\n",
       "        [1.        ],\n",
       "        [0.25      ],\n",
       "        [0.25      ],\n",
       "        [0.25      ],\n",
       "        [1.        ],\n",
       "        [0.11111111],\n",
       "        [0.25      ],\n",
       "        [1.        ]], dtype=float32),\n",
       " array([[0.]], dtype=float32)]"
      ]
     },
     "execution_count": 104,
     "metadata": {},
     "output_type": "execute_result"
    }
   ],
   "source": [
    "graph"
   ]
  },
  {
   "cell_type": "code",
   "execution_count": 101,
   "metadata": {},
   "outputs": [
    {
     "data": {
      "text/plain": [
       "array([[0, 0, 0, 0, 0],\n",
       "       [0, 1, 0, 1, 0],\n",
       "       [0, 0, 0, 0, 0],\n",
       "       [0, 0, 0, 0, 0]], dtype=uint8)"
      ]
     },
     "execution_count": 101,
     "metadata": {},
     "output_type": "execute_result"
    }
   ],
   "source": [
    "syndrome_2D"
   ]
  },
  {
   "cell_type": "code",
   "execution_count": 99,
   "metadata": {},
   "outputs": [
    {
     "name": "stdout",
     "output_type": "stream",
     "text": [
      "[[1. 1. 1.]\n",
      " [1. 1. 3.]]\n"
     ]
    }
   ],
   "source": [
    "print(X_2D)"
   ]
  },
  {
   "cell_type": "code",
   "execution_count": 97,
   "metadata": {},
   "outputs": [
    {
     "name": "stdout",
     "output_type": "stream",
     "text": [
      "[[1. 0. 0. 1. 1.]\n",
      " [1. 0. 0. 1. 3.]\n",
      " [0. 1. 1. 1. 1.]\n",
      " [0. 1. 1. 1. 3.]\n",
      " [1. 0. 1. 2. 1.]\n",
      " [1. 0. 1. 2. 3.]\n",
      " [0. 1. 1. 3. 0.]\n",
      " [0. 1. 1. 3. 2.]\n",
      " [0. 1. 2. 0. 2.]\n",
      " [0. 1. 2. 0. 3.]\n",
      " [1. 0. 2. 1. 1.]\n",
      " [1. 0. 2. 1. 3.]\n",
      " [0. 1. 2. 2. 0.]\n",
      " [0. 1. 2. 2. 1.]\n",
      " [0. 1. 2. 2. 2.]\n",
      " [0. 1. 2. 2. 3.]]\n"
     ]
    }
   ],
   "source": [
    "print(X)"
   ]
  },
  {
   "cell_type": "code",
   "execution_count": 96,
   "metadata": {},
   "outputs": [
    {
     "data": {
      "text/plain": [
       "(array([1, 1], dtype=int64), array([1, 3], dtype=int64))"
      ]
     },
     "execution_count": 96,
     "metadata": {},
     "output_type": "execute_result"
    }
   ],
   "source": [
    "defect_indices_double"
   ]
  },
  {
   "cell_type": "code",
   "execution_count": 82,
   "metadata": {},
   "outputs": [
    {
     "name": "stdout",
     "output_type": "stream",
     "text": [
      "(array([0, 0, 1, 1, 1, 1, 1, 1, 2, 2, 2, 2, 2, 2, 2, 2], dtype=int64), array([1, 1, 1, 1, 2, 2, 3, 3, 0, 0, 1, 1, 2, 2, 2, 2], dtype=int64), array([1, 3, 1, 3, 1, 3, 0, 2, 2, 3, 1, 3, 0, 1, 2, 3], dtype=int64))\n",
      "(array([1, 1], dtype=int64), array([1, 3], dtype=int64))\n"
     ]
    }
   ],
   "source": [
    "print(defect_indices_triple)\n",
    "print(defect_indices_double)"
   ]
  },
  {
   "cell_type": "code",
   "execution_count": 76,
   "metadata": {},
   "outputs": [
    {
     "data": {
      "text/plain": [
       "array([1, 1], dtype=uint8)"
      ]
     },
     "execution_count": 76,
     "metadata": {},
     "output_type": "execute_result"
    }
   ],
   "source": [
    "defects_2D"
   ]
  },
  {
   "cell_type": "code",
   "execution_count": 74,
   "metadata": {},
   "outputs": [
    {
     "data": {
      "text/plain": [
       "array([0, 0, 0, 0], dtype=uint8)"
      ]
     },
     "execution_count": 74,
     "metadata": {},
     "output_type": "execute_result"
    }
   ],
   "source": [
    "syndrome_2D[:,4]"
   ]
  },
  {
   "cell_type": "code",
   "execution_count": 64,
   "metadata": {},
   "outputs": [
    {
     "data": {
      "text/plain": [
       "(array([0, 0, 1, 1, 1, 1, 1, 1, 2, 2, 2, 2, 2, 2, 2, 2], dtype=int64),\n",
       " array([1, 1, 1, 1, 2, 2, 3, 3, 0, 0, 1, 1, 2, 2, 2, 2], dtype=int64),\n",
       " array([1, 3, 1, 3, 1, 3, 0, 2, 2, 3, 1, 3, 0, 1, 2, 3], dtype=int64))"
      ]
     },
     "execution_count": 64,
     "metadata": {},
     "output_type": "execute_result"
    }
   ],
   "source": [
    "defect_indices_triple"
   ]
  },
  {
   "cell_type": "code",
   "execution_count": 63,
   "metadata": {},
   "outputs": [
    {
     "data": {
      "text/plain": [
       "array([1, 1, 3, 3, 1, 1, 3, 3, 3, 3, 1, 1, 3, 3, 3, 3], dtype=uint8)"
      ]
     },
     "execution_count": 63,
     "metadata": {},
     "output_type": "execute_result"
    }
   ],
   "source": [
    "defects"
   ]
  },
  {
   "cell_type": "code",
   "execution_count": 28,
   "metadata": {},
   "outputs": [
    {
     "data": {
      "text/plain": [
       "(array([2, 2], dtype=int64),\n",
       " array([1, 1], dtype=int64),\n",
       " array([1, 2], dtype=int64))"
      ]
     },
     "execution_count": 28,
     "metadata": {},
     "output_type": "execute_result"
    }
   ],
   "source": [
    "defect_indices_triple \n",
    "# (rows, columns, timesteps) triple coordinates of all defects\n",
    "# each "
   ]
  },
  {
   "cell_type": "code",
   "execution_count": 29,
   "metadata": {},
   "outputs": [
    {
     "data": {
      "text/plain": [
       "array([1, 1], dtype=uint8)"
      ]
     },
     "execution_count": 29,
     "metadata": {},
     "output_type": "execute_result"
    }
   ],
   "source": [
    "defects"
   ]
  },
  {
   "cell_type": "code",
   "execution_count": 27,
   "metadata": {},
   "outputs": [
    {
     "name": "stdout",
     "output_type": "stream",
     "text": [
      "[[0 0 0 0]\n",
      " [0 0 0 0]\n",
      " [0 0 0 0]\n",
      " [0 0 0 0]]\n",
      "[[0 1 0 0]\n",
      " [0 3 1 3]\n",
      " [3 1 3 0]\n",
      " [0 0 1 0]]\n",
      "\n",
      "[[0 0 0 0]\n",
      " [0 0 0 0]\n",
      " [0 1 0 0]\n",
      " [0 0 0 0]]\n",
      "[[0 1 0 0]\n",
      " [0 3 1 3]\n",
      " [3 1 3 0]\n",
      " [0 0 1 0]]\n",
      "\n",
      "[[0 0 0 0]\n",
      " [0 0 0 0]\n",
      " [0 1 0 0]\n",
      " [0 0 0 0]]\n",
      "[[0 1 0 0]\n",
      " [0 3 1 3]\n",
      " [3 1 3 0]\n",
      " [0 0 1 0]]\n",
      "\n",
      "[[0 0 0 0]\n",
      " [0 0 0 0]\n",
      " [0 0 0 0]\n",
      " [0 0 0 0]]\n",
      "[[0 1 0 0]\n",
      " [0 3 1 3]\n",
      " [3 1 3 0]\n",
      " [0 0 1 0]]\n",
      "\n",
      "[[0 0 0 0]\n",
      " [0 0 0 0]\n",
      " [0 0 0 0]\n",
      " [0 0 0 0]]\n",
      "[[0 1 0 0]\n",
      " [0 3 1 3]\n",
      " [3 1 3 0]\n",
      " [0 0 1 0]]\n",
      "\n"
     ]
    }
   ],
   "source": [
    "for i in range(5):\n",
    "    print(syndrome_3D[:,:,i])\n",
    "    print(mask[:,:,i])\n",
    "    print()"
   ]
  },
  {
   "cell_type": "code",
   "execution_count": 15,
   "metadata": {},
   "outputs": [
    {
     "data": {
      "text/plain": [
       "4"
      ]
     },
     "execution_count": 15,
     "metadata": {},
     "output_type": "execute_result"
    }
   ],
   "source": [
    "len(graph)"
   ]
  },
  {
   "cell_type": "code",
   "execution_count": 14,
   "metadata": {},
   "outputs": [
    {
     "name": "stdout",
     "output_type": "stream",
     "text": [
      "[[0. 1. 1. 1. 0.]\n",
      " [0. 1. 1. 1. 1.]\n",
      " [0. 1. 1. 1. 3.]\n",
      " [0. 1. 2. 2. 3.]]\n",
      "[[0 0 0 1 1 1 2 2 2 3 3 3]\n",
      " [1 2 3 0 2 3 0 1 3 0 1 2]]\n",
      "[[1.        ]\n",
      " [0.11111111]\n",
      " [0.11111111]\n",
      " [1.        ]\n",
      " [0.25      ]\n",
      " [0.25      ]\n",
      " [0.11111111]\n",
      " [0.25      ]\n",
      " [1.        ]\n",
      " [0.11111111]\n",
      " [0.25      ]\n",
      " [1.        ]]\n",
      "[[1.]]\n"
     ]
    },
    {
     "ename": "IndexError",
     "evalue": "list index out of range",
     "output_type": "error",
     "traceback": [
      "\u001b[1;31m---------------------------------------------------------------------------\u001b[0m",
      "\u001b[1;31mIndexError\u001b[0m                                Traceback (most recent call last)",
      "Cell \u001b[1;32mIn[14], line 2\u001b[0m\n\u001b[0;32m      1\u001b[0m \u001b[38;5;28;01mfor\u001b[39;00m i \u001b[38;5;129;01min\u001b[39;00m \u001b[38;5;28mrange\u001b[39m(\u001b[38;5;241m5\u001b[39m):\n\u001b[1;32m----> 2\u001b[0m     \u001b[38;5;28mprint\u001b[39m(\u001b[43mgraph\u001b[49m\u001b[43m[\u001b[49m\u001b[43mi\u001b[49m\u001b[43m]\u001b[49m)\n",
      "\u001b[1;31mIndexError\u001b[0m: list index out of range"
     ]
    }
   ],
   "source": [
    "for i in range(5):\n",
    "    print(graph[i])"
   ]
  },
  {
   "cell_type": "code",
   "execution_count": null,
   "metadata": {},
   "outputs": [],
   "source": []
  }
 ],
 "metadata": {
  "kernelspec": {
   "display_name": ".venv",
   "language": "python",
   "name": "python3"
  },
  "language_info": {
   "codemirror_mode": {
    "name": "ipython",
    "version": 3
   },
   "file_extension": ".py",
   "mimetype": "text/x-python",
   "name": "python",
   "nbconvert_exporter": "python",
   "pygments_lexer": "ipython3",
   "version": "3.11.1"
  }
 },
 "nbformat": 4,
 "nbformat_minor": 2
}
