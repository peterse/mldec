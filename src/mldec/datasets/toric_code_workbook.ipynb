{
 "cells": [
  {
   "cell_type": "code",
   "execution_count": 1,
   "metadata": {},
   "outputs": [],
   "source": [
    "# autoreload magic\n",
    "%load_ext autoreload\n",
    "%autoreload 2"
   ]
  },
  {
   "cell_type": "code",
   "execution_count": 5,
   "metadata": {},
   "outputs": [
    {
     "data": {
      "text/plain": [
       "array([0.10890275, 0.05827309, 0.06375975, 0.08003794, 0.02708494,\n",
       "       0.07165783, 0.02283591, 0.0800562 , 0.03437773])"
      ]
     },
     "metadata": {},
     "output_type": "display_data"
    }
   ],
   "source": [
    "from mldec.datasets import toric_code_data\n",
    "from mldec.models import baselines\n",
    "from mldec.utils import evaluation\n",
    "import numpy as np\n",
    "config = {'p': 0.05, 'var': 0.03, 'beta': 1}\n",
    "p_samp = toric_code_data.make_variance_noise_model(9, config, return_probs=True)\n",
    "display(p_samp)\n",
    "\n",
    "# p = config.get('p')\n",
    "# # alpha = config.get('alpha')\n",
    "# var = config.get('var')\n",
    "# np.random.seed(222) # just for reproducibility\n",
    "# p_samp = np.random.normal(p, var, size=n)\n",
    "# print(p_samp)\n",
    "\n",
    "# config = {'p': 0.1, 'var': 0.03}\n",
    "# # config = {'p': 0.06, 'var': 0.02}\n",
    "# n = 9\n",
    "# X, Y, weights = toric_code_data.create_dataset_training(n, config, cache=True)\n",
    "# # X, Y, weights = toric_code_data.uniform_over_good_examples(n, config, cache=True)\n",
    "# minimum_weight_decoder = baselines.MinimumWeightPerfectMatching()\n",
    "# minimum_weight_decoder.make_decoder(X, Y)\n",
    "# preds = minimum_weight_decoder.predict(X).numpy()\n",
    "# minimum_weight_val_acc = evaluation.weighted_accuracy(minimum_weight_decoder, X, Y, weights)\n",
    "# print(f\"Minimum weight decoder validation accuracy: {minimum_weight_val_acc}\")\n",
    "\n",
    "# X, Y, weightsb, hist = toric_code_data.sample_virtual_XY(weights, 1000, n, config, cache=True)\n",
    "# print(X.shape, Y.shape, weightsb.shape, hist.shape)"
   ]
  },
  {
   "cell_type": "code",
   "execution_count": 6,
   "metadata": {},
   "outputs": [],
   "source": [
    "\n",
    "import numpy as np\n",
    "import stim\n",
    "from mldec.codes import toric_code\n",
    "\n",
    "x_generators, z_generators, Hx, Hz = toric_code.rotated_surface_code_stabilizers(3)\n",
    "generators = x_generators + z_generators\n",
    "t = stim.Tableau.from_stabilizers(generators, allow_redundant=True, allow_underconstrained=True)\n",
    "# we leave out the final stabilizer that canonically represents the degree of \n",
    "# freedom for a state we didn't specify\n",
    "generators_S = [t.z_output(k) for k in range(len(t) - 1)] # stabilizer generators, ordered X type then Z type\n",
    "generators_T = [t.x_output(k) for k in range(len(t) - 1)] # pure error generators, arbitrary order\n",
    "generators_L = toric_code.rotated_toric_code_logicals(3) # logicals, ordered X type then Z type\n"
   ]
  },
  {
   "cell_type": "code",
   "execution_count": null,
   "metadata": {},
   "outputs": [],
   "source": [
    "\n",
    "def build_lst_lookup_and_mle(generators_S, generators_T, generators_L, Hx, Hz, noise_model):\n",
    "    \"\"\"Starting from STL, create a lookup table mapping an error to a (syndrome, ell) pair.\n",
    "\n",
    "    Note: The S,L generators are expected to be [logical_xs, logical_zs] \n",
    "    errors in returned hash are binary symplectic form\n",
    "\n",
    "    Conventions:\n",
    "     - sigma_z means syndromes for z-stabilizer violations\n",
    "\n",
    "    TIE-BREAKING: If there are multiple cosets with the same probability, there is no consistent\n",
    "    way to break ties so that MWPM matches MLE in the iid situation. So, we will return\n",
    "    the set of all cosets that are tied for the most likely. This means the mle_lookup will\n",
    "    be ragged, and should be handled carefully.\n",
    "\n",
    "\n",
    "    Args:\n",
    "        generators_S: list of generators of the stabilizer group\n",
    "        generators_T: list of pure errors\n",
    "        generators_L: list of logical Pauli operators\n",
    "        Hx, Hz: PCMs for the x- and z-stabilizers\n",
    "    \n",
    "    Returns: This is a two-for-one function, returning both the LST lookup table and the MLE lookup table\n",
    "        lst: a dictionary mapping errors to (syndrome, ell) pairs\n",
    "            {(error_x, error_z): (np.array([syndrome_x, syndrome_z]), np.array([logical_x, logical_z]))}\n",
    "                error_x: shape n\n",
    "                syndrome_x: shape r\n",
    "                logical_x: shape k\n",
    "            where syndrome_x is the syndrome for x-stabilizers (in order)\n",
    "            logical_x is a bitmask for logical operators in logical_x\n",
    "        mle: a dictionary mapping syndromes to the set of most likely logical _errors_\n",
    "            {(syndrome_x, syndrome_z): [np.array([logical_x, logical_z]), ...]}\n",
    "    \n",
    "    \"\"\"\n",
    "\n",
    "    # about 6 seconds\n",
    "\n",
    "    r = len(generators)\n",
    "    n = len(generators[0])\n",
    "    k = n - r\n",
    "    assert len(generators_L) == 2*k\n",
    "    assert len(generators_T) == r\n",
    "    lst = {}\n",
    "    mle = {}\n",
    "    err_prs = {}\n",
    "    mle_acc = 0\n",
    "\n",
    "    for a, pure_error_lst in enumerate(powerset(generators_T)):\n",
    "        pure_error = operator_sequence_to_stim(pure_error_lst, n)\n",
    "        xerr, zerr = pure_error.to_numpy()\n",
    "        if len(xerr) == 0 and len(zerr) == 0:\n",
    "            xerr = np.zeros(n, dtype=int)\n",
    "            zerr = np.zeros(n, dtype=int)\n",
    "        sigma_z = (Hz @ xerr) % 2\n",
    "        sigma_x = (Hx @ zerr) % 2\n",
    "        sigma = np.concatenate((sigma_x, sigma_z), axis=0)\n",
    "        # we will fill up logical_probs with corresponding total probabilities, then pick the biggest\n",
    "        # the logical masks are [logical_x, logical_z] bitmasks\n",
    "        logical_probs = np.zeros(4**k)\n",
    "        logical_masks = np.array(list(itertools.product([0, 1], repeat=2*k)))\n",
    "        for b, logical_mask in enumerate(logical_masks):\n",
    "            # to enumerate over the logicals, we want to preserve their order \n",
    "            # as provided in generators_L, as this will determine the binary\n",
    "            # mask representing that logical\n",
    "            logical_op_lst = [generators_L[i] for i, bit in enumerate(logical_mask) if bit]\n",
    "            logical_op = operator_sequence_to_stim(logical_op_lst, n)\n",
    "            for c, stabilizer_lst in enumerate(powerset(generators_S)):\n",
    "                stabilizer = operator_sequence_to_stim(stabilizer_lst, n)\n",
    "                error = pure_error * logical_op * stabilizer\n",
    "                error_symplectic = np.concatenate(error.to_numpy(), axis=0).astype(int)\n",
    "                p_err = noise_model(n, error_symplectic)\n",
    "                err_key = tuple(error_symplectic)\n",
    "                err_prs[err_key] = p_err\n",
    "                lst[err_key] = (sigma, np.array(logical_mask))\n",
    "                logical_probs[b] += p_err\n",
    "        # no tiebreak, just return everything that is consistent.\n",
    "        best = logical_probs.max()\n",
    "        mle_acc += best\n",
    "        rtol = 1e-6\n",
    "        winners = np.nonzero(np.isclose(logical_probs, best, rtol=rtol))[0]\n",
    "        mle[tuple(sigma)] = logical_masks[winners]\n",
    "\n",
    "\n",
    "    return lst, mle, mle_acc, err_prs\n",
    "\n"
   ]
  },
  {
   "cell_type": "code",
   "execution_count": 36,
   "metadata": {},
   "outputs": [],
   "source": [
    "L = 3\n",
    "n = 9\n",
    "# noise = 'depol'\n",
    "noise = 'variance'\n",
    "if noise == 'depol':\n",
    "    noise_config = {'p': 0.1}\n",
    "    noise_model = make_depol_noise_model(n, noise_config)\n",
    "elif noise == 'variance':\n",
    "    noise_config = {'p': 0.05, 'var': 0.03, 'beta': 1}\n",
    "    # noise_config = {'p': 0.2, 'var': 0.05}\n",
    "    noise_model = toric_code_data.make_variance_noise_model(9, config, return_probs=False)\n",
    "\n",
    "# build a lookup table for LST in the toric code. This is noise-model-independent\n",
    "lst = toric_code.build_lst_lookup(L, cache=True)\n"
   ]
  },
  {
   "cell_type": "code",
   "execution_count": 37,
   "metadata": {},
   "outputs": [],
   "source": [
    "# I forgot why i needed this and its kind of complicated.\n",
    "p_SL, hist_SL_wts = toric_code.build_syndrome_probs_and_weight_distr(generators_S, generators_T, generators_L, Hx, Hz, noise_model)"
   ]
  },
  {
   "cell_type": "markdown",
   "metadata": {},
   "source": [
    "### V&V\n",
    "\n",
    "A few sanity checks for v/v:\n",
    " - We know MWPM should be MLD for iid noise with _uncorrelated_ X- and Z- errors (not the same as \"independent\" in iid!). So I verified that there are no important errors for a bitflip-only model, i.e. MWPM is MLD in that case.\n",
    " "
   ]
  },
  {
   "cell_type": "code",
   "execution_count": 39,
   "metadata": {},
   "outputs": [
    {
     "name": "stdout",
     "output_type": "stream",
     "text": [
      "[5.66664991e-01 3.34454924e-01 4.28065629e-02 2.40283149e-03\n",
      " 1.53260377e-04 8.10289364e-06 2.81190486e-07 7.72205954e-09\n",
      " 1.09315601e-10 4.44543087e-13]\n",
      "[0.00000000e+00 0.00000000e+00 1.55102874e-02 1.55013129e-03\n",
      " 1.32204167e-04 7.28888992e-06 2.72152716e-07 6.71911537e-09\n",
      " 8.45631387e-11 3.78112495e-13]\n",
      "[0.00000000e+00 0.00000000e+00 2.70409360e-02 8.39016252e-03\n",
      " 8.26659821e-04 4.91907575e-05 1.85709757e-06 4.11662196e-08\n",
      " 5.24160164e-10 3.12765665e-12]\n",
      "1.0\n"
     ]
    }
   ],
   "source": [
    "import itertools \n",
    "from mldec.models.baselines import MinimumWeightPerfectMatching\n",
    "\n",
    "# compute mwpm for this dataset\n",
    "\n",
    "# compute mld for this dataset\n",
    "X, Y, good_weights = toric_code_data.uniform_over_good_examples(n, noise_config)\n",
    "X, Y, val_weights = toric_code_data.create_dataset_training(n, noise_config)\n",
    "mld = baselines.LookupTable()\n",
    "mld.train_on_histogram(X, Y, good_weights)\n",
    "mle_lookup = mld.table\n",
    "mwpm = MinimumWeightPerfectMatching(3)\n",
    "mwpm.make_decoder(X, Y)\n",
    "mwpm_lookup = mwpm.lookup\n",
    "\n",
    "n = L**2\n",
    "weights = np.arange(0, n+1)\n",
    "unimportant_prs = np.zeros(n+1)\n",
    "bad_prs = np.zeros(n+1)\n",
    "important_prs = np.zeros(n+1)\n",
    "\n",
    "for syndrome in itertools.product([0, 1], repeat=n-1):\n",
    "    logical_mles = mld.predict(np.array(syndrome).reshape(1,-1)).numpy()\n",
    "    logical_mwpm = mwpm.predict(np.array(syndrome).reshape(1,-1)).numpy()\n",
    "    syndrome_not_counted = True\n",
    "\n",
    "    for logical in itertools.product([0,1], repeat=2):\n",
    "        logical = tuple(logical)\n",
    "        f0_is_correct = not (logical_mwpm ^ logical).sum() \n",
    "        fstar_is_correct = any(np.equal(logical_mles, logical).all(1)) \n",
    "        f0_in_fstar = any(np.equal(logical_mles, logical_mwpm).all(1))\n",
    "        p_sigma_logical = p_SL[(syndrome, logical)]\n",
    "\n",
    "        # for each of the errors in the enumerator, we update\n",
    "        # the corresponding distribution (important, unimportant, bad)\n",
    "        # with the probability of this error, at the error's weight\n",
    "        wt_distr = hist_SL_wts[(syndrome, logical)]\n",
    "    \n",
    "        if fstar_is_correct and syndrome_not_counted:\n",
    "            # we only count one syndrome as the answer to MLE\n",
    "            syndrome_not_counted = False\n",
    "            # TODO: need a scheme for weight enumeration here.\n",
    "            if not f0_is_correct:\n",
    "                important_prs += wt_distr\n",
    "            else:\n",
    "                unimportant_prs += wt_distr\n",
    "        else:\n",
    "            bad_prs += wt_distr\n",
    "\n",
    "print(unimportant_prs)\n",
    "print(important_prs)\n",
    "print(bad_prs)\n",
    "# compute the sum of all 3\n",
    "print(sum(unimportant_prs) + sum(important_prs) + sum(bad_prs))"
   ]
  },
  {
   "cell_type": "code",
   "execution_count": 48,
   "metadata": {},
   "outputs": [
    {
     "name": "stdout",
     "output_type": "stream",
     "text": [
      "\n"
     ]
    },
    {
     "data": {
      "image/png": "[encoded data removed]",
      "text/plain": [
       "<Figure size 400x530 with 1 Axes>"
      ]
     },
     "metadata": {},
     "output_type": "display_data"
    }
   ],
   "source": [
    "import matplotlib.pyplot as plt\n",
    "# cm = 1/2.54\n",
    "fig, ax = plt.subplots(1, 1, figsize=(4, 5.3), constrained_layout = False)\n",
    "#matplotlib rendering bug https://stackoverflow.com/questions/5195466/matplotlib-does-not-display-hatching-when-rendering-to-pdf\n",
    "\n",
    "zero = min(bad_prs)\n",
    "\n",
    "ax.fill_between(weights, important_prs, unimportant_prs, label='unimportant', facecolor=\"grey\", edgecolor='k', alpha=0.3)\n",
    "# ax.plot(weights, unimportant_prs, label='unimportant', c='k', alpha=1)\n",
    "ax.fill_between(weights, np.ones_like(bad_prs) * zero, bad_prs, label='bad', facecolor=\"r\",  alpha=0.1)\n",
    "ax.plot(weights[bad_prs>0], bad_prs[bad_prs>0], alpha=1, c='r') # bold line\n",
    "ax.fill_between(weights, np.ones_like(bad_prs) * zero, bad_prs, facecolor='none', hatch=\"x\", edgecolor='r', alpha=.8)  #hatching nonalpha\n",
    "\n",
    "ax.fill_between(weights, np.ones_like(important_prs) * zero, important_prs, label='important', facecolor='g', edgecolor='g', alpha=0.6, )\n",
    "ax.plot(weights[important_prs>0], important_prs[important_prs>0], c='g', alpha=1 )\n",
    "# ax.fill_between(weights, np.ones_like(important_prs) * zero, important_prs, label='important',  facecolor=\"none\",  hatch='|', edgecolor='g', alpha=.8, )\n",
    "all = unimportant_prs + important_prs + bad_prs\n",
    "ax.plot(weights, all, label='all', c='k', alpha=1)\n",
    "\n",
    "ax.set_xlim(0, n)\n",
    "labelsz = 14\n",
    "ax.set_xlabel(r\"Weight of $E$ given $(\\sigma(E), \\ell(E))$\", fontsize=labelsz)\n",
    "ax.set_ylabel(r\"Error probability\", fontsize=labelsz)\n",
    "ax.semilogy()\n",
    "ax.legend(prop={'size': 11}, framealpha=1, loc='upper right', bbox_to_anchor=(1.0, 1))\n",
    "\n",
    "\n",
    "fig.savefig('../../figures/fig2_a.pdf', bbox_inches='tight')\n",
    "print()"
   ]
  },
  {
   "cell_type": "code",
   "execution_count": 245,
   "metadata": {},
   "outputs": [
    {
     "name": "stdout",
     "output_type": "stream",
     "text": [
      "[7.17657949e-01 2.43093313e-01 1.76467564e-02 6.01221729e-04\n",
      " 2.33991090e-05 7.51503890e-07 1.60727735e-08 2.75013586e-10\n",
      " 2.51263719e-12 6.93672939e-15]\n",
      "[0.00000000e+00 0.00000000e+00 5.90335804e-03 3.27378148e-04\n",
      " 1.85833974e-05 6.37604652e-07 1.51318462e-08 2.37834664e-10\n",
      " 1.91931891e-12 5.76148556e-15]\n",
      "[0.00000000e+00 0.00000000e+00 1.24660333e-02 2.13344531e-03\n",
      " 1.22622930e-04 4.41379954e-06 1.03009003e-07 1.45223964e-09\n",
      " 1.21085712e-11 4.83369413e-14]\n"
     ]
    }
   ],
   "source": [
    "print(unimportant_prs)\n",
    "print(important_prs)\n",
    "print(bad_prs)"
   ]
  }
 ],
 "metadata": {
  "kernelspec": {
   "display_name": ".venv",
   "language": "python",
   "name": "python3"
  },
  "language_info": {
   "codemirror_mode": {
    "name": "ipython",
    "version": 3
   },
   "file_extension": ".py",
   "mimetype": "text/x-python",
   "name": "python",
   "nbconvert_exporter": "python",
   "pygments_lexer": "ipython3",
   "version": "3.11.1"
  }
 },
 "nbformat": 4,
 "nbformat_minor": 2
}
