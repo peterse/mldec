{
 "cells": [
  {
   "cell_type": "code",
   "execution_count": 1,
   "metadata": {},
   "outputs": [],
   "source": [
    "# reload magic \n",
    "%load_ext autoreload"
   ]
  },
  {
   "cell_type": "code",
   "execution_count": 2,
   "metadata": {},
   "outputs": [],
   "source": [
    "import stim"
   ]
  },
  {
   "cell_type": "code",
   "execution_count": 3,
   "metadata": {},
   "outputs": [],
   "source": [
    "def index_vertex(x, y, L):\n",
    "    return x + y * L\n",
    "\n",
    "\n",
    "def num_pauli_to_str(idx, n, paulitype):\n",
    "    \"\"\"\n",
    "    Convert a number to a string of Pauli operators.\n",
    "    \"\"\"\n",
    "    pauli = [\"_\"] * n\n",
    "    for i in idx:\n",
    "        pauli[i] = paulitype\n",
    "    return \"\".join(pauli)\n",
    "\n",
    "def generate_rotated_surface_code_stabilizers(L):\n",
    "    \"\"\"\n",
    "    construct the set of stabilizers for the rotated toric code having periodic boundary conditions.\n",
    "    \"\"\"\n",
    "    x_stabilizers = []\n",
    "    z_stabilizers = []\n",
    "    n = L**2  # total number of qubits in the standard toric code layout\n",
    "\n",
    "    # For each vertex (x, y), define a star operator: product of X on the 4 edges touching that vertex.\n",
    "    # Edges: (x,y) horiz, (x-1,y) horiz, (x,y) vert, (x,y-1) vert, all mod L for periodic BCs.\n",
    "    for x in range(L):\n",
    "        for y in range(L):\n",
    "            v1 = index_vertex(x, y, L)\n",
    "            if x == L - 1 or y == L - 1:\n",
    "                continue\n",
    "            v2 = index_vertex(x, (y + 1), L)\n",
    "            v3 = index_vertex((x + 1), y, L)\n",
    "            v4 = index_vertex((x + 1), (y + 1), L)\n",
    "            vertices = [v1, v2, v3, v4]\n",
    "            if ( x + y ) % 2 == 0:\n",
    "                ptype = \"X\"\n",
    "                x_stabilizers.append(vertices)\n",
    "            else:\n",
    "                ptype = \"Z\"     \n",
    "                z_stabilizers.append(vertices)\n",
    "\n",
    "    # top and bottom\n",
    "    for x in range(L):\n",
    "        if x < L - 1:\n",
    "            ptype = \"Z\"\n",
    "            if x % 2 == 0 :\n",
    "                v1 = index_vertex(x, 0, L)\n",
    "                v2 = index_vertex(x + 1, 0, L)\n",
    "                z_stabilizers.append([v1, v2])\n",
    "            elif x % 2 == 1:\n",
    "                v1 = index_vertex(x, L - 1, L)\n",
    "                v2 = index_vertex(x + 1, L - 1, L)\n",
    "                z_stabilizers.append([v1, v2])\n",
    "\n",
    "    for y in range(L):\n",
    "        if y < L - 1:\n",
    "            ptype = \"X\"\n",
    "            if y % 2 == 1:\n",
    "                v1 = index_vertex(0, y, L)\n",
    "                v2 = index_vertex(0, y + 1, L)\n",
    "                x_stabilizers.append([v1, v2])\n",
    "            elif y % 2 == 0:\n",
    "                v1 = index_vertex(L - 1, y, L)\n",
    "                v2 = index_vertex(L - 1, y + 1, L)\n",
    "                x_stabilizers.append([v1, v2])\n",
    "    print(x_stabilizers)\n",
    "    print(z_stabilizers)\n",
    "    stabilizers = x_stabilizers + z_stabilizers\n",
    "    stabilizers = [num_pauli_to_str(stabilizer, n, ptype) for stabilizer in stabilizers]\n",
    "    stabilizers = [stim.PauliString(stabilizer) for stabilizer in stabilizers]\n",
    "    return stabilizers\n"
   ]
  },
  {
   "cell_type": "code",
   "execution_count": 4,
   "metadata": {},
   "outputs": [
    {
     "name": "stdout",
     "output_type": "stream",
     "text": [
      "[[0, 3, 1, 4], [4, 7, 5, 8], [2, 5], [3, 6]]\n",
      "[[3, 6, 4, 7], [1, 4, 2, 5], [0, 1], [7, 8]]\n"
     ]
    },
    {
     "data": {
      "text/plain": [
       "[stim.PauliString(\"+XX_XX____\"),\n",
       " stim.PauliString(\"+____XX_XX\"),\n",
       " stim.PauliString(\"+__X__X___\"),\n",
       " stim.PauliString(\"+___X__X__\"),\n",
       " stim.PauliString(\"+___XX_XX_\"),\n",
       " stim.PauliString(\"+_XX_XX___\"),\n",
       " stim.PauliString(\"+XX_______\"),\n",
       " stim.PauliString(\"+_______XX\")]"
      ]
     },
     "metadata": {},
     "output_type": "display_data"
    }
   ],
   "source": [
    "L = 3\n",
    "stabilizers = generate_rotated_surface_code_stabilizers(L)\n",
    "display(stabilizers)"
   ]
  },
  {
   "cell_type": "code",
   "execution_count": 7,
   "metadata": {},
   "outputs": [],
   "source": [
    "t = stim.Tableau.from_stabilizers(stabilizers, allow_redundant=True, allow_underconstrained=True)\n",
    "# we leave out the final stabilizer that canonically represents the degree of \n",
    "# freedom for a state we didn't specify\n",
    "generators_S = [t.z_output(k) for k in range(len(t) - 1)]\n",
    "generators_T = [t.x_output(k) for k in range(len(t) - 1)]\n",
    "generators_L = [stim.PauliString(p*L) for p in [\"I\", \"X\"]]"
   ]
  },
  {
   "cell_type": "code",
   "execution_count": null,
   "metadata": {},
   "outputs": [
    {
     "name": "stdout",
     "output_type": "stream",
     "text": [
      "8 9 1\n"
     ]
    },
    {
     "name": "stdout",
     "output_type": "stream",
     "text": [
      "Maximum likelihood, L=3\n",
      "0.9397690759087137\n"
     ]
    }
   ],
   "source": [
    "from mldec.utils import pauli_decoding_stim\n",
    "p_I = 0.99\n",
    "n = L ** 2\n",
    "k = 1\n",
    "temp = []\n",
    "pvec = [p_I, (1-p_I)/3, (1-p_I)/3, (1-p_I)/3]\n",
    "error_channel = lambda x: pauli_decoding_stim.pauli_vector_channel(pvec, x, n)\n",
    "p_SA = pauli_decoding_stim.compute_coset_distribution_pure_errors(generators_S, generators_T, generators_L, error_channel)\n",
    "\n",
    "mle = pauli_decoding_stim.mle_success_prob(p_SA)\n",
    "print(\"Maximum likelihood, L={}\".format(L))\n",
    "print(mle)\n"
   ]
  },
  {
   "cell_type": "code",
   "execution_count": 11,
   "metadata": {},
   "outputs": [],
   "source": [
    "from itertools import chain, combinations\n",
    "from functools import reduce\n",
    "def powerset(iterable):\n",
    "    s = list(iterable)\n",
    "    return chain.from_iterable(combinations(s, r) for r in range(len(s)+1))\n",
    "        \n"
   ]
  },
  {
   "cell_type": "code",
   "execution_count": 15,
   "metadata": {},
   "outputs": [
    {
     "data": {
      "text/plain": [
       "<enumerate at 0x26bb72d9c10>"
      ]
     },
     "execution_count": 15,
     "metadata": {},
     "output_type": "execute_result"
    }
   ],
   "source": [
    "enumerate(powerset([1,2,3]))"
   ]
  },
  {
   "cell_type": "markdown",
   "metadata": {},
   "source": [
    "#### what we need is:\n",
    "1. answers for MLE on every syndrome -> separates good and bad\n",
    "2. for all \"good\" syndromes, we need answers from pymatching.\n",
    "\n",
    "#### build the parity check matrices\n",
    "\n",
    "so MWPM decoding for X-type and Z-type errors is the same process (PCM might be different), so our procedure is:\n",
    "1. get the syndrome logical pair $(\\sigma, \\ell)$\n",
    "2. Check that $f^*(\\sigma) = \\ell$, so we know we have a good example\n",
    "3. Let $\\sigma = [\\sigma_X | \\sigma_Z]$\n",
    "4. MWPM decode $\\sigma$ into $\\ell_X \\ell_Z = \\hat{\\ell}$, our guess for the logical operator\n",
    "5. if $\\hat{\\ell} \\notin \\ell \\mathcal{S}$, then we have an important example\n",
    "\n",
    "Issues:\n",
    " - organizing everything might be tough; do we start with $\\ell$\n",
    " - idea: I build the prism from the ground up; I could run MWPM at each layer before generating $\\ell \\mathcal{S}$, then check equality as I fill out that coset\n",
    " - probably need to downgrade to numpy 1.26"
   ]
  },
  {
   "cell_type": "code",
   "execution_count": 19,
   "metadata": {},
   "outputs": [],
   "source": [
    "import numpy as np\n",
    "from scipy.sparse import hstack, kron, eye, csc_matrix, block_diag\n",
    "\n",
    "\n",
    "def repetition_code(n):\n",
    "    \"\"\"\n",
    "    Parity check matrix of a repetition code with length n.\n",
    "    \"\"\"\n",
    "    row_ind, col_ind = zip(*((i, j) for i in range(n) for j in (i, (i+1)%n)))\n",
    "    data = np.ones(2*n, dtype=np.uint8)\n",
    "    return csc_matrix((data, (row_ind, col_ind)))\n",
    "\n",
    "\n",
    "def toric_code_x_stabilisers(L):\n",
    "    \"\"\"\n",
    "    Sparse check matrix for the X stabilisers of a toric code with\n",
    "    lattice size L, constructed as the hypergraph product of\n",
    "    two repetition codes.\n",
    "    \"\"\"\n",
    "    Hr = repetition_code(L)\n",
    "    H = hstack(\n",
    "            [kron(Hr, eye(Hr.shape[1])), kron(eye(Hr.shape[0]), Hr.T)],\n",
    "            dtype=np.uint8\n",
    "        )\n",
    "    H.data = H.data % 2\n",
    "    H.eliminate_zeros()\n",
    "    return csc_matrix(H)\n",
    "\n"
   ]
  },
  {
   "cell_type": "code",
   "execution_count": null,
   "metadata": {},
   "outputs": [],
   "source": [
    "toric_code"
   ]
  }
 ],
 "metadata": {
  "kernelspec": {
   "display_name": ".venv",
   "language": "python",
   "name": "python3"
  },
  "language_info": {
   "codemirror_mode": {
    "name": "ipython",
    "version": 3
   },
   "file_extension": ".py",
   "mimetype": "text/x-python",
   "name": "python",
   "nbconvert_exporter": "python",
   "pygments_lexer": "ipython3",
   "version": "3.11.1"
  }
 },
 "nbformat": 4,
 "nbformat_minor": 2
}
