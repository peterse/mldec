{
 "cells": [
  {
   "cell_type": "code",
   "execution_count": 1,
   "metadata": {},
   "outputs": [
    {
     "data": {
      "text/plain": [
       "'1.26.4'"
      ]
     },
     "execution_count": 1,
     "metadata": {},
     "output_type": "execute_result"
    }
   ],
   "source": [
    "import numpy as np\n",
    "\n",
    "np.__version__"
   ]
  },
  {
   "cell_type": "code",
   "execution_count": 2,
   "metadata": {},
   "outputs": [
    {
     "name": "stdout",
     "output_type": "stream",
     "text": [
      "s [1 0 0 1]\n",
      "c [0 0 0 1 0 0 0 0 0]\n"
     ]
    },
    {
     "data": {
      "image/png": "[encoded data removed]",
      "text/plain": [
       "<Figure size 640x480 with 1 Axes>"
      ]
     },
     "metadata": {},
     "output_type": "display_data"
    }
   ],
   "source": [
    "from pymatching import Matching\n",
    "import matplotlib.pyplot as plt\n",
    "\n",
    "Hx = np.array([[1, 1, 0, 1, 1, 0, 0, 0, 0],\n",
    "               [0, 0, 0, 0, 1, 1, 0, 1, 1],\n",
    "               [0, 0, 1, 0, 0, 1, 0, 0, 0],\n",
    "               [0, 0, 0, 1, 0, 0, 1, 0, 0]])\n",
    "\n",
    "\n",
    "matching = Matching(Hx)\n",
    "\n",
    "noise = np.array([0, 0, 0, 1, 0, 0, 0, 0, 0])\n",
    "s = Hx @ noise % 2 # correctly evaluates to [1, 0, 0, 1]\n",
    "print(\"s\", s)\n",
    "c = matching.decode(s) # correctly predicts [0, 0, 0, 1, 0, 0, 0, 0, 0]\n",
    "print(\"c\", c)\n",
    "\n",
    "matching.draw()\n",
    "plt.show()"
   ]
  },
  {
   "cell_type": "code",
   "execution_count": 1,
   "metadata": {},
   "outputs": [],
   "source": [
    "# reload magic \n",
    "%load_ext autoreload"
   ]
  },
  {
   "cell_type": "code",
   "execution_count": 2,
   "metadata": {},
   "outputs": [],
   "source": [
    "import stim\n",
    "import numpy as np"
   ]
  },
  {
   "cell_type": "code",
   "execution_count": 3,
   "metadata": {},
   "outputs": [],
   "source": [
    "def index_vertex(x, y, L):\n",
    "    return x + y * L\n",
    "\n",
    "\n",
    "def num_pauli_to_str(idx, n, paulitype):\n",
    "    \"\"\"\n",
    "    Convert a number to a string of Pauli operators.\n",
    "    \"\"\"\n",
    "    pauli = [\"_\"] * n\n",
    "    for i in idx:\n",
    "        pauli[i] = paulitype\n",
    "    return \"\".join(pauli)\n",
    "\n",
    "def generate_rotated_surface_code_stabilizers(L):\n",
    "    \"\"\"\n",
    "    construct the set of stabilizers for the rotated toric code having periodic boundary conditions.\n",
    "\n",
    "    Tiling numbering scheme, e.g. L=3\n",
    "            Z\n",
    "         0 --- 1 --- 2\n",
    "         |  X  |  Z  | X\n",
    "         3 --- 4 --- 5\n",
    "       X |  Z  |  X  |        <--- THIS IS A QUANTUM COMPUTER. \n",
    "         6 --- 7 --- 8\n",
    "                  Z\n",
    "    Returns:\n",
    "        x_stabilizers: list of r_x total stim.PauliString objects representing the X stabilizers\n",
    "        z_stabilizers: list of r_z total stim.PauliString objects representing the Z stabilizers\n",
    "        H_x: PCM for x stabilizers, (r_x, n) matrix\n",
    "        H_z: PCM for z stabilizers, (r_z, n) matrix\n",
    "    \"\"\"\n",
    "    x_stabilizers = []\n",
    "    z_stabilizers = []\n",
    "    n = L**2  # total number of qubits in the standard toric code layout\n",
    "\n",
    "    # For each vertex (x, y), define a star operator: product of X on the 4 edges touching that vertex.\n",
    "    # Edges: (x,y) horiz, (x-1,y) horiz, (x,y) vert, (x,y-1) vert, all mod L for periodic BCs.\n",
    "\n",
    "    for x in range(L):\n",
    "        for y in range(L):\n",
    "            v1 = index_vertex(x, y, L)\n",
    "            if x == L - 1 or y == L - 1:\n",
    "                continue\n",
    "            v2 = index_vertex(x, (y + 1), L)\n",
    "            v3 = index_vertex((x + 1), y, L)\n",
    "            v4 = index_vertex((x + 1), (y + 1), L)\n",
    "            vertices = [v1, v2, v3, v4]\n",
    "            if ( x + y ) % 2 == 0:\n",
    "                ptype = \"X\"\n",
    "                x_stabilizers.append(vertices)\n",
    "            else:\n",
    "                ptype = \"Z\"     \n",
    "                z_stabilizers.append(vertices)\n",
    "\n",
    "    # top and bottom\n",
    "    for x in range(L):\n",
    "        if x < L - 1:\n",
    "            ptype = \"Z\"\n",
    "            if x % 2 == 0 :\n",
    "                v1 = index_vertex(x, 0, L)\n",
    "                v2 = index_vertex(x + 1, 0, L)\n",
    "                z_stabilizers.append([v1, v2])\n",
    "            elif x % 2 == 1:\n",
    "                v1 = index_vertex(x, L - 1, L)\n",
    "                v2 = index_vertex(x + 1, L - 1, L)\n",
    "                z_stabilizers.append([v1, v2])\n",
    "\n",
    "    for y in range(L):\n",
    "        if y < L - 1:\n",
    "            ptype = \"X\"\n",
    "            if y % 2 == 1:\n",
    "                v1 = index_vertex(0, y, L)\n",
    "                v2 = index_vertex(0, y + 1, L)\n",
    "                x_stabilizers.append([v1, v2])\n",
    "            elif y % 2 == 0:\n",
    "                v1 = index_vertex(L - 1, y, L)\n",
    "                v2 = index_vertex(L - 1, y + 1, L)\n",
    "                x_stabilizers.append([v1, v2])\n",
    "    H_x = np.zeros((len(x_stabilizers), n), dtype=int)\n",
    "    for i, js in enumerate(x_stabilizers):\n",
    "        H_x[i, js] = 1\n",
    "    H_z = np.zeros((len(z_stabilizers), n), dtype=int)\n",
    "    for i, js in enumerate(z_stabilizers):\n",
    "        H_z[i, js] = 1\n",
    "    z_stabilizers = [num_pauli_to_str(stabilizer, n, \"Z\") for stabilizer in z_stabilizers]\n",
    "    z_stabilizers = [stim.PauliString(stabilizer) for stabilizer in z_stabilizers]\n",
    "    x_stabilizers = [num_pauli_to_str(stabilizer, n, \"X\") for stabilizer in x_stabilizers]\n",
    "    x_stabilizers = [stim.PauliString(stabilizer) for stabilizer in x_stabilizers]\n",
    "\n",
    "    return x_stabilizers, z_stabilizers, H_x, H_z\n"
   ]
  },
  {
   "cell_type": "code",
   "execution_count": 4,
   "metadata": {},
   "outputs": [],
   "source": [
    "L = 3\n",
    "xs, zs, Hx, Hz = generate_rotated_surface_code_stabilizers(L)\n"
   ]
  },
  {
   "cell_type": "code",
   "execution_count": 5,
   "metadata": {},
   "outputs": [],
   "source": [
    "import numpy as np\n",
    "import matplotlib.pyplot as plt\n",
    "from scipy.sparse import hstack, kron, eye, csc_matrix, block_diag\n",
    "\n",
    "\n",
    "def repetition_code(n):\n",
    "    \"\"\"\n",
    "    Parity check matrix of a repetition code with length n.\n",
    "    \"\"\"\n",
    "    row_ind, col_ind = zip(*((i, j) for i in range(n) for j in (i, (i+1)%n)))\n",
    "    data = np.ones(2*n, dtype=np.uint8)\n",
    "    return csc_matrix((data, (row_ind, col_ind)))\n",
    "\n",
    "\n",
    "def toric_code_x_stabilisers(L):\n",
    "    \"\"\"\n",
    "    Sparse check matrix for the X stabilisers of a toric code with\n",
    "    lattice size L, constructed as the hypergraph product of\n",
    "    two repetition codes.\n",
    "    \"\"\"\n",
    "    Hr = repetition_code(L)\n",
    "    H = hstack(\n",
    "            [kron(Hr, eye(Hr.shape[1])), kron(eye(Hr.shape[0]), Hr.T)],\n",
    "            dtype=np.uint8\n",
    "        )\n",
    "    H.data = H.data % 2\n",
    "    H.eliminate_zeros()\n",
    "    return csc_matrix(H)\n",
    "\n"
   ]
  },
  {
   "cell_type": "code",
   "execution_count": 6,
   "metadata": {},
   "outputs": [],
   "source": [
    "from scipy.sparse import hstack, kron, eye, csc_matrix, block_diag\n",
    "def toric_code_x_logicals(L):\n",
    "    \"\"\"\n",
    "    The logical operator is X...X either horizontally or vertically across the lattice, in the unrotated version.\n",
    "    In the rotated version \n",
    "    \"\"\"\n",
    "    if L != 3:\n",
    "        raise NotImplementedError(\"Only L=3 is implemented\")\n",
    "    vertical_x = [1]*L + [0]*L*(L - 1)\n",
    "    _x = ([1] + [0]*(L-1)) * L\n",
    "    return np.array([\n",
    "        [1, 0, 0, 1, 0, 0, 1, 0, 0], # vertical left edge.\n",
    "        [1, 0, 0, 0, 1, 0, 0, 0, 1], # diagonal from top left to bottom right\n",
    "    ])\n",
    "\n"
   ]
  },
  {
   "cell_type": "code",
   "execution_count": 8,
   "metadata": {},
   "outputs": [
    {
     "ename": "AttributeError",
     "evalue": "module 'pymatching' has no attribute '__version__'",
     "output_type": "error",
     "traceback": [
      "\u001b[1;31m---------------------------------------------------------------------------\u001b[0m",
      "\u001b[1;31mAttributeError\u001b[0m                            Traceback (most recent call last)",
      "Cell \u001b[1;32mIn[8], line 2\u001b[0m\n\u001b[0;32m      1\u001b[0m \u001b[38;5;28;01mimport\u001b[39;00m\u001b[38;5;250m \u001b[39m\u001b[38;5;21;01mpymatching\u001b[39;00m\n\u001b[1;32m----> 2\u001b[0m \u001b[38;5;28mprint\u001b[39m(\u001b[43mpymatching\u001b[49m\u001b[38;5;241;43m.\u001b[39;49m\u001b[43m__version__\u001b[49m)\n",
      "\u001b[1;31mAttributeError\u001b[0m: module 'pymatching' has no attribute '__version__'"
     ]
    }
   ],
   "source": [
    "import pymatching\n",
    "print(pymatching.__version__)"
   ]
  },
  {
   "cell_type": "code",
   "execution_count": null,
   "metadata": {},
   "outputs": [
    {
     "name": "stdout",
     "output_type": "stream",
     "text": [
      "s [1 0 0 1]\n",
      "c [0 0 0 0 0 0 0 0 0]\n"
     ]
    },
    {
     "data": {
      "image/png": "[encoded data removed]",
      "text/plain": [
       "<Figure size 640x480 with 1 Axes>"
      ]
     },
     "metadata": {},
     "output_type": "display_data"
    }
   ],
   "source": []
  },
  {
   "cell_type": "code",
   "execution_count": 9,
   "metadata": {},
   "outputs": [
    {
     "name": "stdout",
     "output_type": "stream",
     "text": [
      "PCM for x-stabilizers, L=3 rotated surface code\n",
      "[[1 1 0 1 1 0 0 0 0]\n",
      " [0 0 0 0 1 1 0 1 1]\n",
      " [0 0 1 0 0 1 0 0 0]\n",
      " [0 0 0 1 0 0 1 0 0]]\n",
      "<pymatching.Matching object with 4 detectors, 1 boundary node, and 7 edges>\n",
      "z noise: [0 0 0 1 0 0 0 0 0]\n",
      "syndrome: [1 0 0 1]\n",
      "predicted logical error: [0 0 0 0 0 0 0 0 0]\n"
     ]
    }
   ],
   "source": [
    "(\"\"\"\n",
    "            \n",
    "         0 --- 1 --- 2\n",
    "         |  X  |     | X\n",
    "         3 --- 4 --- 5\n",
    "       X |     |  X  |        <--- qubit numbering and X stabilizers \n",
    "         6 --- 7 --- 8\n",
    "                  \n",
    "    \n",
    "\"\"\")\n",
    "# OKAY IM A FUCKING IDIOT, WE NEED TO BE NUMBERING THE SQUARES, NOT THE QUBITS!\n",
    "# see fig 5: https://arxiv.org/pdf/2307.14989\n",
    "from pymatching import Matching\n",
    "# generate a matching object specific to the PCM for x-stabilizers\n",
    "matching_x = Matching(Hx)\n",
    "print(\"PCM for x-stabilizers, L=3 rotated surface code\")\n",
    "print(Hx)\n",
    "# matching = Matching.from_check_matrix(Hx, use_virtual_boundary_node=True)\n",
    "matching = Matching(Hx)\n",
    "print(matching)\n",
    "noise = np.array([0, 0, 0, 1, 0, 0, 0, 0, 0]) # Z error on qubit '3'\n",
    "print(\"z noise:\", noise)\n",
    "s = Hx @ noise % 2\n",
    "print(\"syndrome:\", s)\n",
    "c = matching.decode(s)\n",
    "print(\"predicted logical error:\", c)\n",
    "\n",
    "# x_logicals = toric_code_x_logicals(L)\n",
    "# logical_flip_pred = x_logicals @ c % 2\n",
    "# logical_flip_true = x_logicals @ noise % 2\n",
    "# print(\"true logical error:\", logical_flip_true)\n",
    "# print(\"predicted logical error:\", logical_flip_pred)"
   ]
  },
  {
   "cell_type": "code",
   "execution_count": 135,
   "metadata": {},
   "outputs": [
    {
     "name": "stdout",
     "output_type": "stream",
     "text": [
      "Z noise: [0 0 0 1 0 0 0 0 0]\n",
      "Prediction:  [0 0 0 0 0 0 0 0 0]\n",
      "True logical obs flipped:  [1 0]\n",
      "Predicted logical obs flipped:  [0 0]\n"
     ]
    }
   ],
   "source": [
    "from pymatching import Matching\n",
    "# generate a matching object specific to the PCM for x-stabilizers\n",
    "matching_x = Matching(Hx)\n",
    "\n",
    "# The noise we care about deepends _only_ on the z-type pauilis occuring the error string\n",
    "# i.e. if an error E = [ e_x e_z ] in binary symplectic form, then Hx only 'sees' e_z\n",
    "p = 0.1\n",
    "# for my project, this will just go over all possible errors :)\n",
    "# z_noise = np.random.binomial(1, p, size=Hx.shape[1])\n",
    "z_noise = np.array([0, 0, 0, 1, 0, 0, 0, 0, 0])\n",
    "z_syndrome = Hx @ z_noise % 2\n",
    "print(\"Z noise:\", z_noise)\n",
    "\n",
    "# generate a prediction and predict logical error\n",
    "prediction = matching_x.decode(z_syndrome)\n",
    "x_logicals = toric_code_x_logicals(L)\n",
    "logical_error_pred = x_logicals @ prediction % 2\n",
    "logical_error_true = x_logicals @ z_noise % 2\n",
    "\n",
    "print(\"Prediction: \", prediction)\n",
    "print(\"True logical obs flipped: \", logical_error_true)\n",
    "print(\"Predicted logical obs flipped: \", logical_error_pred)\n"
   ]
  },
  {
   "cell_type": "code",
   "execution_count": 20,
   "metadata": {},
   "outputs": [
    {
     "name": "stdout",
     "output_type": "stream",
     "text": [
      "z_syndrome [1 1 1 1]\n",
      "z error [0 0 0 1 0 1 0 0 0]\n"
     ]
    }
   ],
   "source": [
    "print(\"z_syndrome\", z_syndrome)\n",
    "print(\"z error\", z_noise_component)"
   ]
  },
  {
   "cell_type": "code",
   "execution_count": 7,
   "metadata": {},
   "outputs": [],
   "source": [
    "t = stim.Tableau.from_stabilizers(stabilizers, allow_redundant=True, allow_underconstrained=True)\n",
    "# we leave out the final stabilizer that canonically represents the degree of \n",
    "# freedom for a state we didn't specify\n",
    "generators_S = [t.z_output(k) for k in range(len(t) - 1)]\n",
    "generators_T = [t.x_output(k) for k in range(len(t) - 1)]\n",
    "generators_L = [stim.PauliString(p*L) for p in [\"I\", \"X\"]]"
   ]
  },
  {
   "cell_type": "code",
   "execution_count": null,
   "metadata": {},
   "outputs": [
    {
     "name": "stdout",
     "output_type": "stream",
     "text": [
      "8 9 1\n"
     ]
    },
    {
     "name": "stdout",
     "output_type": "stream",
     "text": [
      "Maximum likelihood, L=3\n",
      "0.9397690759087137\n"
     ]
    }
   ],
   "source": [
    "from mldec.utils import pauli_decoding_stim\n",
    "p_I = 0.99\n",
    "n = L ** 2\n",
    "k = 1\n",
    "temp = []\n",
    "pvec = [p_I, (1-p_I)/3, (1-p_I)/3, (1-p_I)/3]\n",
    "error_channel = lambda x: pauli_decoding_stim.pauli_vector_channel(pvec, x, n)\n",
    "p_SA = pauli_decoding_stim.compute_coset_distribution_pure_errors(generators_S, generators_T, generators_L, error_channel)\n",
    "\n",
    "mle = pauli_decoding_stim.mle_success_prob(p_SA)\n",
    "print(\"Maximum likelihood, L={}\".format(L))\n",
    "print(mle)\n"
   ]
  },
  {
   "cell_type": "code",
   "execution_count": 11,
   "metadata": {},
   "outputs": [],
   "source": [
    "from itertools import chain, combinations\n",
    "from functools import reduce\n",
    "def powerset(iterable):\n",
    "    s = list(iterable)\n",
    "    return chain.from_iterable(combinations(s, r) for r in range(len(s)+1))\n",
    "        \n"
   ]
  },
  {
   "cell_type": "code",
   "execution_count": 15,
   "metadata": {},
   "outputs": [
    {
     "data": {
      "text/plain": [
       "<enumerate at 0x26bb72d9c10>"
      ]
     },
     "execution_count": 15,
     "metadata": {},
     "output_type": "execute_result"
    }
   ],
   "source": [
    "enumerate(powerset([1,2,3]))"
   ]
  },
  {
   "cell_type": "markdown",
   "metadata": {},
   "source": [
    "#### what we need is:\n",
    "1. answers for MLE on every syndrome -> separates good and bad\n",
    "2. for all \"good\" syndromes, we need answers from pymatching.\n",
    "\n",
    "#### build the parity check matrices\n",
    "\n",
    "so MWPM decoding for X-type and Z-type errors is the same process (PCM might be different), so our procedure is:\n",
    "1. get the syndrome logical pair $(\\sigma, \\ell)$\n",
    "2. Check that $f^*(\\sigma) = \\ell$, so we know we have a good example\n",
    "3. Let $\\sigma = [\\sigma_X | \\sigma_Z]$\n",
    "4. MWPM decode $\\sigma$ into $\\ell_X \\ell_Z = \\hat{\\ell}$, our guess for the logical operator\n",
    "5. if $\\hat{\\ell} \\notin \\ell \\mathcal{S}$, then we have an important example\n",
    "\n",
    "Issues:\n",
    " - organizing everything might be tough; do we start with $\\ell$\n",
    " - idea: I build the prism from the ground up; I could run MWPM at each layer before generating $\\ell \\mathcal{S}$, then check equality as I fill out that coset\n",
    " - probably need to downgrade to numpy 1.26"
   ]
  },
  {
   "cell_type": "code",
   "execution_count": 19,
   "metadata": {},
   "outputs": [],
   "source": [
    "import numpy as np\n",
    "from scipy.sparse import hstack, kron, eye, csc_matrix, block_diag\n",
    "\n",
    "\n",
    "def repetition_code(n):\n",
    "    \"\"\"\n",
    "    Parity check matrix of a repetition code with length n.\n",
    "    \"\"\"\n",
    "    row_ind, col_ind = zip(*((i, j) for i in range(n) for j in (i, (i+1)%n)))\n",
    "    data = np.ones(2*n, dtype=np.uint8)\n",
    "    return csc_matrix((data, (row_ind, col_ind)))\n",
    "\n",
    "\n",
    "def toric_code_x_stabilisers(L):\n",
    "    \"\"\"\n",
    "    Sparse check matrix for the X stabilisers of a toric code with\n",
    "    lattice size L, constructed as the hypergraph product of\n",
    "    two repetition codes.\n",
    "    \"\"\"\n",
    "    Hr = repetition_code(L)\n",
    "    H = hstack(\n",
    "            [kron(Hr, eye(Hr.shape[1])), kron(eye(Hr.shape[0]), Hr.T)],\n",
    "            dtype=np.uint8\n",
    "        )\n",
    "    H.data = H.data % 2\n",
    "    H.eliminate_zeros()\n",
    "    return csc_matrix(H)\n",
    "\n"
   ]
  },
  {
   "cell_type": "code",
   "execution_count": null,
   "metadata": {},
   "outputs": [],
   "source": [
    "toric_code"
   ]
  }
 ],
 "metadata": {
  "kernelspec": {
   "display_name": ".venv",
   "language": "python",
   "name": "python3"
  },
  "language_info": {
   "codemirror_mode": {
    "name": "ipython",
    "version": 3
   },
   "file_extension": ".py",
   "mimetype": "text/x-python",
   "name": "python",
   "nbconvert_exporter": "python",
   "pygments_lexer": "ipython3",
   "version": "3.11.1"
  }
 },
 "nbformat": 4,
 "nbformat_minor": 2
}
