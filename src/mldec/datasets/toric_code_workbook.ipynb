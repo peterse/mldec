{
 "cells": [
  {
   "cell_type": "code",
   "execution_count": 28,
   "metadata": {},
   "outputs": [
    {
     "name": "stdout",
     "output_type": "stream",
     "text": [
      "The autoreload extension is already loaded. To reload it, use:\n",
      "  %reload_ext autoreload\n"
     ]
    }
   ],
   "source": [
    "# autoreload magic\n",
    "%load_ext autoreload\n",
    "%autoreload 2"
   ]
  },
  {
   "cell_type": "code",
   "execution_count": 110,
   "metadata": {},
   "outputs": [
    {
     "name": "stdout",
     "output_type": "stream",
     "text": [
      "[0.10890275 0.05827309 0.06375975 0.08003794 0.02708494 0.07165783\n",
      " 0.02283591 0.0800562  0.03437773]\n"
     ]
    }
   ],
   "source": [
    "import numpy as np\n",
    "config = {'p': 0.05, 'var': 0.03}\n",
    "p = config.get('p')\n",
    "# alpha = config.get('alpha')\n",
    "var = config.get('var')\n",
    "np.random.seed(222) # just for reproducibility\n",
    "p_samp = np.random.normal(p, var, size=n)\n",
    "print(p_samp)"
   ]
  },
  {
   "cell_type": "code",
   "execution_count": null,
   "metadata": {},
   "outputs": [],
   "source": [
    "from mldec.datasets import toric_code_data\n",
    "from mldec.models import baselines\n",
    "from mldec.utils import evaluation\n",
    "\n",
    "config = {'p': 0.1, 'var': 0.03}\n",
    "# config = {'p': 0.06, 'var': 0.02}\n",
    "n = 9\n",
    "X, Y, weights = toric_code_data.create_dataset_training(n, config, cache=True)"
   ]
  },
  {
   "cell_type": "code",
   "execution_count": null,
   "metadata": {},
   "outputs": [],
   "source": [
    "# X, Y, weights = toric_code_data.uniform_over_good_examples(n, config, cache=True)"
   ]
  },
  {
   "cell_type": "code",
   "execution_count": 156,
   "metadata": {},
   "outputs": [
    {
     "name": "stdout",
     "output_type": "stream",
     "text": [
      "Minimum weight decoder validation accuracy: 0.99845290184021\n"
     ]
    }
   ],
   "source": [
    "minimum_weight_decoder = baselines.MinimumWeightPerfectMatching()\n",
    "minimum_weight_decoder.make_decoder(X, Y)\n",
    "preds = minimum_weight_decoder.predict(X).numpy()\n",
    "# i = 0\n",
    "# j = 0\n",
    "# for x, y, pred, wt in zip(X, Y, preds, weights):\n",
    "#     print(x, y, pred, wt)\n",
    "#     i += 1\n",
    "#     if i == 4:\n",
    "#         print()\n",
    "#         i = 0\n",
    "#     j += 1\n",
    "#     if j > 20:\n",
    "#         break\n",
    "minimum_weight_val_acc = evaluation.weighted_accuracy(minimum_weight_decoder, X, Y, weights)\n",
    "print(f\"Minimum weight decoder validation accuracy: {minimum_weight_val_acc}\")"
   ]
  },
  {
   "cell_type": "code",
   "execution_count": 106,
   "metadata": {},
   "outputs": [
    {
     "name": "stdout",
     "output_type": "stream",
     "text": [
      "torch.Size([249, 8]) torch.Size([249, 2]) torch.Size([249]) (1024,)\n"
     ]
    }
   ],
   "source": [
    "X, Y, weightsb, hist = toric_code_data.sample_virtual_XY(weights, 1000, n, config, cache=True)\n",
    "print(X.shape, Y.shape, weightsb.shape, hist.shape)"
   ]
  },
  {
   "cell_type": "code",
   "execution_count": null,
   "metadata": {},
   "outputs": [],
   "source": [
    "x_generators, z_generators, Hx, Hz = toric_code.rotated_surface_code_stabilizers(3)\n",
    "generators = x_generators + z_generators\n",
    "t = stim.Tableau.from_stabilizers(generators, allow_redundant=True, allow_underconstrained=True)\n",
    "# we leave out the final stabilizer that canonically represents the degree of \n",
    "# freedom for a state we didn't specify\n",
    "generators_S = [t.z_output(k) for k in range(len(t) - 1)] # stabilizer generators, ordered X type then Z type\n",
    "generators_T = [t.x_output(k) for k in range(len(t) - 1)] # pure error generators, arbitrary order\n",
    "generators_L = toric_code.rotated_toric_code_logicals(3) # logicals, ordered X type then Z type\n"
   ]
  },
  {
   "cell_type": "code",
   "execution_count": null,
   "metadata": {},
   "outputs": [],
   "source": [
    "\n",
    "\n",
    "\n",
    "def build_lst_lookup_and_mle(generators_S, generators_T, generators_L, Hx, Hz, noise_model):\n",
    "    \"\"\"Starting from STL, create a lookup table mapping an error to a (syndrome, ell) pair.\n",
    "\n",
    "    Note: The S,L generators are expected to be [logical_xs, logical_zs] \n",
    "    errors in returned hash are binary symplectic form\n",
    "\n",
    "    Conventions:\n",
    "     - sigma_z means syndromes for z-stabilizer violations\n",
    "\n",
    "    TIE-BREAKING: If there are multiple cosets with the same probability, there is no consistent\n",
    "    way to break ties so that MWPM matches MLE in the iid situation. So, we will return\n",
    "    the set of all cosets that are tied for the most likely. This means the mle_lookup will\n",
    "    be ragged, and should be handled carefully.\n",
    "\n",
    "\n",
    "    Args:\n",
    "        generators_S: list of generators of the stabilizer group\n",
    "        generators_T: list of pure errors\n",
    "        generators_L: list of logical Pauli operators\n",
    "        Hx, Hz: PCMs for the x- and z-stabilizers\n",
    "    \n",
    "    Returns: This is a two-for-one function, returning both the LST lookup table and the MLE lookup table\n",
    "        lst: a dictionary mapping errors to (syndrome, ell) pairs\n",
    "            {(error_x, error_z): (np.array([syndrome_x, syndrome_z]), np.array([logical_x, logical_z]))}\n",
    "                error_x: shape n\n",
    "                syndrome_x: shape r\n",
    "                logical_x: shape k\n",
    "            where syndrome_x is the syndrome for x-stabilizers (in order)\n",
    "            logical_x is a bitmask for logical operators in logical_x\n",
    "        mle: a dictionary mapping syndromes to the set of most likely logical _errors_\n",
    "            {(syndrome_x, syndrome_z): [np.array([logical_x, logical_z]), ...]}\n",
    "    \n",
    "    \"\"\"\n",
    "\n",
    "    # about 6 seconds\n",
    "\n",
    "    r = len(generators)\n",
    "    n = len(generators[0])\n",
    "    k = n - r\n",
    "    assert len(generators_L) == 2*k\n",
    "    assert len(generators_T) == r\n",
    "    lst = {}\n",
    "    mle = {}\n",
    "    err_prs = {}\n",
    "    mle_acc = 0\n",
    "\n",
    "    for a, pure_error_lst in enumerate(powerset(generators_T)):\n",
    "        pure_error = operator_sequence_to_stim(pure_error_lst, n)\n",
    "        xerr, zerr = pure_error.to_numpy()\n",
    "        if len(xerr) == 0 and len(zerr) == 0:\n",
    "            xerr = np.zeros(n, dtype=int)\n",
    "            zerr = np.zeros(n, dtype=int)\n",
    "        sigma_z = (Hz @ xerr) % 2\n",
    "        sigma_x = (Hx @ zerr) % 2\n",
    "        sigma = np.concatenate((sigma_x, sigma_z), axis=0)\n",
    "        # we will fill up logical_probs with corresponding total probabilities, then pick the biggest\n",
    "        # the logical masks are [logical_x, logical_z] bitmasks\n",
    "        logical_probs = np.zeros(4**k)\n",
    "        logical_masks = np.array(list(itertools.product([0, 1], repeat=2*k)))\n",
    "        for b, logical_mask in enumerate(logical_masks):\n",
    "            # to enumerate over the logicals, we want to preserve their order \n",
    "            # as provided in generators_L, as this will determine the binary\n",
    "            # mask representing that logical\n",
    "            logical_op_lst = [generators_L[i] for i, bit in enumerate(logical_mask) if bit]\n",
    "            logical_op = operator_sequence_to_stim(logical_op_lst, n)\n",
    "            for c, stabilizer_lst in enumerate(powerset(generators_S)):\n",
    "                stabilizer = operator_sequence_to_stim(stabilizer_lst, n)\n",
    "                error = pure_error * logical_op * stabilizer\n",
    "                error_symplectic = np.concatenate(error.to_numpy(), axis=0).astype(int)\n",
    "                p_err = noise_model(n, error_symplectic)\n",
    "                err_key = tuple(error_symplectic)\n",
    "                err_prs[err_key] = p_err\n",
    "                lst[err_key] = (sigma, np.array(logical_mask))\n",
    "                logical_probs[b] += p_err\n",
    "        # no tiebreak, just return everything that is consistent.\n",
    "        best = logical_probs.max()\n",
    "        mle_acc += best\n",
    "        rtol = 1e-6\n",
    "        winners = np.nonzero(np.isclose(logical_probs, best, rtol=rtol))[0]\n",
    "        mle[tuple(sigma)] = logical_masks[winners]\n",
    "\n",
    "\n",
    "    return lst, mle, mle_acc, err_prs\n",
    "\n",
    "def make_depol_noise_model(n, config):\n",
    "    p = config.get('p')\n",
    "    alpha = config.get('alpha')\n",
    "    def depol_noise_model(n, err):\n",
    "        \"\"\"\n",
    "        Args:\n",
    "            error: [error_x, error_z] with length 2n\n",
    "        \"\"\"\n",
    "\n",
    "        wt = sum(np.logical_or(err[:n], err[n:]))\n",
    "        out = (p/3)**wt * (1-p)**(n-wt)\n",
    "        return out\n",
    "    return depol_noise_model\n",
    "\n",
    "\n",
    "# def biased_noise_model(n, err, config):\n",
    "#     \"\"\"\n",
    "#     Biased noise model where half of the qubits are more likely to depolarize\n",
    "#     \"\"\"\n",
    "#     p = config.get('p')\n",
    "#     alpha = config.get('alpha')\n",
    "#     p1 = p\n",
    "#     p2 = p * alpha\n",
    "#     err_str = np.logical_or(err[:n], err[n:])\n",
    "#     p_first = np.prod((p1/3)*err_str[:n//2] +(1-p1)*(1-err_str[:n//2]))\n",
    "#     p_second = np.prod((p2/3)*err_str[n//2:] + (1-p2)*(1-err_str[n//2:]))\n",
    "#     return np.multiply(p_first, p_second)\n",
    "\n"
   ]
  },
  {
   "cell_type": "code",
   "execution_count": 81,
   "metadata": {},
   "outputs": [],
   "source": [
    "\n",
    "def make_variance_noise_model(n, config):\n",
    "    p = config.get('p')\n",
    "    # alpha = config.get('alpha')\n",
    "    var = config.get('var')\n",
    "    np.random.seed(222) # just for reproducibility\n",
    "    p_samp = np.random.normal(p, var, size=n)\n",
    "    print(p_samp)\n",
    "    def variance_noise_model(n, err):\n",
    "        \"\"\"\n",
    "        After sampling some vector (p_1, ..., p_n) with variance var, each qubit has a different \n",
    "         depol. channel probability p_i\n",
    "\n",
    "        Args:\n",
    "            error: [error_x, error_z] with length 2n\n",
    "        \"\"\"\n",
    "        is_err = np.logical_or(err[:n], err[n:]).astype(bool)\n",
    "        is_not_err = np.logical_not(is_err).astype(bool)\n",
    "        error_prob = np.prod(p_samp[is_err] / 3)\n",
    "        no_error_prob = np.prod(1-p_samp[is_not_err])\n",
    "        out = error_prob * no_error_prob\n",
    "        return out\n",
    "    \n",
    "    return variance_noise_model\n"
   ]
  },
  {
   "cell_type": "code",
   "execution_count": 120,
   "metadata": {},
   "outputs": [
    {
     "name": "stdout",
     "output_type": "stream",
     "text": [
      "[0.15890275 0.10827309 0.11375975 0.13003794 0.07708494 0.12165783\n",
      " 0.07283591 0.1300562  0.08437773]\n"
     ]
    }
   ],
   "source": [
    "L = 3\n",
    "n = 9\n",
    "# noise = 'depol'\n",
    "noise = 'variance'\n",
    "if noise == 'depol':\n",
    "    noise_config = {'p': 0.1}\n",
    "    noise_model = make_depol_noise_model(n, noise_config)\n",
    "elif noise == 'variance':\n",
    "    noise_config = {'p': 0.1, 'var': 0.03}\n",
    "    # noise_config = {'p': 0.2, 'var': 0.05}\n",
    "    noise_model = make_variance_noise_model(n, noise_config)\n",
    "\n",
    "    \n",
    "lst, mle_lookup, mle_acc, err_prs = build_lst_lookup_and_mle(generators_S, generators_T, generators_L, Hx, Hz, noise_model)\n"
   ]
  },
  {
   "cell_type": "code",
   "execution_count": 121,
   "metadata": {},
   "outputs": [],
   "source": [
    "def build_mwpm_lookup(L, Hx, Hz, generators_L, lookup):\n",
    "    \"\"\"Create a lookup table for the output of MWPM decoding that error.\n",
    "    \n",
    "    Args:\n",
    "        L: the side length of the lattice\n",
    "        Hx, Hz: the parity check matrices for the x- and z-stabilizers\n",
    "        generators_L: the logical operators\n",
    "        lookup: A lookup mapping errors to (syndrome, logical) pairs. Since we're computing \n",
    "            this anyways, we can save time on Gaussian elim to find a logical op coset containing\n",
    "            to each mwpm error prediction\n",
    "    Returns\n",
    "        dct: a dictionary mapping\n",
    "            {(syndrome_x, syndrome_z): np.array([logical_x, logical_z])}\n",
    "\n",
    "    \"\"\"\n",
    "    x_logical, z_logical = generators_L\n",
    "    x_logical = x_logical.to_numpy()[0]\n",
    "    z_logical = z_logical.to_numpy()[1]\n",
    "    if L != 3:\n",
    "        raise NotImplementedError(\"Only L=3 is supported for now\")\n",
    "    \n",
    "    n = L ** 2\n",
    "    # generate a matching object specific to the PCM for x-stabilizers\n",
    "    matching_x = Matching(Hx)\n",
    "    matching_z = Matching(Hz)\n",
    "    out = {}\n",
    "    for i, sigma_x in enumerate(itertools.product([0, 1], repeat=4)): # syndrome for z-type errors i.e. x-stabilizer violations\n",
    "        zerr_pred = matching_x.decode(np.array(sigma_x))\n",
    "        for j, sigma_z in enumerate(itertools.product([0, 1], repeat=4)): # x-type errors, i.e. z-stabilizer violations\n",
    "\n",
    "            xerr_pred = matching_z.decode(np.array(sigma_z))\n",
    "            # MWPM has predicted the error, now we determine which logical coset this belongs to.\n",
    "            err_pred = np.concatenate((xerr_pred, zerr_pred), axis=0)\n",
    "            _, logical_op = lookup[tuple(err_pred)]\n",
    "            out[tuple(sigma_x + sigma_z)] = logical_op\n",
    "    return out\n",
    "\n",
    "mwpm_lookup = build_mwpm_lookup(L, Hx, Hz, generators_L, lst)"
   ]
  },
  {
   "cell_type": "code",
   "execution_count": 122,
   "metadata": {},
   "outputs": [],
   "source": [
    "# compute the syndrome probabilities and syndrome weight distributions\n",
    "\n",
    "def build_syndrome_probs_and_weight_distr(generators_S, generators_T, generators_L, Hx, Hz, noise_model):\n",
    "    \"\"\"Compute a table of syndrome probabilities, and a table of error weight distribution by syndrome.\n",
    "\n",
    "    Returns:\n",
    "        p_SL: a dictionary mapping (sigma, ell) to the probability of that pair\n",
    "        hist_SL_wts: a dictionary mapping (sigma, ell) an (n+1) array of weights, where the ith entry is the \n",
    "            cum. probability of errors in that coset enumerator having weight i\n",
    "    \"\"\"\n",
    "\n",
    "    p_SL = {}\n",
    "    hist_SL_wts = {}\n",
    "\n",
    "    r = len(generators)\n",
    "    n = len(generators[0])\n",
    "    k = n - r\n",
    "    assert len(generators_L) == 2*k\n",
    "    assert len(generators_T) == r\n",
    "    for a, pure_error_lst in enumerate(powerset(generators_T)):\n",
    "        pure_error = operator_sequence_to_stim(pure_error_lst, n)\n",
    "        xerr, zerr = pure_error.to_numpy()\n",
    "        sigma_z = (Hz @ xerr) % 2\n",
    "        sigma_x = (Hx @ zerr) % 2\n",
    "        sigma = np.concatenate((sigma_x, sigma_z), axis=0)\n",
    "        p_sigma = 0\n",
    "        logical_masks = np.array(list(itertools.product([0, 1], repeat=2*k)))\n",
    "        for b, logical_mask in enumerate(logical_masks):\n",
    "            # to enumerate over the logicals, we want to preserve their order \n",
    "            # as provided in generators_L, as this will determine the binary\n",
    "            # mask representing that logical\n",
    "            p_SL[(tuple(sigma), tuple(logical_mask))] = 0\n",
    "            hist_SL_wts[(tuple(sigma), tuple(logical_mask))] = np.zeros(n+1)\n",
    "            logical_op_lst = [generators_L[i] for i, bit in enumerate(logical_mask) if bit]\n",
    "            logical_op = operator_sequence_to_stim(logical_op_lst, n)\n",
    "            for c, stabilizer_lst in enumerate(powerset(generators_S)):\n",
    "                stabilizer = operator_sequence_to_stim(stabilizer_lst, n)\n",
    "                error = pure_error * logical_op * stabilizer\n",
    "                error_symplectic = np.concatenate(error.to_numpy(), axis=0).astype(int)\n",
    "                p_err = noise_model(n, error_symplectic)\n",
    "                wt = sum(np.logical_or(error_symplectic[:n], error_symplectic[n:]))\n",
    "\n",
    "                # increment the probability of this (sigma, ell) pair, and the weight enumerator for this\n",
    "                p_SL[(tuple(sigma), tuple(logical_mask))] += p_err\n",
    "                hist_SL_wts[(tuple(sigma), tuple(logical_mask))][wt] += p_err\n",
    "            \n",
    "\n",
    "    return p_SL, hist_SL_wts"
   ]
  },
  {
   "cell_type": "code",
   "execution_count": 123,
   "metadata": {},
   "outputs": [],
   "source": [
    "p_SL, hist_SL_wts = build_syndrome_probs_and_weight_distr(generators_S, generators_T, generators_L, Hx, Hz, noise_model)"
   ]
  },
  {
   "cell_type": "markdown",
   "metadata": {},
   "source": [
    "### V&V\n",
    "\n",
    "A few sanity checks for v/v:\n",
    " - We know MWPM should be MLD for iid noise with _uncorrelated_ X- and Z- errors (not the same as \"independent\" in iid!). So I verified that there are no important errors for a bitflip-only model, i.e. MWPM is MLD in that case.\n",
    " "
   ]
  },
  {
   "cell_type": "code",
   "execution_count": 124,
   "metadata": {},
   "outputs": [
    {
     "name": "stdout",
     "output_type": "stream",
     "text": [
      "[3.46193958e-01 3.91345557e-01 9.49827172e-02 1.07273453e-02\n",
      " 1.42477095e-03 1.57376338e-04 1.17831931e-05 7.00961000e-07\n",
      " 2.23211213e-08 2.14687689e-10]\n",
      "[0.00000000e+00 0.00000000e+00 3.35400439e-02 6.21470220e-03\n",
      " 1.16422680e-03 1.37193600e-04 1.13160530e-05 6.14238110e-07\n",
      " 1.73191042e-08 1.82605691e-10]\n",
      "[0.00000000e+00 0.00000000e+00 6.62852431e-02 3.90988545e-02\n",
      " 7.67668303e-03 9.47013843e-04 7.60283982e-05 3.72187823e-06\n",
      " 1.08158090e-07 1.51047085e-09]\n",
      "1.0\n"
     ]
    }
   ],
   "source": [
    "\n",
    "n = L**2\n",
    "weights = np.arange(0, n+1)\n",
    "unimportant_prs = np.zeros(n+1)\n",
    "bad_prs = np.zeros(n+1)\n",
    "important_prs = np.zeros(n+1)\n",
    "\n",
    "for syndrome in itertools.product([0, 1], repeat=n-1):\n",
    "    syndrome = tuple(syndrome)\n",
    "    logical_mles = mle_lookup[syndrome]\n",
    "    logical_mwpm = mwpm_lookup[syndrome]\n",
    "    syndrome_not_counted = True\n",
    "\n",
    "    for logical in itertools.product([0,1], repeat=2):\n",
    "        logical = tuple(logical)\n",
    "        f0_is_correct = not sum(logical_mwpm ^ logical) \n",
    "        fstar_is_correct = any(np.equal(logical_mles, logical).all(1)) \n",
    "        f0_in_fstar = any(np.equal(logical_mles, logical_mwpm).all(1))\n",
    "        p_sigma_logical = p_SL[(syndrome, logical)]\n",
    "\n",
    "        # for each of the errors in the enumerator, we update\n",
    "        # the corresponding distribution (important, unimportant, bad)\n",
    "        # with the probability of this error, at the error's weight\n",
    "        wt_distr = hist_SL_wts[(syndrome, logical)]\n",
    "    \n",
    "        if fstar_is_correct and syndrome_not_counted:\n",
    "            # we only count one syndrome as the answer to MLE\n",
    "            syndrome_not_counted = False\n",
    "            # TODO: need a scheme for weight enumeration here.\n",
    "            if not f0_is_correct:\n",
    "                important_prs += wt_distr\n",
    "            else:\n",
    "                unimportant_prs += wt_distr\n",
    "        else:\n",
    "            bad_prs += wt_distr\n",
    "\n",
    "print(unimportant_prs)\n",
    "print(important_prs)\n",
    "print(bad_prs)\n",
    "# compute the sum of all 3\n",
    "print(sum(unimportant_prs) + sum(important_prs) + sum(bad_prs))"
   ]
  },
  {
   "cell_type": "code",
   "execution_count": 136,
   "metadata": {},
   "outputs": [
    {
     "name": "stdout",
     "output_type": "stream",
     "text": [
      "\n"
     ]
    },
    {
     "data": {
      "image/png": "[encoded data removed]",
      "text/plain": [
       "<Figure size 551.181x354.331 with 1 Axes>"
      ]
     },
     "metadata": {},
     "output_type": "display_data"
    }
   ],
   "source": [
    "import matplotlib.pyplot as plt\n",
    "cm = 1/2.54\n",
    "fig, ax = plt.subplots(1, 1, figsize=(14*cm, 9*cm), constrained_layout = True)\n",
    "#matplotlib rendering bug https://stackoverflow.com/questions/5195466/matplotlib-does-not-display-hatching-when-rendering-to-pdf\n",
    "\n",
    "zero = min(bad_prs)\n",
    "\n",
    "ax.fill_between(weights, important_prs, unimportant_prs, label='unimportant', facecolor=\"grey\", edgecolor='k', alpha=0.3)\n",
    "# ax.plot(weights, unimportant_prs, label='unimportant', c='k', alpha=1)\n",
    "ax.fill_between(weights, np.ones_like(bad_prs) * zero, bad_prs, label='bad', facecolor=\"r\",  alpha=0.1)\n",
    "ax.plot(weights[bad_prs>0], bad_prs[bad_prs>0], alpha=1, c='r') # bold line\n",
    "ax.fill_between(weights, np.ones_like(bad_prs) * zero, bad_prs, facecolor='none', hatch=\"x\", edgecolor='r', alpha=.8)  #hatching nonalpha\n",
    "\n",
    "ax.fill_between(weights, np.ones_like(important_prs) * zero, important_prs, label='important', facecolor='g', edgecolor='g', alpha=0.6, )\n",
    "ax.plot(weights[important_prs>0], important_prs[important_prs>0], c='g', alpha=1 )\n",
    "# ax.fill_between(weights, np.ones_like(important_prs) * zero, important_prs, label='important',  facecolor=\"none\",  hatch='|', edgecolor='g', alpha=.8, )\n",
    "all = unimportant_prs + important_prs + bad_prs\n",
    "ax.plot(weights, all, label='all', c='k', alpha=1)\n",
    "\n",
    "ax.set_xlim(0, n)\n",
    "labelsz = 12\n",
    "ax.set_xlabel(r\"Weight of error $E$ contributing to $(\\sigma, \\ell)$\", fontsize=labelsz)\n",
    "ax.set_ylabel(r\"$\\text{Pr}(E)$\", fontsize=labelsz)\n",
    "ax.semilogy()\n",
    "ax.legend(prop={'size': 11}, framealpha=1, loc='upper right', bbox_to_anchor=(1.04, 1))\n",
    "\n",
    "\n",
    "fig.savefig('../../figures/toric_code_histogram.pdf', bbox_inches='tight')\n",
    "print()"
   ]
  },
  {
   "cell_type": "code",
   "execution_count": 245,
   "metadata": {},
   "outputs": [
    {
     "name": "stdout",
     "output_type": "stream",
     "text": [
      "[7.17657949e-01 2.43093313e-01 1.76467564e-02 6.01221729e-04\n",
      " 2.33991090e-05 7.51503890e-07 1.60727735e-08 2.75013586e-10\n",
      " 2.51263719e-12 6.93672939e-15]\n",
      "[0.00000000e+00 0.00000000e+00 5.90335804e-03 3.27378148e-04\n",
      " 1.85833974e-05 6.37604652e-07 1.51318462e-08 2.37834664e-10\n",
      " 1.91931891e-12 5.76148556e-15]\n",
      "[0.00000000e+00 0.00000000e+00 1.24660333e-02 2.13344531e-03\n",
      " 1.22622930e-04 4.41379954e-06 1.03009003e-07 1.45223964e-09\n",
      " 1.21085712e-11 4.83369413e-14]\n"
     ]
    }
   ],
   "source": [
    "print(unimportant_prs)\n",
    "print(important_prs)\n",
    "print(bad_prs)"
   ]
  }
 ],
 "metadata": {
  "kernelspec": {
   "display_name": ".venv",
   "language": "python",
   "name": "python3"
  },
  "language_info": {
   "codemirror_mode": {
    "name": "ipython",
    "version": 3
   },
   "file_extension": ".py",
   "mimetype": "text/x-python",
   "name": "python",
   "nbconvert_exporter": "python",
   "pygments_lexer": "ipython3",
   "version": "3.11.1"
  }
 },
 "nbformat": 4,
 "nbformat_minor": 2
}
