{
 "cells": [
  {
   "cell_type": "code",
   "execution_count": 1,
   "metadata": {},
   "outputs": [],
   "source": [
    "# reload magic\n",
    "%load_ext autoreload"
   ]
  },
  {
   "cell_type": "code",
   "execution_count": 2,
   "metadata": {},
   "outputs": [],
   "source": [
    "import numpy as np\n",
    "from mldec.utils.bit_tools import binarr\n",
    "import math\n",
    "from mldec.datasets import toy_problem_data"
   ]
  },
  {
   "cell_type": "code",
   "execution_count": 52,
   "metadata": {},
   "outputs": [
    {
     "data": {
      "text/plain": [
       "1"
      ]
     },
     "execution_count": 52,
     "metadata": {},
     "output_type": "execute_result"
    }
   ],
   "source": [
    "6//4"
   ]
  },
  {
   "cell_type": "code",
   "execution_count": null,
   "metadata": {},
   "outputs": [],
   "source": [
    "p1 = 0.1\n",
    "p2 = 0.07\n",
    "\n",
    "def compute_pr_unimportant_examples(n, p1, p2):\n",
    "    # unimportant means good but not important\n",
    "    # this is just for verification, all unimportant + important + bad examples should sum to 1\n",
    "    all_bitstrings = binarr(n)\n",
    "    config = {'p1': p1, 'p2': p2}\n",
    "    probs = toy_problem_data.noise_model(all_bitstrings, n, config, numpy=True)\n",
    "    idx_sorted = np.argsort(probs)\n",
    "    halfidx = 2**(n-1)\n",
    "\n",
    "    out = probs[idx_sorted][halfidx:][::-1]\n",
    "    sorted_all = all_bitstrings[idx_sorted][halfidx:][::-1]\n",
    "    # only keep sorted_all that have less than n//2 set bits\n",
    "    idx_keep = np.where(sorted_all.sum(axis=1) < n//2)\n",
    "    kept = sorted_all[idx_keep]\n",
    "    kept_probs = out[idx_keep]\n",
    "    # for (b, x) in zip(kept, kept_probs):\n",
    "    #     print(b, x)\n",
    "    return kept_probs.sum()\n",
    "\n",
    "\n",
    "def compute_pr_important_examples(n, p1, p2):\n",
    "    # all important examples have exactly n//2 set bits\n",
    "    assert n % 2 == 0\n",
    "    tot = 0\n",
    "    half_n = n//2\n",
    "    # This loop _just_ counts errors with exactly n//2 set bits\n",
    "    for i in range(0, n//4 + 1): # i is the set bits on the LHS, this will only go up to n//4\n",
    "        temp = math.comb(half_n, i) ** 2 * p2**i * (1-p2)**(half_n - i) * p1**(half_n-i) * (1-p1)**i\n",
    "        # i is the number of set bits in the first half (prob=p1), and there are n//2-i set bits in the second half (prob=p2)\n",
    "        temp = math.comb(half_n, i) ** 2 * p2**i * (1-p2)**(half_n - i) * p1**(half_n-i) * (1-p1)**i\n",
    "        if i == n//4 and n % 4 == 0:\n",
    "            temp /= 2\n",
    "        tot += temp\n",
    "    # the final probability \n",
    "    return tot/2\n",
    "\n",
    "\n",
    "def compute_pr_bad_examples(n, p1, p2):\n",
    "\n",
    "    assert n % 2 == 0\n",
    "    tot = 0\n",
    "    half_n = n//2\n",
    "    # start by computing the weight n//2 bad examples: This loop _just_ counts errors with exactly n//2 set bits\n",
    "    for i in range(0, n//4 + 1): # i is the set bits on the LHS, this will only go up to n//4\n",
    "        temp = math.comb(half_n, i) ** 2 * p1**i * (1-p1)**(half_n - i) * p2**(half_n-i) * (1-p2)**i\n",
    "        # i is the number of set bits in the first half (prob=p1), and there are n//2-i set bits in the second half (prob=p2)\n",
    "        temp = math.comb(half_n, i) ** 2 * p1**i * (1-p1)**(half_n - i) * p2**(half_n-i) * (1-p2)**i\n",
    "        if i == n//4 and n % 4 == 0:\n",
    "            temp /= 2\n",
    "        tot += temp\n",
    "    \n",
    "    # then, add up all weight > n//2 examples\n",
    "    # all of these are fair game\n",
    "    for w in range(n//2+1, n+1):\n",
    "        # compute all pairs of integers that sum to w, with neither greater than n//2\n",
    "        for i in range(max(0, w - n//2), min(w, n//2)+1):\n",
    "            # again, i is the set bits on the LHS, so there are w-i set bits on the RHS\n",
    "            pr = math.comb(n//2, i) * math.comb(n//2, w-i) * p1**i * (1-p1)**(n//2 - i) * p2**(w-i) * (1-p2)**(n//2 - (w-i))\n",
    "            tot += pr\n",
    "    return tot\n",
    "\n",
    "def compute_pr_bad_examples_v2(n, p1, p2):\n",
    "    # this is the brute force method and is slow\n",
    "    all_bitstrings = binarr(n)\n",
    "    config = {'p1': p1, 'p2': p2}\n",
    "    probs = toy_problem_data.noise_model(all_bitstrings, n, config, numpy=True)\n",
    "    idx_sorted = np.argsort(probs)\n",
    "    halfidx = 2**(n-1)\n",
    "    # out = probs[idx_sorted][:halfidx][::-1]\n",
    "    # sorted_all = all_bitstrings[idx_sorted][:halfidx][::-1]\n",
    "    # for (b, x) in zip(sorted_all, out):\n",
    "    #     print(b, x)\n",
    "    return probs[idx_sorted][:halfidx].sum()\n"
   ]
  },
  {
   "cell_type": "code",
   "execution_count": null,
   "metadata": {},
   "outputs": [
    {
     "name": "stdout",
     "output_type": "stream",
     "text": [
      "5 1 4\n",
      "5 2 3\n",
      "5 3 2\n",
      "5 4 1\n",
      "\n",
      "6 2 4\n",
      "6 3 3\n",
      "6 4 2\n",
      "\n",
      "7 3 4\n",
      "7 4 3\n",
      "\n",
      "8 4 4\n",
      "\n"
     ]
    }
   ],
   "source": [
    "n = 8\n",
    "for w in range(n//2+1, n+1):\n",
    "    for i in range(max(0, w - n//2), min(w, n//2)+1):\n",
    "        print(w, {i, w-i)\n",
    "    print()"
   ]
  },
  {
   "cell_type": "code",
   "execution_count": 65,
   "metadata": {},
   "outputs": [
    {
     "name": "stdout",
     "output_type": "stream",
     "text": [
      "4.118285303783854\n"
     ]
    }
   ],
   "source": [
    "def bitflips_upper_limit_v1(p1, p2):\n",
    "    return np.log2( (1-p1)/p1) / (np.log2(p1/p2) *(1-p2)/(1-p1) ) \n",
    "p1 = 0.1\n",
    "p2 = 0.6 * p1\n",
    "print(bitflips_upper_limit_v1(p1, p2))"
   ]
  },
  {
   "cell_type": "code",
   "execution_count": 70,
   "metadata": {},
   "outputs": [],
   "source": [
    "alpha = .4\n",
    "true_p1 = 0.1\n",
    "true_p2 = alpha * true_p1\n",
    "n = 20\n",
    "div = []\n",
    "diff = []\n",
    "pr_importants = []\n",
    "pr_bads = []\n",
    "x = np.linspace(0.01, 0.45, 100)\n",
    "for p1 in x:\n",
    "    p2 = p1 * alpha\n",
    "    pr_important = compute_pr_important_examples(n, p1, p2)\n",
    "    pr_bad = compute_pr_bad_examples(n, p1, p2)\n",
    "    frac = pr_important / pr_bad\n",
    "    difference = pr_important - pr_bad\n",
    "    # print(pr_important, pr_bad, frac, difference)\n",
    "    div.append(frac)\n",
    "    diff.append(difference)\n",
    "    pr_importants.append(pr_important)\n",
    "    pr_bads.append(pr_bad)\n",
    "    "
   ]
  },
  {
   "cell_type": "code",
   "execution_count": 71,
   "metadata": {},
   "outputs": [
    {
     "data": {
      "text/plain": [
       "<matplotlib.lines.Line2D at 0x20712378a50>"
      ]
     },
     "execution_count": 71,
     "metadata": {},
     "output_type": "execute_result"
    },
    {
     "data": {
      "image/png": "[encoded data removed]",
      "text/plain": [
       "<Figure size 1200x600 with 2 Axes>"
      ]
     },
     "metadata": {},
     "output_type": "display_data"
    }
   ],
   "source": [
    "import matplotlib.pyplot as plt\n",
    "\n",
    "fig, ax = plt.subplots(1, 2, figsize=(12, 6))\n",
    "ax[0].plot(x, div)\n",
    "ax[0].set_title('Ratio of important to bad examples')\n",
    "ax[0].set_xlabel('p1')\n",
    "ax[0].set_ylabel('Ratio')\n",
    "ax[1].plot(x, diff)\n",
    "ax[1].set_title('Difference of important to bad examples')\n",
    "ax[1].set_xlabel('p1')\n",
    "ax[1].set_ylabel('Difference')\n",
    "ax[1].axvline(true_p1, color='r', linestyle='--')"
   ]
  },
  {
   "cell_type": "code",
   "execution_count": 31,
   "metadata": {},
   "outputs": [
    {
     "data": {
      "text/plain": [
       "[<matplotlib.lines.Line2D at 0x2070f993f50>]"
      ]
     },
     "execution_count": 31,
     "metadata": {},
     "output_type": "execute_result"
    },
    {
     "data": {
      "image/png": "[encoded data removed]",
      "text/plain": [
       "<Figure size 600x600 with 1 Axes>"
      ]
     },
     "metadata": {},
     "output_type": "display_data"
    }
   ],
   "source": [
    "fig, ax = plt.subplots(1, 1, figsize=(6, 6))\n",
    "ax.plot(x, pr_importants)\n",
    "ax.plot(x, pr_bads)"
   ]
  },
  {
   "cell_type": "code",
   "execution_count": 75,
   "metadata": {},
   "outputs": [
    {
     "name": "stdout",
     "output_type": "stream",
     "text": [
      "n=6\n",
      "1.0\n",
      "n=8\n",
      "1.0\n",
      "n=10\n",
      "1.0000000000000002\n",
      "n=12\n",
      "1.0000000000000002\n"
     ]
    }
   ],
   "source": [
    "for n in [6, 8, 10, 12]:\n",
    "    print(f\"n={n}\")\n",
    "    a = compute_pr_important_examples(n, p1, p2)\n",
    "    b = compute_pr_bad_examples(n, p1, p2)\n",
    "    c = compute_pr_unimportant_examples(n, p1, p2)\n",
    "    print(a + b + c)"
   ]
  },
  {
   "cell_type": "code",
   "execution_count": 76,
   "metadata": {},
   "outputs": [
    {
     "data": {
      "text/plain": [
       "0.0015034989150000005"
      ]
     },
     "execution_count": 76,
     "metadata": {},
     "output_type": "execute_result"
    }
   ],
   "source": [
    "n = 8\n",
    "compute_pr_important_examples(n, p1, p2)"
   ]
  },
  {
   "cell_type": "code",
   "execution_count": 52,
   "metadata": {},
   "outputs": [
    {
     "data": {
      "text/plain": [
       "0.0033220530000000006"
      ]
     },
     "execution_count": 52,
     "metadata": {},
     "output_type": "execute_result"
    }
   ],
   "source": [
    "0.0003691170000000001 * 9"
   ]
  },
  {
   "cell_type": "code",
   "execution_count": 29,
   "metadata": {},
   "outputs": [
    {
     "name": "stdout",
     "output_type": "stream",
     "text": [
      "10\n",
      "10\n",
      "[1 0 0 0 1 1] [0 1 1 1 0 0]\n",
      "[1 0 0 1 0 1] [0 1 1 0 1 0]\n",
      "[1 0 0 1 1 0] [0 1 1 0 0 1]\n",
      "[1 0 1 0 0 1] [0 1 0 1 1 0]\n",
      "[1 0 1 0 1 0] [0 1 0 1 0 1]\n",
      "[1 0 1 1 0 0] [0 1 0 0 1 1]\n",
      "[1 1 0 0 0 1] [0 0 1 1 1 0]\n",
      "[1 1 0 0 1 0] [0 0 1 1 0 1]\n",
      "[1 1 0 1 0 0] [0 0 1 0 1 1]\n",
      "[1 1 1 0 0 0] [0 0 0 1 1 1]\n"
     ]
    }
   ],
   "source": [
    "n = 6\n",
    "halfidx = 2**(n-1)\n",
    "a = binarr(n)[halfidx: (halfidx + math.comb(n, n//2)//2)]\n",
    "b = binarr(n)[(halfidx - math.comb(n, n//2)//2): halfidx]\n",
    "print(len(a))\n",
    "print(len(b))\n",
    "for aa,  bb in zip(a, reversed(b)):\n",
    "    assert np.allclose(aa ^ bb, 1)\n",
    "    print(aa, bb)"
   ]
  },
  {
   "cell_type": "code",
   "execution_count": null,
   "metadata": {},
   "outputs": [
    {
     "data": {
      "text/plain": [
       "array([[0, 0, 0, 0, 0, 0],\n",
       "       [0, 0, 0, 0, 0, 1],\n",
       "       [0, 0, 0, 0, 1, 0],\n",
       "       [0, 0, 0, 1, 0, 0],\n",
       "       [0, 0, 1, 0, 0, 0],\n",
       "       [0, 1, 0, 0, 0, 0],\n",
       "       [1, 0, 0, 0, 0, 0],\n",
       "       [0, 0, 0, 0, 1, 1],\n",
       "       [0, 0, 0, 1, 0, 1],\n",
       "       [0, 0, 0, 1, 1, 0],\n",
       "       [0, 0, 1, 0, 0, 1],\n",
       "       [0, 0, 1, 0, 1, 0],\n",
       "       [0, 0, 1, 1, 0, 0],\n",
       "       [0, 1, 0, 0, 0, 1],\n",
       "       [0, 1, 0, 0, 1, 0],\n",
       "       [0, 1, 0, 1, 0, 0],\n",
       "       [0, 1, 1, 0, 0, 0],\n",
       "       [1, 0, 0, 0, 0, 1],\n",
       "       [1, 0, 0, 0, 1, 0],\n",
       "       [1, 0, 0, 1, 0, 0],\n",
       "       [1, 0, 1, 0, 0, 0],\n",
       "       [1, 1, 0, 0, 0, 0],\n",
       "       [0, 0, 0, 1, 1, 1],\n",
       "       [0, 0, 1, 0, 1, 1],\n",
       "       [0, 0, 1, 1, 0, 1],\n",
       "       [0, 0, 1, 1, 1, 0],\n",
       "       [0, 1, 0, 0, 1, 1],\n",
       "       [0, 1, 0, 1, 0, 1],\n",
       "       [0, 1, 0, 1, 1, 0],\n",
       "       [0, 1, 1, 0, 0, 1],\n",
       "       [0, 1, 1, 0, 1, 0],\n",
       "       [0, 1, 1, 1, 0, 0],\n",
       "       [1, 0, 0, 0, 1, 1],\n",
       "       [1, 0, 0, 1, 0, 1],\n",
       "       [1, 0, 0, 1, 1, 0],\n",
       "       [1, 0, 1, 0, 0, 1],\n",
       "       [1, 0, 1, 0, 1, 0],\n",
       "       [1, 0, 1, 1, 0, 0],\n",
       "       [1, 1, 0, 0, 0, 1],\n",
       "       [1, 1, 0, 0, 1, 0],\n",
       "       [1, 1, 0, 1, 0, 0],\n",
       "       [1, 1, 1, 0, 0, 0],\n",
       "       [0, 0, 1, 1, 1, 1],\n",
       "       [0, 1, 0, 1, 1, 1],\n",
       "       [0, 1, 1, 0, 1, 1],\n",
       "       [0, 1, 1, 1, 0, 1],\n",
       "       [0, 1, 1, 1, 1, 0],\n",
       "       [1, 0, 0, 1, 1, 1],\n",
       "       [1, 0, 1, 0, 1, 1],\n",
       "       [1, 0, 1, 1, 0, 1],\n",
       "       [1, 0, 1, 1, 1, 0],\n",
       "       [1, 1, 0, 0, 1, 1],\n",
       "       [1, 1, 0, 1, 0, 1],\n",
       "       [1, 1, 0, 1, 1, 0],\n",
       "       [1, 1, 1, 0, 0, 1],\n",
       "       [1, 1, 1, 0, 1, 0],\n",
       "       [1, 1, 1, 1, 0, 0],\n",
       "       [0, 1, 1, 1, 1, 1],\n",
       "       [1, 0, 1, 1, 1, 1],\n",
       "       [1, 1, 0, 1, 1, 1],\n",
       "       [1, 1, 1, 0, 1, 1],\n",
       "       [1, 1, 1, 1, 0, 1],\n",
       "       [1, 1, 1, 1, 1, 0],\n",
       "       [1, 1, 1, 1, 1, 1]])"
      ]
     },
     "execution_count": 8,
     "metadata": {},
     "output_type": "execute_result"
    }
   ],
   "source": [
    "binarr(n)[n//2:]"
   ]
  },
  {
   "cell_type": "code",
   "execution_count": 3,
   "metadata": {},
   "outputs": [],
   "source": [
    "# DATASET PARAMETERS\n",
    "experiment_name = 'repetition_code_v1'"
   ]
  },
  {
   "cell_type": "code",
   "execution_count": null,
   "metadata": {},
   "outputs": [
    {
     "name": "stdout",
     "output_type": "stream",
     "text": [
      "5.961580428619441\n"
     ]
    }
   ],
   "source": [
    "# Make the repetition code dataset where the first half and last half of bits have different error rates\n",
    "\n",
    "# tl;dr: make sure the number of bits is less than twice the number printed below.\n",
    "\n",
    "# goodness check: for the v1 noise model, as long as the number of bitflips\n",
    "# is less than this limit, then the weight-ordering of bitstrings matches \n",
    "# the likelihood ordering. In other words, if you generate all strings with num_bitflips\n",
    "# k > lim, at least one weight-k bitstring will have lower prob. than some length-(k+1) bitstring\n",
    "# ASSUMING k < n/2. The violation occurs when all k bitflips happen on the last n/2 bits, and\n",
    "# k+1 bitflips happen in the first n/2 bits. if k >= n/2, then we are fine.\n",
    "\n",
    "def bitflips_upper_limit_v1(p1, p2):\n",
    "    return np.log2( (1-p1)/p1) / (np.log2(p1/p2) *(1-p2)/(1-p1) ) \n",
    "\n",
    "print(bitflips_upper_limit_v1(p1, p2))"
   ]
  },
  {
   "cell_type": "code",
   "execution_count": null,
   "metadata": {},
   "outputs": [],
   "source": [
    "def repetition_pcm(n):\n",
    "    out = []\n",
    "    for i in range(n-1):\n",
    "        out.append([0]*i + [1, 1] + [0]*(n-i-2))\n",
    "    return np.array(out, dtype=np.uint8)\n",
    "\n",
    "\n",
    "def sample_bitstring_v1(n, p1, p2, n_data):\n",
    "    \"\"\"Sample bitstrings from the biased bitflip model v1.\n",
    "    \n",
    "    Args:\n",
    "        n: number of bits\n",
    "        p1, p2: bitflip probabilities for the first and second half of the bits\n",
    "        n_data: number of samples to generate\n",
    "    \n",
    "    Returns:\n",
    "        (n_data, n) array of bitstrings\n",
    "    \"\"\"\n",
    "    assert n % 2 == 0\n",
    "    bitstrings = np.random.rand(n_data, n) < np.concatenate([p1*np.ones(n//2), p2*np.ones(n//2)])\n",
    "    return bitstrings\n",
    "\n",
    "def bitstring_prob_v1(s, n, p1, p2, permute=None):\n",
    "    \"\"\"Create a noise model where the first n//2 bits have prob. p1 of flipping, the last n//2 have prob. p2.\n",
    "    \n",
    "    ARgs:\n",
    "        s: (n_data, n) array of bitstrings.\n",
    "    Warning: if the difference in bias is too much, the weight-ordering of bitstrings \n",
    "     is no longer the same as likelihood ordering. make sure to check the bitflips_upper_limit_v1\n",
    "    \"\"\"\n",
    "    if permute is not None:\n",
    "        s = s[:,permute]\n",
    "    p_first = np.prod(p1*s[:,:n//2] +(1-p1)*(1-s[:,:n//2]), axis=1)\n",
    "    p_second = np.prod(p2*s[:,n//2:] + (1-p2)*(1-s[:,n//2:]), axis=1)\n",
    "    return np.multiply(p_first, p_second)\n",
    "\n",
    "def calculator(p1, p2):\n",
    "    num = p1 ** 2 * (1-p2)**2\n",
    "    denom = p2 ** 2 * (1-p1)**2\n",
    "    return num / denom\n",
    "\n",
    "calculator(0.1, 0.07)"
   ]
  },
  {
   "cell_type": "code",
   "execution_count": 14,
   "metadata": {},
   "outputs": [],
   "source": [
    "# simulation parameters\n",
    "n = 8\n",
    "p1 = 0.1\n",
    "p2 = 0.07\n",
    "p1txt = str(p1).replace('.', '')\n",
    "p2txt = str(p2).replace('.', '')\n",
    "n_train_vals = np.logspace(10, 17, 9, base=2).astype(int)\n",
    "n_train_vals = [10000]"
   ]
  },
  {
   "cell_type": "code",
   "execution_count": null,
   "metadata": {},
   "outputs": [],
   "source": [
    "\n",
    "for n_train in n_train_vals:\n",
    "    dirname = f'n{n}_N{n_train}_p1{p1txt}_p2{p2txt}'\n",
    "    path = os.path.join(experiment_name, dirname)\n",
    "    # Check if the data directory exists, if not create it\n",
    "    if not os.path.exists(path):\n",
    "        os.makedirs(path)\n",
    "\n",
    "    Y_train = sample_bitstring_v1(n, p1, p2, n_train).astype(int)\n",
    "    X_train = (Y_train @ repetition_pcm(n).T % 2).astype(int)\n",
    "    np.save(f\"{path}/X_train.npy\", X_train)\n",
    "    np.save(f\"{path}/Y_train.npy\", Y_train)\n",
    "\n",
    "    Y_test = bit_tools.binarr(n)\n",
    "    X_test = (Y_test @ repetition_pcm(n).T % 2).astype(int)\n",
    "    weights_test = bitstring_prob_v1(Y_test, n, p1, p2)\n",
    "    np.save(f\"{path}/X_test.npy\", X_test)\n",
    "    np.save(f\"{path}/Y_test.npy\", Y_test)\n",
    "    np.save(f\"{path}/weights.npy\", weights_test)\n",
    "\n",
    "    # train_path = f\"{path}/train.pkl\"\n",
    "    # val_path = f\"{path}/test.pkl\"\n",
    "    # save_numpy_as_dict(X_train, train_path)\n",
    "    # save_numpy_as_dict(Y_train, val_path)\n"
   ]
  },
  {
   "cell_type": "markdown",
   "metadata": {},
   "source": [
    "### Grokking dataset\n",
    "\n",
    "This dataset will contain only good examples, and about 90% of the necessary good examples. Since we plan to train until it learns optimal decoding, we won't weight the data and just provide a list of bitstrings"
   ]
  },
  {
   "cell_type": "code",
   "execution_count": 15,
   "metadata": {},
   "outputs": [],
   "source": [
    "# The dataset has all bitstrings of <weight 4, and only ~half of the \"good\" bitstrings that have exactly weight 4\n",
    "#  (where good bitstrings are themselves the bitstrings that are more likely than their logical negation)\n",
    "wt_4_bitstrings = []\n",
    "Y_train = []\n",
    "for b in bit_tools.binarr(8):\n",
    "    \"\"\"For n = 8\"\"\"\n",
    "    tot_count = 8\n",
    "    if sum(b) < 4:\n",
    "        Y_train.append(b)\n",
    "    elif sum(b) > 4:\n",
    "        break\n",
    "    elif sum(b) == 4:\n",
    "        if sum(b[:4]) == 3:\n",
    "            wt_4_bitstrings.append(b)\n",
    "        elif sum(b[:4]) == 4:\n",
    "            Y_train.append(b)\n",
    "# shuffle the weight 4 bitstrings\n",
    "np.random.shuffle(wt_4_bitstrings)\n",
    "# select just 8 of them to add to Y_train\n",
    "Y_train += wt_4_bitstrings[:8]\n",
    "Y_train = np.array(Y_train)\n",
    "X_train = (Y_train @ repetition_pcm(8).T % 2).astype(int)\n",
    "N = len(Y_train)\n",
    "dirname = f'grok_n{n}_N{N}_p1{p1txt}_p2{p2txt}'\n",
    "path = os.path.join(experiment_name, dirname)\n",
    "if not os.path.exists(path):\n",
    "    os.makedirs(path)\n",
    "np.save(f\"{path}/X_train.npy\", X_train)\n",
    "np.save(f\"{path}/Y_train.npy\", Y_train)\n",
    "\n",
    "Y_test = bit_tools.binarr(n)\n",
    "X_test = (Y_test @ repetition_pcm(n).T % 2).astype(int)\n",
    "weights_test = bitstring_prob_v1(Y_test, n, p1, p2)\n",
    "np.save(f\"{path}/X_test.npy\", X_test)\n",
    "np.save(f\"{path}/Y_test.npy\", Y_test)\n",
    "np.save(f\"{path}/weights.npy\", weights_test)"
   ]
  },
  {
   "cell_type": "code",
   "execution_count": null,
   "metadata": {},
   "outputs": [],
   "source": []
  }
 ],
 "metadata": {
  "kernelspec": {
   "display_name": ".venv",
   "language": "python",
   "name": "python3"
  },
  "language_info": {
   "codemirror_mode": {
    "name": "ipython",
    "version": 3
   },
   "file_extension": ".py",
   "mimetype": "text/x-python",
   "name": "python",
   "nbconvert_exporter": "python",
   "pygments_lexer": "ipython3",
   "version": "3.11.1"
  }
 },
 "nbformat": 4,
 "nbformat_minor": 2
}
