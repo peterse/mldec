{
 "cells": [
  {
   "cell_type": "code",
   "execution_count": 1,
   "metadata": {},
   "outputs": [],
   "source": [
    "# reload magic\n",
    "%load_ext autoreload"
   ]
  },
  {
   "cell_type": "code",
   "execution_count": 13,
   "metadata": {},
   "outputs": [],
   "source": [
    "import numpy as np\n",
    "from mldec.utils.bit_tools import binarr\n",
    "import math\n",
    "from mldec.datasets import toy_problem_data\n",
    "import matplotlib.pyplot as plt"
   ]
  },
  {
   "cell_type": "markdown",
   "metadata": {},
   "source": [
    "### Computing set probabilities under well-ordered conditions"
   ]
  },
  {
   "cell_type": "code",
   "execution_count": null,
   "metadata": {},
   "outputs": [],
   "source": [
    "p1 = 0.1\n",
    "p2 = 0.07\n",
    "\n",
    "def compute_pr_unimportant_examples(n, p1, p2):\n",
    "    # unimportant means good but not important\n",
    "    # this is just for verification, all unimportant + important + bad examples should sum to 1\n",
    "    all_bitstrings = binarr(n)\n",
    "    config = {'p1': p1, 'p2': p2}\n",
    "    probs = toy_problem_data.noise_model(all_bitstrings, n, config, numpy=True)\n",
    "    idx_sorted = np.argsort(probs)\n",
    "    halfidx = 2**(n-1)\n",
    "\n",
    "    out = probs[idx_sorted][halfidx:][::-1]\n",
    "    sorted_all = all_bitstrings[idx_sorted][halfidx:][::-1]\n",
    "    # only keep sorted_all that have less than n//2 set bits\n",
    "    idx_keep = np.where(sorted_all.sum(axis=1) < n//2)\n",
    "    kept = sorted_all[idx_keep]\n",
    "    kept_probs = out[idx_keep]\n",
    "    # for (b, x) in zip(kept, kept_probs):\n",
    "    #     print(b, x)\n",
    "    return kept_probs.sum()\n",
    "\n",
    "\n",
    "def compute_pr_important_examples(n, p1, p2):\n",
    "    # all important examples have exactly n//2 set bits\n",
    "    assert n % 2 == 0\n",
    "    tot = 0\n",
    "    half_n = n//2\n",
    "    # This loop _just_ counts errors with exactly n//2 set bits\n",
    "    for i in range(0, n//4 + 1): # i is the set bits on the LHS, this will only go up to n//4\n",
    "        temp = math.comb(half_n, i) ** 2 * p2**i * (1-p2)**(half_n - i) * p1**(half_n-i) * (1-p1)**i\n",
    "        # i is the number of set bits in the first half (prob=p1), and there are n//2-i set bits in the second half (prob=p2)\n",
    "        temp = math.comb(half_n, i) ** 2 * p2**i * (1-p2)**(half_n - i) * p1**(half_n-i) * (1-p1)**i\n",
    "        if i == n//4 and n % 4 == 0:\n",
    "            temp /= 2\n",
    "        tot += temp\n",
    "    # the final probability \n",
    "    return tot/2\n",
    "\n",
    "\n",
    "def compute_pr_bad_examples(n, p1, p2):\n",
    "\n",
    "    assert n % 2 == 0\n",
    "    tot = 0\n",
    "    half_n = n//2\n",
    "    # start by computing the weight n//2 bad examples: This loop _just_ counts errors with exactly n//2 set bits\n",
    "    for i in range(0, n//4 + 1): # i is the set bits on the LHS, this will only go up to n//4\n",
    "        temp = math.comb(half_n, i) ** 2 * p1**i * (1-p1)**(half_n - i) * p2**(half_n-i) * (1-p2)**i\n",
    "        # i is the number of set bits in the first half (prob=p1), and there are n//2-i set bits in the second half (prob=p2)\n",
    "        temp = math.comb(half_n, i) ** 2 * p1**i * (1-p1)**(half_n - i) * p2**(half_n-i) * (1-p2)**i\n",
    "        if i == n//4 and n % 4 == 0:\n",
    "            temp /= 2\n",
    "        tot += temp\n",
    "    \n",
    "    # then, add up all weight > n//2 examples\n",
    "    # all of these are fair game\n",
    "    for w in range(n//2+1, n+1):\n",
    "        # compute all pairs of integers that sum to w, with neither greater than n//2\n",
    "        for i in range(max(0, w - n//2), min(w, n//2)+1):\n",
    "            # again, i is the set bits on the LHS, so there are w-i set bits on the RHS\n",
    "            pr = math.comb(n//2, i) * math.comb(n//2, w-i) * p1**i * (1-p1)**(n//2 - i) * p2**(w-i) * (1-p2)**(n//2 - (w-i))\n",
    "            tot += pr\n",
    "    return tot\n",
    "\n",
    "def compute_pr_bad_examples_v2(n, p1, p2):\n",
    "    # this is the brute force method and is slow\n",
    "    all_bitstrings = binarr(n)\n",
    "    config = {'p1': p1, 'p2': p2}\n",
    "    probs = toy_problem_data.noise_model(all_bitstrings, n, config, numpy=True)\n",
    "    idx_sorted = np.argsort(probs)\n",
    "    halfidx = 2**(n-1)\n",
    "    # out = probs[idx_sorted][:halfidx][::-1]\n",
    "    # sorted_all = all_bitstrings[idx_sorted][:halfidx][::-1]\n",
    "    # for (b, x) in zip(sorted_all, out):\n",
    "    #     print(b, x)\n",
    "    return probs[idx_sorted][:halfidx].sum()\n"
   ]
  },
  {
   "cell_type": "markdown",
   "metadata": {},
   "source": [
    "### Computing set probabilities in general\n",
    "\n",
    "In general, we have to compute probabilites by enumeration. WE use the fact that $x$ is good if and only if $x \\oplus 1^n$ is bad (these share a syndrome)\n",
    "1. Compute and order probabilities of all error bitstrings \n",
    "2. the first $2^{n-1}$ are good examples, the remainder are bad examples\n",
    "3. "
   ]
  },
  {
   "cell_type": "code",
   "execution_count": 105,
   "metadata": {},
   "outputs": [],
   "source": [
    "from collections import defaultdict"
   ]
  },
  {
   "cell_type": "code",
   "execution_count": 108,
   "metadata": {},
   "outputs": [],
   "source": [
    "\n",
    "n = 8\n",
    "def compute_pr_important_bad(n, p1, p2):\n",
    "    # this is the brute force method and is slow\n",
    "    all_bitstrings = binarr(n)\n",
    "    config = {'p1': p1, 'p2': p2}\n",
    "    probs = toy_problem_data.noise_model(all_bitstrings, n, config, numpy=True)\n",
    "    idx_sorted = (-probs).argsort()\n",
    "    probs_sorted = probs[idx_sorted]\n",
    "    bitstrings_sorted = all_bitstrings[idx_sorted]\n",
    "\n",
    "    # The bad examples are, by definition, the least likely half.\n",
    "    # this only works for the k=1 rep code.\n",
    "    halfidx = 2**(n-1)\n",
    "    pr_bad = probs_sorted[halfidx:].sum()\n",
    "    pr_imp = 0\n",
    "    ct = 1\n",
    "    well_ordered = True\n",
    "    for (e, p) in zip(bitstrings_sorted, probs_sorted):\n",
    "        if ct > halfidx:\n",
    "            break\n",
    "        wt_e = e.sum()\n",
    "        if wt_e == n//2:\n",
    "            pr_imp += p/2\n",
    "        elif wt_e > ( n - wt_e):\n",
    "            # print(\"error: \", e, p, 1 - e)\n",
    "            pr_imp += p\n",
    "            well_ordered = False\n",
    "        ct += 1\n",
    "    return pr_imp, pr_bad, well_ordered\n",
    "\n",
    "\n",
    "def histogram_good_important_bad(n, p1, p2):\n",
    "\n",
    "    # this is the brute force method and is slow\n",
    "    all_bitstrings = binarr(n)\n",
    "    config = {'p1': p1, 'p2': p2}\n",
    "    probs = toy_problem_data.noise_model(all_bitstrings, n, config, numpy=True)\n",
    "    idx_sorted = (-probs).argsort()\n",
    "    probs_sorted = probs[idx_sorted]\n",
    "    bitstrings_sorted = all_bitstrings[idx_sorted]\n",
    "\n",
    "\n",
    "    good = []\n",
    "    bad = []\n",
    "    important = []\n",
    "    # The bad examples are, by definition, the least likely half.\n",
    "    # this only works for the k=1 rep code.\n",
    "    halfidx = 2**(n-1)\n",
    "    bad = bitstrings_sorted[halfidx:]\n",
    "    bad_wts = bad.sum(axis=1)\n",
    "    pr_bad = probs_sorted[halfidx:]\n",
    "    bad_wt_hist = {i: 0 for i in range(n+1)}\n",
    "    for (wt, p) in zip(bad_wts, pr_bad):\n",
    "        bad_wt_hist[wt] += p\n",
    "\n",
    "\n",
    "    imp_wt_hist = {i: 0 for i in range(n+1)}\n",
    "    ct = 1\n",
    "    well_ordered = True\n",
    "    for (e, p) in zip(bitstrings_sorted, probs_sorted):\n",
    "        if ct > halfidx:\n",
    "            break\n",
    "        wt_e = e.sum()\n",
    "        if wt_e == n//2:\n",
    "            imp_wt_hist[wt_e] += p/2\n",
    "        elif wt_e > ( n - wt_e):\n",
    "            # print(\"error: \", e, p, 1 - e)\n",
    "            imp_wt_hist[wt_e] += p\n",
    "        ct += 1\n",
    "\n",
    "    all_wt_hist = {i: 0 for i in range(n+1)}\n",
    "    for (e, p) in zip(bitstrings_sorted, probs_sorted):\n",
    "        wt_e = e.sum()\n",
    "        all_wt_hist[wt_e] += p\n",
    "    return imp_wt_hist, bad_wt_hist, all_wt_hist"
   ]
  },
  {
   "cell_type": "code",
   "execution_count": 134,
   "metadata": {},
   "outputs": [],
   "source": [
    "imp_wt_hist, bad_wt_hist, all_wt_hist = histogram_good_important_bad(20, .25, .07)"
   ]
  },
  {
   "cell_type": "markdown",
   "metadata": {},
   "source": [
    "clean this up, putting a kind of emphasis on the regions of important, good not important, bad. "
   ]
  },
  {
   "cell_type": "code",
   "execution_count": 140,
   "metadata": {},
   "outputs": [
    {
     "name": "stdout",
     "output_type": "stream",
     "text": [
      "[ 0  1  2  3  4  5  6  7  8  9 10 11 12 13 14 15 16 17 18 19 20]\n"
     ]
    },
    {
     "data": {
      "text/plain": [
       "<matplotlib.legend.Legend at 0x2688a14aad0>"
      ]
     },
     "execution_count": 140,
     "metadata": {},
     "output_type": "execute_result"
    },
    {
     "data": {
      "image/png": "[encoded data removed]",
      "text/plain": [
       "<Figure size 640x480 with 1 Axes>"
      ]
     },
     "metadata": {},
     "output_type": "display_data"
    }
   ],
   "source": [
    "# histogram these\n",
    "fig, ax = plt.subplots()\n",
    "# keep the histograms but only where the probability is non-zero\n",
    "weights = np.array(list(imp_wt_hist.keys()))\n",
    "print(weights)\n",
    "\n",
    "def dezero(x, y):\n",
    "    y = np.array(list(y))\n",
    "    return x[y > 0], y[y > 0]\n",
    "\n",
    "x_imp, y_imp = dezero(weights, imp_wt_hist.values())\n",
    "x_bad, y_bad = dezero(weights, bad_wt_hist.values())\n",
    "x_all, y_all = dezero(weights, all_wt_hist.values())\n",
    "ax.bar(x_imp, y_imp, label='important', color='b', alpha=0.5)\n",
    "ax.bar(x_bad, y_bad, label='bad', color='r', alpha=0.5)\n",
    "ax.bar(x_all, y_all, label='all', color='g')\n",
    "ax.legend()\n",
    "# ax.semilogy()"
   ]
  },
  {
   "cell_type": "code",
   "execution_count": 24,
   "metadata": {},
   "outputs": [
    {
     "data": {
      "text/plain": [
       "<matplotlib.legend.Legend at 0x268f9c4e510>"
      ]
     },
     "execution_count": 24,
     "metadata": {},
     "output_type": "execute_result"
    },
    {
     "data": {
      "image/png": "[encoded data removed]",
      "text/plain": [
       "<Figure size 640x480 with 1 Axes>"
      ]
     },
     "metadata": {},
     "output_type": "display_data"
    }
   ],
   "source": [
    "def not_well_orderedness(n, p1, p2):\n",
    "    \"\"\"If the not_well_orderedness is more than 0, then we are not well ordered.\"\"\"\n",
    "    return (n / 2) * (np.log(p1 / (1-p1)) - np.log(p2 / (1-p2))) + 2 * np.log(p2 / (1-p2))\n",
    "\n",
    "x = np.linspace(0.01, 0.45, 100)\n",
    "y  = {}\n",
    "for alpha in [0.7, 0.4, 0.2]:\n",
    "    yvals = []\n",
    "    for p1 in x:\n",
    "        p2 = p1 * alpha\n",
    "        yvals.append(not_well_orderedness(n, p1, p2))\n",
    "    y[alpha] = yvals\n",
    "fig, ax = plt.subplots()\n",
    "ax.axhline(0, color='black', lw=1)\n",
    "ax.axvline(0, color='black', lw=1)\n",
    "for alpha in [0.7, 0.4, 0.2]:\n",
    "    ax.plot(x, y[alpha], label=f\"alpha={alpha}\")\n",
    "ax.legend()"
   ]
  },
  {
   "cell_type": "markdown",
   "metadata": {},
   "source": [
    "#### Four phases of bias"
   ]
  },
  {
   "cell_type": "code",
   "execution_count": 97,
   "metadata": {},
   "outputs": [
    {
     "name": "stdout",
     "output_type": "stream",
     "text": [
      "Transition at p1=0.2678787878787879, p2=0.11786666666666668\n",
      "Transition at p1=0.2641414141414141, p2=0.11199595959595958\n",
      "Transition at p1=0.25666666666666665, p2=0.10523333333333332\n",
      "Transition at p1=0.2491919191919192, p2=0.09718484848484849\n"
     ]
    }
   ],
   "source": [
    "alphas = [0.44, 0.424, 0.41, 0.39]\n",
    "# div = {}\n",
    "diff = {}\n",
    "transition = {}\n",
    "\n",
    "x = np.linspace(0.01, 0.38, 100)\n",
    "for alpha in alphas:\n",
    "    # div[alpha] = []\n",
    "    diff[alpha] = []\n",
    "    well_ordered = True\n",
    "    for p1 in x:\n",
    "        p2 = p1 * alpha\n",
    "        pr_important, pr_bad, new_well_ordered = compute_pr_important_bad(n, p1, p2)\n",
    "        if well_ordered and not new_well_ordered:\n",
    "            print(f\"Transition at p1={p1}, p2={p2}\")\n",
    "            transition[alpha] = p1\n",
    "            well_ordered = False\n",
    "        # frac = pr_important / pr_bad\n",
    "        difference = pr_important - pr_bad\n",
    "        # print(pr_important, pr_bad, frac, difference)\n",
    "        # div.append(frac)\n",
    "        diff[alpha].append(difference)\n",
    "\n",
    "    "
   ]
  },
  {
   "cell_type": "markdown",
   "metadata": {},
   "source": [
    "### Phases of curriculum learning\n",
    "\n",
    "Recall that $\\alpha$ is a parameter of our system: it represents the biasedness of the noise model. The plots below look at, if we artificially tune $p_1$ (while preserving whatever bias there is), we can get very different results for curriculum learning. Regimes (from right to left):\n",
    "1. The noise model is almost unbiased, meaning there is practically no advantage to increasing $p_1$\n",
    "2. The noise model is just slightly biased. $\\Delta$ grows as $p_1$ is increased (while maintaining well-orderedness), but the violations in well-orderedness don't hurt the performance of $f_0$ enough to make a substantial difference.\n",
    "3. The noise model is modestly biased: $f^*$ greatly outperfroms $f_0$ due to the large violations in well-orderedness\n",
    "4. The noise model is very biased: There is a substantial number of errors with $\\text{wt}(E) > n/2$ that are more likely than their complement. The noise model becomes pathological\n",
    "\n",
    "Scaling $p_1$ with alpha fixed simulates using a calibrated, biased noise model (where $p_i := \\alpha_i p$) and just cranking up $p$."
   ]
  },
  {
   "cell_type": "code",
   "execution_count": 104,
   "metadata": {},
   "outputs": [
    {
     "data": {
      "text/plain": [
       "Text(0, 0.5, 'Difference')"
      ]
     },
     "execution_count": 104,
     "metadata": {},
     "output_type": "execute_result"
    },
    {
     "data": {
      "image/png": "[encoded data removed]",
      "text/plain": [
       "<Figure size 1200x400 with 4 Axes>"
      ]
     },
     "metadata": {},
     "output_type": "display_data"
    }
   ],
   "source": [
    "figs, axes = plt.subplots(1, len(alphas), figsize=(12, 4), constrained_layout=True, sharey=True)\n",
    "ylim = (-0.003, 0.003)\n",
    "for i, alpha in enumerate(alphas):\n",
    "    # break x into before and after the transition\n",
    "    saved = transition[alpha]\n",
    "    x1 = x[x < saved]\n",
    "    x2 = x[x >= saved]\n",
    "    y1 = diff[alpha][:len(x1)]\n",
    "    y2 = diff[alpha][-len(x2):]\n",
    "    line, = axes[i].plot(x1, y1, label=f\"alpha={alpha}\", c='b')\n",
    "    axes[i].plot(x1[-1], y1[-1], 'o',  markerfacecolor='w', color=line.get_color())\n",
    "    line, = axes[i].plot(x2, y2, label=f\"alpha={alpha}\", c='b')\n",
    "    axes[i].plot(x2[0], y2[0], 'o',  markerfacecolor='w', color=line.get_color())\n",
    "    # axes[i].axvline(saved, color='r', linestyle='--')\n",
    "    axes[i].set_xlabel('p1')\n",
    "    axes[i].set_ylim(ylim)\n",
    "\n",
    "axes[0].set_ylabel('Difference')\n"
   ]
  },
  {
   "cell_type": "code",
   "execution_count": 76,
   "metadata": {},
   "outputs": [
    {
     "data": {
      "text/plain": [
       "0.0015034989150000005"
      ]
     },
     "execution_count": 76,
     "metadata": {},
     "output_type": "execute_result"
    }
   ],
   "source": [
    "n = 8\n",
    "compute_pr_important_examples(n, p1, p2)"
   ]
  },
  {
   "cell_type": "code",
   "execution_count": 52,
   "metadata": {},
   "outputs": [
    {
     "data": {
      "text/plain": [
       "0.0033220530000000006"
      ]
     },
     "execution_count": 52,
     "metadata": {},
     "output_type": "execute_result"
    }
   ],
   "source": [
    "0.0003691170000000001 * 9"
   ]
  },
  {
   "cell_type": "code",
   "execution_count": 29,
   "metadata": {},
   "outputs": [
    {
     "name": "stdout",
     "output_type": "stream",
     "text": [
      "10\n",
      "10\n",
      "[1 0 0 0 1 1] [0 1 1 1 0 0]\n",
      "[1 0 0 1 0 1] [0 1 1 0 1 0]\n",
      "[1 0 0 1 1 0] [0 1 1 0 0 1]\n",
      "[1 0 1 0 0 1] [0 1 0 1 1 0]\n",
      "[1 0 1 0 1 0] [0 1 0 1 0 1]\n",
      "[1 0 1 1 0 0] [0 1 0 0 1 1]\n",
      "[1 1 0 0 0 1] [0 0 1 1 1 0]\n",
      "[1 1 0 0 1 0] [0 0 1 1 0 1]\n",
      "[1 1 0 1 0 0] [0 0 1 0 1 1]\n",
      "[1 1 1 0 0 0] [0 0 0 1 1 1]\n"
     ]
    }
   ],
   "source": [
    "n = 6\n",
    "halfidx = 2**(n-1)\n",
    "a = binarr(n)[halfidx: (halfidx + math.comb(n, n//2)//2)]\n",
    "b = binarr(n)[(halfidx - math.comb(n, n//2)//2): halfidx]\n",
    "print(len(a))\n",
    "print(len(b))\n",
    "for aa,  bb in zip(a, reversed(b)):\n",
    "    assert np.allclose(aa ^ bb, 1)\n",
    "    print(aa, bb)"
   ]
  },
  {
   "cell_type": "code",
   "execution_count": null,
   "metadata": {},
   "outputs": [
    {
     "data": {
      "text/plain": [
       "array([[0, 0, 0, 0, 0, 0],\n",
       "       [0, 0, 0, 0, 0, 1],\n",
       "       [0, 0, 0, 0, 1, 0],\n",
       "       [0, 0, 0, 1, 0, 0],\n",
       "       [0, 0, 1, 0, 0, 0],\n",
       "       [0, 1, 0, 0, 0, 0],\n",
       "       [1, 0, 0, 0, 0, 0],\n",
       "       [0, 0, 0, 0, 1, 1],\n",
       "       [0, 0, 0, 1, 0, 1],\n",
       "       [0, 0, 0, 1, 1, 0],\n",
       "       [0, 0, 1, 0, 0, 1],\n",
       "       [0, 0, 1, 0, 1, 0],\n",
       "       [0, 0, 1, 1, 0, 0],\n",
       "       [0, 1, 0, 0, 0, 1],\n",
       "       [0, 1, 0, 0, 1, 0],\n",
       "       [0, 1, 0, 1, 0, 0],\n",
       "       [0, 1, 1, 0, 0, 0],\n",
       "       [1, 0, 0, 0, 0, 1],\n",
       "       [1, 0, 0, 0, 1, 0],\n",
       "       [1, 0, 0, 1, 0, 0],\n",
       "       [1, 0, 1, 0, 0, 0],\n",
       "       [1, 1, 0, 0, 0, 0],\n",
       "       [0, 0, 0, 1, 1, 1],\n",
       "       [0, 0, 1, 0, 1, 1],\n",
       "       [0, 0, 1, 1, 0, 1],\n",
       "       [0, 0, 1, 1, 1, 0],\n",
       "       [0, 1, 0, 0, 1, 1],\n",
       "       [0, 1, 0, 1, 0, 1],\n",
       "       [0, 1, 0, 1, 1, 0],\n",
       "       [0, 1, 1, 0, 0, 1],\n",
       "       [0, 1, 1, 0, 1, 0],\n",
       "       [0, 1, 1, 1, 0, 0],\n",
       "       [1, 0, 0, 0, 1, 1],\n",
       "       [1, 0, 0, 1, 0, 1],\n",
       "       [1, 0, 0, 1, 1, 0],\n",
       "       [1, 0, 1, 0, 0, 1],\n",
       "       [1, 0, 1, 0, 1, 0],\n",
       "       [1, 0, 1, 1, 0, 0],\n",
       "       [1, 1, 0, 0, 0, 1],\n",
       "       [1, 1, 0, 0, 1, 0],\n",
       "       [1, 1, 0, 1, 0, 0],\n",
       "       [1, 1, 1, 0, 0, 0],\n",
       "       [0, 0, 1, 1, 1, 1],\n",
       "       [0, 1, 0, 1, 1, 1],\n",
       "       [0, 1, 1, 0, 1, 1],\n",
       "       [0, 1, 1, 1, 0, 1],\n",
       "       [0, 1, 1, 1, 1, 0],\n",
       "       [1, 0, 0, 1, 1, 1],\n",
       "       [1, 0, 1, 0, 1, 1],\n",
       "       [1, 0, 1, 1, 0, 1],\n",
       "       [1, 0, 1, 1, 1, 0],\n",
       "       [1, 1, 0, 0, 1, 1],\n",
       "       [1, 1, 0, 1, 0, 1],\n",
       "       [1, 1, 0, 1, 1, 0],\n",
       "       [1, 1, 1, 0, 0, 1],\n",
       "       [1, 1, 1, 0, 1, 0],\n",
       "       [1, 1, 1, 1, 0, 0],\n",
       "       [0, 1, 1, 1, 1, 1],\n",
       "       [1, 0, 1, 1, 1, 1],\n",
       "       [1, 1, 0, 1, 1, 1],\n",
       "       [1, 1, 1, 0, 1, 1],\n",
       "       [1, 1, 1, 1, 0, 1],\n",
       "       [1, 1, 1, 1, 1, 0],\n",
       "       [1, 1, 1, 1, 1, 1]])"
      ]
     },
     "execution_count": 8,
     "metadata": {},
     "output_type": "execute_result"
    }
   ],
   "source": [
    "binarr(n)[n//2:]"
   ]
  },
  {
   "cell_type": "code",
   "execution_count": 3,
   "metadata": {},
   "outputs": [],
   "source": [
    "# DATASET PARAMETERS\n",
    "experiment_name = 'repetition_code_v1'"
   ]
  },
  {
   "cell_type": "code",
   "execution_count": null,
   "metadata": {},
   "outputs": [
    {
     "name": "stdout",
     "output_type": "stream",
     "text": [
      "5.961580428619441\n"
     ]
    }
   ],
   "source": [
    "# Make the repetition code dataset where the first half and last half of bits have different error rates\n",
    "\n",
    "# tl;dr: make sure the number of bits is less than twice the number printed below.\n",
    "\n",
    "# goodness check: for the v1 noise model, as long as the number of bitflips\n",
    "# is less than this limit, then the weight-ordering of bitstrings matches \n",
    "# the likelihood ordering. In other words, if you generate all strings with num_bitflips\n",
    "# k > lim, at least one weight-k bitstring will have lower prob. than some length-(k+1) bitstring\n",
    "# ASSUMING k < n/2. The violation occurs when all k bitflips happen on the last n/2 bits, and\n",
    "# k+1 bitflips happen in the first n/2 bits. if k >= n/2, then we are fine.\n",
    "\n",
    "def bitflips_upper_limit_v1(p1, p2):\n",
    "    return np.log2( (1-p1)/p1) / (np.log2(p1/p2) *(1-p2)/(1-p1) ) \n",
    "\n",
    "print(bitflips_upper_limit_v1(p1, p2))"
   ]
  },
  {
   "cell_type": "code",
   "execution_count": null,
   "metadata": {},
   "outputs": [],
   "source": [
    "def repetition_pcm(n):\n",
    "    out = []\n",
    "    for i in range(n-1):\n",
    "        out.append([0]*i + [1, 1] + [0]*(n-i-2))\n",
    "    return np.array(out, dtype=np.uint8)\n",
    "\n",
    "\n",
    "def sample_bitstring_v1(n, p1, p2, n_data):\n",
    "    \"\"\"Sample bitstrings from the biased bitflip model v1.\n",
    "    \n",
    "    Args:\n",
    "        n: number of bits\n",
    "        p1, p2: bitflip probabilities for the first and second half of the bits\n",
    "        n_data: number of samples to generate\n",
    "    \n",
    "    Returns:\n",
    "        (n_data, n) array of bitstrings\n",
    "    \"\"\"\n",
    "    assert n % 2 == 0\n",
    "    bitstrings = np.random.rand(n_data, n) < np.concatenate([p1*np.ones(n//2), p2*np.ones(n//2)])\n",
    "    return bitstrings\n",
    "\n",
    "def bitstring_prob_v1(s, n, p1, p2, permute=None):\n",
    "    \"\"\"Create a noise model where the first n//2 bits have prob. p1 of flipping, the last n//2 have prob. p2.\n",
    "    \n",
    "    ARgs:\n",
    "        s: (n_data, n) array of bitstrings.\n",
    "    Warning: if the difference in bias is too much, the weight-ordering of bitstrings \n",
    "     is no longer the same as likelihood ordering. make sure to check the bitflips_upper_limit_v1\n",
    "    \"\"\"\n",
    "    if permute is not None:\n",
    "        s = s[:,permute]\n",
    "    p_first = np.prod(p1*s[:,:n//2] +(1-p1)*(1-s[:,:n//2]), axis=1)\n",
    "    p_second = np.prod(p2*s[:,n//2:] + (1-p2)*(1-s[:,n//2:]), axis=1)\n",
    "    return np.multiply(p_first, p_second)\n",
    "\n",
    "def calculator(p1, p2):\n",
    "    num = p1 ** 2 * (1-p2)**2\n",
    "    denom = p2 ** 2 * (1-p1)**2\n",
    "    return num / denom\n",
    "\n",
    "calculator(0.1, 0.07)"
   ]
  },
  {
   "cell_type": "code",
   "execution_count": 14,
   "metadata": {},
   "outputs": [],
   "source": [
    "# simulation parameters\n",
    "n = 8\n",
    "p1 = 0.1\n",
    "p2 = 0.07\n",
    "p1txt = str(p1).replace('.', '')\n",
    "p2txt = str(p2).replace('.', '')\n",
    "n_train_vals = np.logspace(10, 17, 9, base=2).astype(int)\n",
    "n_train_vals = [10000]"
   ]
  },
  {
   "cell_type": "code",
   "execution_count": null,
   "metadata": {},
   "outputs": [],
   "source": [
    "\n",
    "for n_train in n_train_vals:\n",
    "    dirname = f'n{n}_N{n_train}_p1{p1txt}_p2{p2txt}'\n",
    "    path = os.path.join(experiment_name, dirname)\n",
    "    # Check if the data directory exists, if not create it\n",
    "    if not os.path.exists(path):\n",
    "        os.makedirs(path)\n",
    "\n",
    "    Y_train = sample_bitstring_v1(n, p1, p2, n_train).astype(int)\n",
    "    X_train = (Y_train @ repetition_pcm(n).T % 2).astype(int)\n",
    "    np.save(f\"{path}/X_train.npy\", X_train)\n",
    "    np.save(f\"{path}/Y_train.npy\", Y_train)\n",
    "\n",
    "    Y_test = bit_tools.binarr(n)\n",
    "    X_test = (Y_test @ repetition_pcm(n).T % 2).astype(int)\n",
    "    weights_test = bitstring_prob_v1(Y_test, n, p1, p2)\n",
    "    np.save(f\"{path}/X_test.npy\", X_test)\n",
    "    np.save(f\"{path}/Y_test.npy\", Y_test)\n",
    "    np.save(f\"{path}/weights.npy\", weights_test)\n",
    "\n",
    "    # train_path = f\"{path}/train.pkl\"\n",
    "    # val_path = f\"{path}/test.pkl\"\n",
    "    # save_numpy_as_dict(X_train, train_path)\n",
    "    # save_numpy_as_dict(Y_train, val_path)\n"
   ]
  },
  {
   "cell_type": "markdown",
   "metadata": {},
   "source": [
    "### Grokking dataset\n",
    "\n",
    "This dataset will contain only good examples, and about 90% of the necessary good examples. Since we plan to train until it learns optimal decoding, we won't weight the data and just provide a list of bitstrings"
   ]
  },
  {
   "cell_type": "code",
   "execution_count": 15,
   "metadata": {},
   "outputs": [],
   "source": [
    "# The dataset has all bitstrings of <weight 4, and only ~half of the \"good\" bitstrings that have exactly weight 4\n",
    "#  (where good bitstrings are themselves the bitstrings that are more likely than their logical negation)\n",
    "wt_4_bitstrings = []\n",
    "Y_train = []\n",
    "for b in bit_tools.binarr(8):\n",
    "    \"\"\"For n = 8\"\"\"\n",
    "    tot_count = 8\n",
    "    if sum(b) < 4:\n",
    "        Y_train.append(b)\n",
    "    elif sum(b) > 4:\n",
    "        break\n",
    "    elif sum(b) == 4:\n",
    "        if sum(b[:4]) == 3:\n",
    "            wt_4_bitstrings.append(b)\n",
    "        elif sum(b[:4]) == 4:\n",
    "            Y_train.append(b)\n",
    "# shuffle the weight 4 bitstrings\n",
    "np.random.shuffle(wt_4_bitstrings)\n",
    "# select just 8 of them to add to Y_train\n",
    "Y_train += wt_4_bitstrings[:8]\n",
    "Y_train = np.array(Y_train)\n",
    "X_train = (Y_train @ repetition_pcm(8).T % 2).astype(int)\n",
    "N = len(Y_train)\n",
    "dirname = f'grok_n{n}_N{N}_p1{p1txt}_p2{p2txt}'\n",
    "path = os.path.join(experiment_name, dirname)\n",
    "if not os.path.exists(path):\n",
    "    os.makedirs(path)\n",
    "np.save(f\"{path}/X_train.npy\", X_train)\n",
    "np.save(f\"{path}/Y_train.npy\", Y_train)\n",
    "\n",
    "Y_test = bit_tools.binarr(n)\n",
    "X_test = (Y_test @ repetition_pcm(n).T % 2).astype(int)\n",
    "weights_test = bitstring_prob_v1(Y_test, n, p1, p2)\n",
    "np.save(f\"{path}/X_test.npy\", X_test)\n",
    "np.save(f\"{path}/Y_test.npy\", Y_test)\n",
    "np.save(f\"{path}/weights.npy\", weights_test)"
   ]
  },
  {
   "cell_type": "code",
   "execution_count": null,
   "metadata": {},
   "outputs": [],
   "source": []
  }
 ],
 "metadata": {
  "kernelspec": {
   "display_name": ".venv",
   "language": "python",
   "name": "python3"
  },
  "language_info": {
   "codemirror_mode": {
    "name": "ipython",
    "version": 3
   },
   "file_extension": ".py",
   "mimetype": "text/x-python",
   "name": "python",
   "nbconvert_exporter": "python",
   "pygments_lexer": "ipython3",
   "version": "3.11.1"
  }
 },
 "nbformat": 4,
 "nbformat_minor": 2
}
