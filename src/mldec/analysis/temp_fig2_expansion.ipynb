{
 "cells": [
  {
   "cell_type": "code",
   "execution_count": 1,
   "metadata": {},
   "outputs": [],
   "source": [
    "# reload magic\n",
    "%load_ext autoreload\n",
    "%autoreload 2"
   ]
  },
  {
   "cell_type": "code",
   "execution_count": 4,
   "metadata": {},
   "outputs": [],
   "source": [
    "import pandas as pd\n",
    "import matplotlib.pyplot as plt\n",
    "import numpy as np\n",
    "import os\n",
    "\n",
    "from mldec.datasets import toy_problem_data, single_round_code_data \n",
    "from mldec.models import baselines\n",
    "from mldec.utils import evaluation\n",
    "from mldec.utils import analysis"
   ]
  },
  {
   "cell_type": "markdown",
   "metadata": {},
   "source": [
    "#### Experiments v4.1: Initial sweep over $n_{train}$"
   ]
  },
  {
   "cell_type": "code",
   "execution_count": 12,
   "metadata": {},
   "outputs": [],
   "source": [
    "toric_code_dir = \"./results/transformer-toric-code-v4.1\"\n",
    "steane_code_dir = \"./results/transformer-steane-code-v4.1\"\n",
    "fivequbit_code_dir = \"./results/transformer-fivequbit-code-v4.1\"\n",
    "\n",
    "toric_code_df = analysis.recover_unfinished_run(toric_code_dir)\n",
    "steane_code_df = analysis.recover_unfinished_run(steane_code_dir)\n",
    "fivequbit_code_df = pd.read_csv(os.path.join(fivequbit_code_dir, \"transformer_fivequbit_code_results.csv\"))\n",
    "\n"
   ]
  },
  {
   "cell_type": "markdown",
   "metadata": {},
   "source": [
    "## Run analysis"
   ]
  },
  {
   "cell_type": "markdown",
   "metadata": {},
   "source": [
    "#### Baseline: Weighted MWPM\n"
   ]
  },
  {
   "cell_type": "code",
   "execution_count": 13,
   "metadata": {},
   "outputs": [
    {
     "data": {
      "text/html": [
       "<div>\n",
       "<style scoped>\n",
       "    .dataframe tbody tr th:only-of-type {\n",
       "        vertical-align: middle;\n",
       "    }\n",
       "\n",
       "    .dataframe tbody tr th {\n",
       "        vertical-align: top;\n",
       "    }\n",
       "\n",
       "    .dataframe thead th {\n",
       "        text-align: right;\n",
       "    }\n",
       "</style>\n",
       "<table border=\"1\" class=\"dataframe\">\n",
       "  <thead>\n",
       "    <tr style=\"text-align: right;\">\n",
       "      <th></th>\n",
       "      <th>job_id</th>\n",
       "      <th>epoch</th>\n",
       "      <th>train_loss</th>\n",
       "      <th>train_acc</th>\n",
       "      <th>val_loss</th>\n",
       "      <th>val_acc</th>\n",
       "      <th>vs_lookup</th>\n",
       "      <th>vs_minweight</th>\n",
       "      <th>lr</th>\n",
       "      <th>d_model</th>\n",
       "      <th>dropout</th>\n",
       "      <th>num_encoder_layers</th>\n",
       "      <th>num_decoder_layers</th>\n",
       "      <th>nhead</th>\n",
       "      <th>dim_feedforward</th>\n",
       "      <th>batch_size</th>\n",
       "      <th>beta</th>\n",
       "    </tr>\n",
       "  </thead>\n",
       "  <tbody>\n",
       "    <tr>\n",
       "      <th>0</th>\n",
       "      <td>0.0</td>\n",
       "      <td>120.0</td>\n",
       "      <td>0.000235</td>\n",
       "      <td>1.000000</td>\n",
       "      <td>0.166272</td>\n",
       "      <td>0.963072</td>\n",
       "      <td>-0.011681</td>\n",
       "      <td>-0.035509</td>\n",
       "      <td>0.0020</td>\n",
       "      <td>20</td>\n",
       "      <td>0.10</td>\n",
       "      <td>3</td>\n",
       "      <td>1</td>\n",
       "      <td>4</td>\n",
       "      <td>4</td>\n",
       "      <td>8</td>\n",
       "      <td>1</td>\n",
       "    </tr>\n",
       "    <tr>\n",
       "      <th>1</th>\n",
       "      <td>1.0</td>\n",
       "      <td>450.0</td>\n",
       "      <td>0.002595</td>\n",
       "      <td>0.998643</td>\n",
       "      <td>0.002591</td>\n",
       "      <td>0.998643</td>\n",
       "      <td>-0.000346</td>\n",
       "      <td>0.000061</td>\n",
       "      <td>0.0010</td>\n",
       "      <td>24</td>\n",
       "      <td>0.10</td>\n",
       "      <td>1</td>\n",
       "      <td>1</td>\n",
       "      <td>4</td>\n",
       "      <td>4</td>\n",
       "      <td>1994</td>\n",
       "      <td>1</td>\n",
       "    </tr>\n",
       "    <tr>\n",
       "      <th>2</th>\n",
       "      <td>2.0</td>\n",
       "      <td>380.0</td>\n",
       "      <td>0.001491</td>\n",
       "      <td>0.999084</td>\n",
       "      <td>0.003256</td>\n",
       "      <td>0.998559</td>\n",
       "      <td>0.000244</td>\n",
       "      <td>-0.000022</td>\n",
       "      <td>0.0008</td>\n",
       "      <td>20</td>\n",
       "      <td>0.15</td>\n",
       "      <td>2</td>\n",
       "      <td>1</td>\n",
       "      <td>4</td>\n",
       "      <td>4</td>\n",
       "      <td>2048</td>\n",
       "      <td>1</td>\n",
       "    </tr>\n",
       "    <tr>\n",
       "      <th>3</th>\n",
       "      <td>3.0</td>\n",
       "      <td>1110.0</td>\n",
       "      <td>0.000875</td>\n",
       "      <td>0.999512</td>\n",
       "      <td>0.004522</td>\n",
       "      <td>0.998466</td>\n",
       "      <td>0.000429</td>\n",
       "      <td>-0.000115</td>\n",
       "      <td>0.0008</td>\n",
       "      <td>16</td>\n",
       "      <td>0.15</td>\n",
       "      <td>3</td>\n",
       "      <td>1</td>\n",
       "      <td>2</td>\n",
       "      <td>4</td>\n",
       "      <td>512</td>\n",
       "      <td>1</td>\n",
       "    </tr>\n",
       "    <tr>\n",
       "      <th>4</th>\n",
       "      <td>4.0</td>\n",
       "      <td>480.0</td>\n",
       "      <td>0.002749</td>\n",
       "      <td>0.998901</td>\n",
       "      <td>0.004751</td>\n",
       "      <td>0.998407</td>\n",
       "      <td>0.000256</td>\n",
       "      <td>-0.000174</td>\n",
       "      <td>0.0030</td>\n",
       "      <td>16</td>\n",
       "      <td>0.10</td>\n",
       "      <td>3</td>\n",
       "      <td>1</td>\n",
       "      <td>4</td>\n",
       "      <td>4</td>\n",
       "      <td>1024</td>\n",
       "      <td>1</td>\n",
       "    </tr>\n",
       "  </tbody>\n",
       "</table>\n",
       "</div>"
      ],
      "text/plain": [
       "   job_id   epoch  train_loss  train_acc  val_loss   val_acc  vs_lookup  \\\n",
       "0     0.0   120.0    0.000235   1.000000  0.166272  0.963072  -0.011681   \n",
       "1     1.0   450.0    0.002595   0.998643  0.002591  0.998643  -0.000346   \n",
       "2     2.0   380.0    0.001491   0.999084  0.003256  0.998559   0.000244   \n",
       "3     3.0  1110.0    0.000875   0.999512  0.004522  0.998466   0.000429   \n",
       "4     4.0   480.0    0.002749   0.998901  0.004751  0.998407   0.000256   \n",
       "\n",
       "   vs_minweight      lr  d_model  dropout  num_encoder_layers  \\\n",
       "0     -0.035509  0.0020       20     0.10                   3   \n",
       "1      0.000061  0.0010       24     0.10                   1   \n",
       "2     -0.000022  0.0008       20     0.15                   2   \n",
       "3     -0.000115  0.0008       16     0.15                   3   \n",
       "4     -0.000174  0.0030       16     0.10                   3   \n",
       "\n",
       "   num_decoder_layers  nhead  dim_feedforward  batch_size  beta  \n",
       "0                   1      4                4           8     1  \n",
       "1                   1      4                4        1994     1  \n",
       "2                   1      4                4        2048     1  \n",
       "3                   1      2                4         512     1  \n",
       "4                   1      4                4        1024     1  "
      ]
     },
     "execution_count": 13,
     "metadata": {},
     "output_type": "execute_result"
    }
   ],
   "source": [
    "toric_code_df.head()"
   ]
  },
  {
   "cell_type": "code",
   "execution_count": 21,
   "metadata": {},
   "outputs": [
    {
     "data": {
      "text/plain": [
       "array([1, 2, 3])"
      ]
     },
     "execution_count": 21,
     "metadata": {},
     "output_type": "execute_result"
    }
   ],
   "source": [
    "fivequbit_code_df[\"beta\"].unique()"
   ]
  },
  {
   "cell_type": "code",
   "execution_count": null,
   "metadata": {},
   "outputs": [
    {
     "name": "stderr",
     "output_type": "stream",
     "text": [
      "/Users/e6peters/projects/mldec/src/mldec/datasets/single_round_code_data.py:77: UserWarning: To copy construct from a tensor, it is recommended to use sourceTensor.detach().clone() or sourceTensor.detach().clone().requires_grad_(True), rather than torch.tensor(sourceTensor).\n",
      "  X, Y, probs = torch.tensor(X, dtype=torch.float32), torch.tensor(Y, dtype=torch.float32), torch.tensor(probs, dtype=torch.float32)\n"
     ]
    }
   ],
   "source": [
    "# ptrue = 0.01\n",
    "# var = 0.01\n",
    "# n = 7\n",
    "# steane_dataset_config = {\"p\": ptrue, \"var\": var, \"beta\": 1.0, \"dataset_module\": \"steane_code\"}\n",
    "# X, Y, good_weights = single_round_code_data.uniform_over_good_examples(n, dataset_config)\n",
    "# X, Y, val_weights = single_round_code_data.create_dataset_training(n, dataset_config)"
   ]
  },
  {
   "cell_type": "code",
   "execution_count": null,
   "metadata": {},
   "outputs": [],
   "source": [
    "def ana_by_batch_size(df, col_name, quantile, append_inf=True):\n",
    "    \"\"\"For each value of batch_size, compute median and upper/lower quantile of df[col_name].\"\"\"\n",
    "    batch_sizes = df['batch_size'].unique()\n",
    "    # move 1994 to the end\n",
    "    batch_sizes = np.array(list(sorted([x for x in batch_sizes if x != 1994])))\n",
    "    if append_inf:\n",
    "        batch_sizes = np.concatenate([batch_sizes, [1994]])\n",
    "    medians = []\n",
    "    lower_q = []\n",
    "    upper_q = []\n",
    "    print(batch_sizes)\n",
    "    for bs in batch_sizes:\n",
    "        vals = 1 - df[df['batch_size'] == bs][col_name]\n",
    "        medians.append(np.median(vals))\n",
    "        lower_q.append(np.quantile(vals, 1-quantile))\n",
    "        upper_q.append(np.quantile(vals, quantile))\n",
    "    medians = np.array(medians)\n",
    "    lower_q = medians - np.array(lower_q)\n",
    "    upper_q = np.array(upper_q) - medians\n",
    "    bounds = np.array(list(zip(lower_q, upper_q))).T\n",
    "    return batch_sizes, medians, bounds"
   ]
  },
  {
   "cell_type": "code",
   "execution_count": 27,
   "metadata": {},
   "outputs": [
    {
     "name": "stdout",
     "output_type": "stream",
     "text": [
      "[    8    16    32    64   128   512  1024  2048  4096 16384  1994]\n",
      "[   8   16   32   64  128  512 1024 2048 4096 1994]\n",
      "[   8   16   32   64  128  512 1024 2048 4096 1994]\n"
     ]
    }
   ],
   "source": [
    "quantile = 0.9\n",
    "dct = {\"steane\": {}, \"toric\": {}, \"fivequbit\": {}}\n",
    "betas = [1]\n",
    "for beta in betas:\n",
    "    dct[\"toric\"][beta] = ana_by_batch_size(toric_code_df[toric_code_df[\"beta\"] == beta], \"val_acc\", quantile)\n",
    "    dct[\"steane\"][beta] = ana_by_batch_size(steane_code_df[steane_code_df[\"beta\"] == beta], \"val_acc\", quantile)\n",
    "    dct[\"fivequbit\"][beta] = ana_by_batch_size(fivequbit_code_df[fivequbit_code_df[\"beta\"] == beta], \"val_acc\", quantile)\n"
   ]
  },
  {
   "cell_type": "code",
   "execution_count": 29,
   "metadata": {},
   "outputs": [
    {
     "data": {
      "image/png": "[encoded data removed]",
      "text/plain": [
       "<Figure size 900x1500 with 3 Axes>"
      ]
     },
     "metadata": {},
     "output_type": "display_data"
    }
   ],
   "source": [
    "fig, axes = plt.subplots(3, 1, figsize=(9, 15))\n",
    "\n",
    "beta_colors = [\"gold\", \"green\", \"blue\"]\n",
    "novar_marker=\"x\"\n",
    "novar_alpha = 0.9\n",
    "n_batches = 8 # the total training data is this time n_batches\n",
    "\n",
    "code_names = [\"toric\", \"steane\", \"fivequbit\"]\n",
    "for ax_j,code_name in enumerate(code_names):\n",
    "    ax = axes[ax_j]\n",
    "    for i in range(len(betas)):\n",
    "        batch_sizes, medians_beta, bounds_beta = dct[code_name][betas[i]]\n",
    "        color = beta_colors[i]\n",
    "    ax.errorbar(batch_sizes[:-1] * n_batches, medians_beta[:-1], yerr=bounds_beta[:,:-1], fmt='o', c=color)\n",
    "\n",
    "for j, ax in enumerate(axes):\n",
    "    ax.set_title(code_names[j])\n",
    "    ax.annotate('//', xy=(1.02, 0),  xycoords='axes fraction', ha='center', va='center', fontsize=16)\n",
    "    ax.annotate('//', xy=(1.02, 1),  xycoords='axes fraction', ha='center', va='center', fontsize=16)\n",
    "\n",
    "    ax.loglog()\n",
    "    ax.spines[['right']].set_visible(False)\n",
    "    ax.set_xlabel(r\"Total training data $N$\", fontsize=14)\n",
    "\n",
    "    # ax2.set_ylabel(r\"Median logical error rate\")\n",
    "    # change xticklabel sizes\n",
    "    ax.tick_params(axis='x', labelsize=14)\n",
    "    # put annotated '//' at y=0, x=xlim[1] in axis coordinates\n",
    "    ax.grid(which='both', alpha=0.5, axis='y')\n",
    "\n",
    "    plt.setp(ax.get_yticklabels(), visible=False)\n",
    "    ax.tick_params(left=False, labelleft=False)\n"
   ]
  },
  {
   "cell_type": "code",
   "execution_count": null,
   "metadata": {},
   "outputs": [],
   "source": []
  },
  {
   "cell_type": "code",
   "execution_count": null,
   "metadata": {},
   "outputs": [],
   "source": []
  },
  {
   "cell_type": "code",
   "execution_count": null,
   "metadata": {},
   "outputs": [],
   "source": []
  },
  {
   "cell_type": "code",
   "execution_count": null,
   "metadata": {},
   "outputs": [],
   "source": []
  },
  {
   "cell_type": "markdown",
   "metadata": {},
   "source": [
    "### MLD 'trained' on both the true distribution and the no-var distribution"
   ]
  },
  {
   "cell_type": "code",
   "execution_count": 8,
   "metadata": {},
   "outputs": [
    {
     "name": "stdout",
     "output_type": "stream",
     "text": [
      "MLD table accuracy: 0.9985953569412231\n"
     ]
    },
    {
     "name": "stderr",
     "output_type": "stream",
     "text": [
      "/Users/e6peters/projects/mldec/src/mldec/models/baselines.py:62: UserWarning: Creating a tensor from a list of numpy.ndarrays is extremely slow. Please consider converting the list to a single numpy.ndarray with numpy.array() before converting to a tensor. (Triggered internally at /Users/runner/work/pytorch/pytorch/pytorch/torch/csrc/utils/tensor_new.cpp:257.)\n",
      "  return torch.tensor(out)\n"
     ]
    },
    {
     "ename": "NameError",
     "evalue": "name 'df_novar' is not defined",
     "output_type": "error",
     "traceback": [
      "\u001b[0;31m---------------------------------------------------------------------------\u001b[0m",
      "\u001b[0;31mNameError\u001b[0m                                 Traceback (most recent call last)",
      "Cell \u001b[0;32mIn[8], line 11\u001b[0m\n\u001b[1;32m      9\u001b[0m mld_for_novar \u001b[38;5;241m=\u001b[39m []\n\u001b[1;32m     10\u001b[0m mld_for_var \u001b[38;5;241m=\u001b[39m []\n\u001b[0;32m---> 11\u001b[0m betavals \u001b[38;5;241m=\u001b[39m \u001b[38;5;28msorted\u001b[39m(\u001b[43mdf_novar\u001b[49m[\u001b[38;5;124m'\u001b[39m\u001b[38;5;124mbeta\u001b[39m\u001b[38;5;124m'\u001b[39m]\u001b[38;5;241m.\u001b[39munique())\n\u001b[1;32m     12\u001b[0m \u001b[38;5;28;01mfor\u001b[39;00m beta \u001b[38;5;129;01min\u001b[39;00m betavals:\n\u001b[1;32m     13\u001b[0m     novar_dataset_config \u001b[38;5;241m=\u001b[39m {\u001b[38;5;124m\"\u001b[39m\u001b[38;5;124mp\u001b[39m\u001b[38;5;124m\"\u001b[39m: ptrue, \u001b[38;5;124m\"\u001b[39m\u001b[38;5;124mvar\u001b[39m\u001b[38;5;124m\"\u001b[39m: \u001b[38;5;241m0\u001b[39m, \u001b[38;5;124m\"\u001b[39m\u001b[38;5;124mbeta\u001b[39m\u001b[38;5;124m\"\u001b[39m: beta}\n",
      "\u001b[0;31mNameError\u001b[0m: name 'df_novar' is not defined"
     ]
    }
   ],
   "source": [
    "# compute optimal performance on this dataset .9524514\n",
    "\n",
    "mld = baselines.LookupTable()\n",
    "mld.train_on_histogram(X, Y, good_weights)\n",
    "mld_acc = evaluation.weighted_accuracy(mld, X, Y, val_weights) \n",
    "print(f\"MLD table accuracy: {mld_acc}\")\n",
    "\n",
    "# compute the MLD for a no-variance depolarizing noise model\n",
    "mld_for_novar = []\n",
    "mld_for_var = []\n",
    "betavals = sorted(df_novar['beta'].unique())\n",
    "for beta in betavals:\n",
    "    novar_dataset_config = {\"p\": ptrue, \"var\": 0, \"beta\": beta}\n",
    "    var_dataset_config = {\"p\": ptrue, \"var\": var, \"beta\": beta}\n",
    "    X, Y, good_novar = single_round_code_data.uniform_over_good_examples(n, novar_dataset_config)\n",
    "    X, Y, good_var = single_round_code_data.uniform_over_good_examples(n, var_dataset_config)\n",
    "    # train an MLD on the no-variance noise model, and then\n",
    "    # evaluate on the \"true\" noise profile\n",
    "    mld_novar = baselines.LookupTable()\n",
    "    mld_novar.train_on_histogram(X, Y, good_novar)\n",
    "    acc_novar = evaluation.weighted_accuracy(mld_novar, X, Y, val_weights)\n",
    "    mld_for_novar.append(acc_novar)\n",
    "\n",
    "    mld_var = baselines.LookupTable()\n",
    "    mld_var.train_on_histogram(X, Y, good_var)\n",
    "    acc_var = evaluation.weighted_accuracy(mld_var, X, Y, val_weights)\n",
    "    mld_for_var.append(acc_var)"
   ]
  },
  {
   "cell_type": "code",
   "execution_count": 10,
   "metadata": {},
   "outputs": [],
   "source": [
    "#  DATA SWEEEP APRIL 11.A EXPERIMENT\n",
    "# beta =[1, 1.75], var\n",
    "target_var1 = \"toric-code-var-exp-v3.1-datasweep/transformer_toric_code_results.csv\"\n",
    "df_var_sweep = pd.read_csv(target_var1)\n",
    "\n",
    "# beta=[1, 1.75], novar\n",
    "target_novar1 = \"toric-code-novar-exp-v3.1-datasweep/transformer_toric_code_results.csv\"\n",
    "df_novarx = pd.read_csv(target_novar1)\n",
    "\n",
    "# beta=3.25, novar\n",
    "target_novar2 = \"toric-code-novar-exp-v3.2-datasweep/transformer_toric_code_results.csv\"\n",
    "df_novar2x = pd.read_csv(target_novar2)\n",
    "# combine df_novar2 into df_novar\n",
    "df_novar_sweep = pd.concat([df_novarx, df_novar2x], ignore_index=True)"
   ]
  },
  {
   "cell_type": "code",
   "execution_count": 11,
   "metadata": {},
   "outputs": [
    {
     "name": "stderr",
     "output_type": "stream",
     "text": [
      "C:\\Users\\peter\\AppData\\Local\\Temp\\ipykernel_11872\\3105668356.py:24: SettingWithCopyWarning: \n",
      "A value is trying to be set on a copy of a slice from a DataFrame.\n",
      "Try using .loc[row_indexer,col_indexer] = value instead\n",
      "\n",
      "See the caveats in the documentation: https://pandas.pydata.org/pandas-docs/stable/user_guide/indexing.html#returning-a-view-versus-a-copy\n",
      "  df[\"batch_size\"] = batch_size\n"
     ]
    }
   ],
   "source": [
    "def ana_by_batch_size(df, col_name, quantile, append_inf=True):\n",
    "    \"\"\"For each value of batch_size, compute median and upper/lower quantile of df[col_name].\"\"\"\n",
    "    batch_sizes = df['batch_size'].unique()\n",
    "    # move 1994 to the end\n",
    "    batch_sizes = np.array(list(sorted([x for x in batch_sizes if x != 1994])))\n",
    "    if append_inf:\n",
    "        batch_sizes = np.concatenate([batch_sizes, [1994]])\n",
    "    medians = []\n",
    "    lower_q = []\n",
    "    upper_q = []\n",
    "    for bs in batch_sizes:\n",
    "        vals = 1 - df[df['batch_size'] == bs][col_name]\n",
    "        medians.append(np.median(vals))\n",
    "        lower_q.append(np.quantile(vals, 1-quantile))\n",
    "        upper_q.append(np.quantile(vals, quantile))\n",
    "    medians = np.array(medians)\n",
    "    lower_q = medians - np.array(lower_q)\n",
    "    upper_q = np.array(upper_q) - medians\n",
    "    bounds = np.array(list(zip(lower_q, upper_q))).T\n",
    "    return batch_sizes, medians, bounds\n",
    "\n",
    "def ana_single_batch_size(df, col_name, quantile, batch_size):\n",
    "    # add a single batch_size column to df\n",
    "    df[\"batch_size\"] = batch_size\n",
    "    return ana_by_batch_size(df, col_name, quantile, append_inf=False)\n",
    "\n",
    "quantile = 0.9\n",
    "batch_sizes, medians_beta1, bounds_beta1 = ana_by_batch_size(df_var_sweep[df_var_sweep[\"beta\"] == 1], \"val_acc\", quantile)\n",
    "batch_sizes, medians_beta175, bounds_beta175 = ana_by_batch_size(df_var_sweep[df_var_sweep[\"beta\"] == 1.75], \"val_acc\", quantile)\n",
    "batch_sizes, medians_beta1_novar, bounds_beta1_novar = ana_by_batch_size(df_novar_sweep[df_novar_sweep[\"beta\"] == 1], \"val_acc\", quantile)\n",
    "batch_sizes, medians_beta175_novar, bounds_beta175_novar = ana_by_batch_size(df_novar_sweep[df_novar_sweep[\"beta\"] == 1.75], \"val_acc\", quantile)\n",
    "batch_sizes, medians_beta325_novar, bounds_beta325_novar = ana_by_batch_size(df_novar_sweep[df_novar_sweep[\"beta\"] == 3.25], \"val_acc\", quantile)\n",
    "\n",
    "_, medians_beta1_original, bounds_beta1_original = ana_single_batch_size(df_var[df_var[\"beta\"] == 1], \"val_acc\", quantile, 10000)\n",
    "_, medians_beta175_original, bounds_beta175_original = ana_single_batch_size(df_var[df_var[\"beta\"] == 1.75], \"val_acc\", quantile, 10000)\n",
    "_, medians_beta1_novar_original, bounds_beta1_novar_original = ana_single_batch_size(df_novar[df_novar[\"beta\"] == 1], \"val_acc\", quantile, 10000)\n",
    "_, medians_beta175_novar_original, bounds_beta175_novar_original = ana_single_batch_size(df_novar[df_novar[\"beta\"] == 1.75], \"val_acc\", quantile, 10000)\n",
    "_, medians_beta325_novar_original, bounds_beta325_novar_original = ana_single_batch_size(df_novar[df_novar[\"beta\"] == 3.25], \"val_acc\", quantile, 10000)"
   ]
  },
  {
   "cell_type": "code",
   "execution_count": 3,
   "metadata": {},
   "outputs": [
    {
     "ename": "NameError",
     "evalue": "name 'df_var' is not defined",
     "output_type": "error",
     "traceback": [
      "\u001b[0;31m---------------------------------------------------------------------------\u001b[0m",
      "\u001b[0;31mNameError\u001b[0m                                 Traceback (most recent call last)",
      "Cell \u001b[0;32mIn[3], line 18\u001b[0m\n\u001b[1;32m     16\u001b[0m colors \u001b[38;5;241m=\u001b[39m [unwt_xformer_color, wt_xformer_color]\n\u001b[1;32m     17\u001b[0m labels \u001b[38;5;241m=\u001b[39m [ \u001b[38;5;124mr\u001b[39m\u001b[38;5;124m'\u001b[39m\u001b[38;5;124munweighted $p_E[\u001b[39m\u001b[38;5;124m\\\u001b[39m\u001b[38;5;124mbeta p, 0]$\u001b[39m\u001b[38;5;124m'\u001b[39m, \u001b[38;5;124mr\u001b[39m\u001b[38;5;124m'\u001b[39m\u001b[38;5;124mweighted $p_E[\u001b[39m\u001b[38;5;124m\\\u001b[39m\u001b[38;5;124mbeta p$, $\u001b[39m\u001b[38;5;124m'\u001b[39m \u001b[38;5;241m+\u001b[39m\u001b[38;5;124m\"\u001b[39m\u001b[38;5;124mvar\u001b[39m\u001b[38;5;124m\"\u001b[39m \u001b[38;5;241m+\u001b[39m \u001b[38;5;124mr\u001b[39m\u001b[38;5;124m'\u001b[39m\u001b[38;5;124m]$\u001b[39m\u001b[38;5;124m'\u001b[39m]\n\u001b[0;32m---> 18\u001b[0m betavals \u001b[38;5;241m=\u001b[39m \u001b[38;5;28msorted\u001b[39m(\u001b[43mdf_var\u001b[49m[\u001b[38;5;124m'\u001b[39m\u001b[38;5;124mbeta\u001b[39m\u001b[38;5;124m'\u001b[39m]\u001b[38;5;241m.\u001b[39munique())\n\u001b[1;32m     20\u001b[0m \u001b[38;5;28;01mfor\u001b[39;00m jj, df \u001b[38;5;129;01min\u001b[39;00m \u001b[38;5;28menumerate\u001b[39m([df_novar, df_var]):\n\u001b[1;32m     21\u001b[0m     color \u001b[38;5;241m=\u001b[39m colors[jj]\n",
      "\u001b[0;31mNameError\u001b[0m: name 'df_var' is not defined"
     ]
    },
    {
     "data": {
      "image/png": "[encoded data removed]",
      "text/plain": [
       "<Figure size 900x500 with 3 Axes>"
      ]
     },
     "metadata": {},
     "output_type": "display_data"
    }
   ],
   "source": [
    "from matplotlib import gridspec\n",
    "from matplotlib.ticker import ScalarFormatter\n",
    "\n",
    "fig = plt.figure(figsize=(9, 5), constrained_layout=True)\n",
    "gs = gridspec.GridSpec(1, 9, figure=fig)\n",
    "# Its very frustrating that sharey here forces ylabels to appear.\n",
    "ax = plt.subplot(gs[0, :5])\n",
    "ax2 = plt.subplot(gs[0, 5:8])\n",
    "ax3 = plt.subplot(gs[0, 8])\n",
    "\n",
    "unwt_xformer_color = 'r'\n",
    "wt_xformer_color = 'b'\n",
    "wt_mwpm_color = 'grey'\n",
    "wt_mld_color = 'purple'\n",
    "unwt_mld_color = 'darkorange'\n",
    "colors = [unwt_xformer_color, wt_xformer_color]\n",
    "labels = [ r'unweighted $p_E[\\beta p, 0]$', r'weighted $p_E[\\beta p$, $' +\"var\" + r']$']\n",
    "betavals = sorted(df_var['beta'].unique())\n",
    "\n",
    "for jj, df in enumerate([df_novar, df_var]):\n",
    "    color = colors[jj]\n",
    "    # compute performance/stats on each of the models\n",
    "    yerrs_meds = []\n",
    "    yerrs_mins = []\n",
    "    yerrs_ub = []\n",
    "    yerrs_lb = []\n",
    "    better_than_lookup_arr = [] # track when the model is better than the lookup table\n",
    "    for i, beta in enumerate(betavals):\n",
    "        y = df[df['beta'] == beta]['val_acc']\n",
    "        y_err = 1 - y\n",
    "        yerrs_meds.append(y_err.median())\n",
    "        # get \n",
    "        y_ub = y_err.quantile(.75)\n",
    "        y_lb = y_err.quantile(0.25)\n",
    "        # y_ub = y_err.quantile(.95)\n",
    "        # y_lb = y_err.quantile(0.05)\n",
    "        # y_ub = max(y_err)\n",
    "        # y_lb = min(y_err)\n",
    "        yerrs_ub.append(y_ub)\n",
    "        yerrs_lb.append(y_lb)\n",
    "        yerrs_mins.append(y_err.min())\n",
    "\n",
    "        # Also get the min weight performance\n",
    "        # vs_minweight = df[df['beta'] == beta]['vs_minweight'].values\n",
    "        # minweight = y - vs_minweight\n",
    "        # min_minweight_err = min(np.round(1 - minweight, 7)) # machine precision errors from the subtraction op above...\n",
    "\n",
    "        # now, find the comparison of this plot to the lookup table on the plot\n",
    "        vs_lookup = df[df['beta'] == beta]['vs_lookup'][y.idxmax()]\n",
    "        better_than_lookup = vs_lookup > 0\n",
    "        better_than_lookup_arr.append(better_than_lookup)\n",
    "    \n",
    "    yerrs_meds = np.array(yerrs_meds)\n",
    "    yerrs_mins = np.array(yerrs_mins)\n",
    "    yerrs_ub = np.array(yerrs_ub)\n",
    "    yerrs_lb = np.array(yerrs_lb)\n",
    "\n",
    "    # xvals = ptrue * np.array(betavals)\n",
    "    xvals = np.array(betavals)\n",
    "\n",
    "    ax.fill_between(xvals, yerrs_lb, yerrs_ub, color=color, alpha=0.2)\n",
    "    ax.plot(xvals, yerrs_meds, ls='--', marker=None, c=color, alpha=0.7)\n",
    "    ax.plot(xvals, yerrs_mins, ls='-', marker=None, c=color, label=labels[jj])\n",
    "    # wherever the result is better than lookup, plot a star\n",
    "    for i, beta in enumerate(betavals):\n",
    "        if better_than_lookup_arr[i]:\n",
    "            marker = '*'\n",
    "            markersize = 9\n",
    "        else:\n",
    "            marker = 'o'\n",
    "            markersize = 6\n",
    "        ax.plot(xvals[i], yerrs_mins[i], marker=marker, c=color, markersize=markersize)\n",
    "\n",
    "    if jj ==1:\n",
    "        ax.axhline(1 - minimum_weight_val_acc, ls=':', c=wt_mwpm_color, alpha=0.7)\n",
    "        ax.text(1.1, 1 - minimum_weight_val_acc, \"MWPM\", color=wt_mwpm_color, va='bottom', ha='left', fontsize=10, alpha=0.7)\n",
    "        ax.plot(xvals, 1 - np.array(mld_for_var), ls=':', c=wt_mld_color, alpha=0.9)\n",
    "        ax.text(1, 1 - mld_for_var[0] + 0.0001, r\"MLD (wt)\", color=wt_mld_color, va='bottom', ha='left', fontsize=10, alpha=0.9)\n",
    "        ax.plot(xvals, (1 - np.array(mld_for_novar))[:len(xvals)], ls=':', c=unwt_mld_color, alpha=1)\n",
    "        ax.text(1.4, 1 - mld_for_novar[0], r\"MLD (unwt)\", color=unwt_mld_color, va='bottom', ha='left', fontsize=10, alpha=1)\n",
    "\n",
    "    ax.semilogy()\n",
    "    ax.set_xlabel(r\"Knob factor $\\beta$\", size=14)\n",
    "\n",
    "ax.set_ylim([ax.get_ylim()[0], 1 - minimum_weight_val_acc + 1e-3])\n",
    "# ax.set_ylim([3e-2, 6e-2])\n",
    "ax.set_ylabel(\"Logical Error Probability (LEP)\", size=14)\n",
    "# place the legend at (0.7, 0.9) using axis coordinates\n",
    "ax.legend(loc=\"upper left\", fontsize=10, framealpha=1, bbox_to_anchor=(0.3, 0.8))\n",
    "\n",
    "# bar plots of the best performance from each category\n",
    "def best_median_iq_beta(df, beta):\n",
    "    if beta:\n",
    "        df = df[df['beta'] == beta]\n",
    "    else:\n",
    "        # slice the df to keep only the beta corresponding to maximum val acc\n",
    "        beta = df.loc[df['val_acc'].idxmax()]['beta']\n",
    "        df = df[df['beta'] == beta]\n",
    "    y = df['val_acc']\n",
    "    errs = 1 - y\n",
    "    best = errs.min()\n",
    "    median = errs.median()\n",
    "    iq = (errs.quantile(0.1), errs.quantile(0.90))\n",
    "    return best, median, iq\n",
    "\n",
    "wt_beta1_best, wt_beta1_median, wt_beta1_iq = best_median_iq_beta(df_var, beta=1)\n",
    "wt_best, wt_median, wt_iq = best_median_iq_beta(df_var, beta=None)\n",
    "unwt_best, unwt_median, unwt_iq = best_median_iq_beta(df_novar, beta=None)\n",
    "print(f\"unweighted beta=1: {wt_beta1_best}, {wt_beta1_median}, {wt_beta1_iq}\")\n",
    "print(f\"weighted best: {wt_best}, {wt_median}, {wt_iq}\")\n",
    "print(f\"unweighted best: {unwt_best}, {unwt_median}, {unwt_iq}\")\n",
    "mld_err = 1 - mld_acc\n",
    "mwpm_err = 1 - minimum_weight_val_acc\n",
    "mld_unwt_err = 1 - max(mld_for_novar) # this doesn't matter, they're all the same\n",
    "ax.grid(which='both', alpha=0.5, axis='y')\n",
    "\n",
    "# # # # # # # # # # # # # # # # # # # # # # # # # # # # # # # # \n",
    "# # # # # # # # # # # # # # # # # # # # # # # # # # # # # # # # \n",
    "# second plot is for n_train sweep\n",
    "# define three shades of red: (pink, red, dark red)\n",
    "red_rgb = \"gold\"\n",
    "red_rgb2 = \"orange\"\n",
    "red_rgb3 = \"red\"\n",
    "\n",
    "novar_marker=\"x\"\n",
    "novar_alpha = 0.9\n",
    "\n",
    "n_batches = 32 # the total training data is this time n_batches\n",
    "ax2.errorbar(batch_sizes[:-1] * n_batches, medians_beta1[:-1], yerr=bounds_beta1[:,:-1], fmt='o', c='cyan')\n",
    "ax2.errorbar(batch_sizes[:-1] * n_batches, medians_beta175[:-1], yerr=bounds_beta175[:,:-1], fmt='o', c='b')\n",
    "ax2.errorbar(batch_sizes[:-1] * n_batches, medians_beta325_novar[:-1], yerr=bounds_beta325_novar[:,:-1], fmt=novar_marker, c=red_rgb3, alpha=novar_alpha)\n",
    "ax2.errorbar(batch_sizes[:-1] * n_batches, medians_beta175_novar[:-1], yerr=bounds_beta175_novar[:,:-1], fmt=novar_marker, c=red_rgb2, alpha=novar_alpha)\n",
    "ax2.errorbar(batch_sizes[:-1] * n_batches, medians_beta1_novar[:-1], yerr=bounds_beta1_novar[:,:-1], fmt=novar_marker, c=red_rgb, alpha=novar_alpha)\n",
    "\n",
    "ax2.annotate('//', xy=(1.02, 0),  xycoords='axes fraction', ha='center', va='center', fontsize=16)\n",
    "ax2.annotate('//', xy=(1.02, 1),  xycoords='axes fraction', ha='center', va='center', fontsize=16)\n",
    "\n",
    "# also plot original data\n",
    "ax2.errorbar(10000, medians_beta1_original[-1], yerr=bounds_beta1_original[:,-1].reshape(2,1), fmt='o', c='cyan', label=r'$\\beta=1$ (weighted)')\n",
    "ax2.errorbar(10000, medians_beta175_original[-1], yerr=bounds_beta175_original[:,-1].reshape(2,1), fmt='o', c='b', label=r'$\\beta=1.75$ (weighted)')\n",
    "ax2.errorbar(10000, medians_beta325_novar_original[-1], yerr=bounds_beta325_novar_original[:,-1].reshape(2,1), fmt=novar_marker, c=red_rgb3, label=r'$\\beta=3.25$ (unweighted)', alpha=novar_alpha)\n",
    "ax2.errorbar(10000, medians_beta175_novar_original[-1], yerr=bounds_beta175_novar_original[:,-1].reshape(2,1), fmt=novar_marker, c=red_rgb2, label=r'$\\beta=1.75$ (unweighted)', alpha=novar_alpha)\n",
    "ax2.errorbar(10000, medians_beta1_novar_original[-1], yerr=bounds_beta1_novar_original[:,-1].reshape(2,1), fmt=novar_marker, c=red_rgb, label=r'$\\beta=1$ (unweighted)', alpha=novar_alpha)\n",
    "\n",
    "ax2.loglog()\n",
    "ax2.spines[['right']].set_visible(False)\n",
    "ax2.set_xlabel(r\"Total training data $N$\", fontsize=14)\n",
    "\n",
    "# ax2.set_ylabel(r\"Median logical error rate\")\n",
    "# change xticklabel sizes\n",
    "ax2.tick_params(axis='x', labelsize=14)\n",
    "# put annotated '//' at y=0, x=xlim[1] in axis coordinates\n",
    "ax2.grid(which='both', alpha=0.5, axis='y')\n",
    "\n",
    "plt.setp(ax2.get_yticklabels(), visible=False)\n",
    "ax2.tick_params(left=False, labelleft=False)\n",
    "\n",
    "# ax2.set_yticklabels([])\n",
    "# print(ax.get_yticks())\n",
    "# ax2.set_yticks(ax.get_yticks())\n",
    "ax2.set_ylim(ax.get_ylim()[0], 7e-2)\n",
    "ax2.legend(loc=\"upper right\", fontsize=9, framealpha=1, bbox_to_anchor=(.99, 0.99))\n",
    "\n",
    "# prettier sci not\n",
    "formatter = ScalarFormatter(useMathText=True)\n",
    "formatter.set_scientific(True)\n",
    "formatter.set_powerlimits((-2, 2))  # This controls when to use scientific notation\n",
    "for axis in [ax, ax2]:\n",
    "    axis.yaxis.set_major_formatter(formatter)\n",
    "    axis.yaxis.set_minor_formatter(formatter)\n",
    "    axis.yaxis.offsetText.set_visible(True)\n",
    "    axis.yaxis.get_offset_text().set_position((-0.02, 0))  # Adjust position as needed\n",
    "    axis.yaxis.get_offset_text().set_size(10)\n",
    "\n",
    "\n",
    "ax2.axhline(1 - minimum_weight_val_acc, ls=':', c=wt_mwpm_color, alpha=0.7)\n",
    "ax3.axhline(1 - minimum_weight_val_acc, ls=':', c=wt_mwpm_color, alpha=0.7)\n",
    "ax2.text(1e4, 1 - minimum_weight_val_acc, \"MWPM\", color=wt_mwpm_color, va='bottom', ha='left', fontsize=10, alpha=0.7)\n",
    "ax2.axhline(1 - mld_for_var[0], ls=':', c=wt_mld_color, alpha=0.9)\n",
    "ax3.axhline(1 - mld_for_var[0], ls=':', c=wt_mld_color, alpha=0.9)\n",
    "ax2.text(200, 1 - mld_for_var[0] + 0.0001, r\"MLD (wt)\", color=wt_mld_color, va='bottom', ha='left', fontsize=10, alpha=0.9)\n",
    "ax2.axhline((1 - mld_for_novar[0]), ls=':', c=unwt_mld_color, alpha=1)\n",
    "ax3.axhline((1 - mld_for_novar[0]), ls=':', c=unwt_mld_color, alpha=1)\n",
    "ax2.text(200, 1 - mld_for_novar[0], r\"MLD (unwt)\", color=unwt_mld_color, va='bottom', ha='left', fontsize=10, alpha=1)\n",
    "\n",
    "ax3.semilogy()\n",
    "ax3.errorbar(1, medians_beta1[-1], yerr=bounds_beta1[:,-1].reshape(2,1), fmt='o', c='cyan', label=r'$\\beta=1$, var (weighted)')\n",
    "ax3.errorbar(1, medians_beta175[-1], yerr=bounds_beta175[:,-1].reshape(2,1), fmt='o', c='b', label=r'$\\beta=1.75$, var (weighted)')\n",
    "ax3.errorbar(1, medians_beta325_novar[-1], yerr=bounds_beta325_novar[:,-1].reshape(2,1), fmt=novar_marker, c=red_rgb3, label=r'$\\beta=3.25$ (unweighted)', alpha=novar_alpha)\n",
    "ax3.errorbar(1, medians_beta175_novar[-1], yerr=bounds_beta175_novar[:,-1].reshape(2,1), fmt=novar_marker, c=red_rgb2, label=r'$\\beta=1.75$ (unweighted)', alpha=novar_alpha)\n",
    "ax3.errorbar(1, medians_beta1_novar[-1], yerr=bounds_beta1_novar[:,-1].reshape(2,1), fmt=novar_marker, c=red_rgb, label=r'$\\beta=1$ (unweighted)', alpha=novar_alpha)\n",
    "ax3.spines[['left']].set_visible(False)\n",
    "\n",
    "# suppress y-axis on ax3 and ticks\n",
    "plt.setp(ax3.get_yticklabels(), visible=False)\n",
    "plt.setp(ax3.get_yminorticklabels(), visible=False)  # <--- THIS IS IT! FOUND IT.\n",
    "# ax3.tick_params(left=False, labelleft=False)\n",
    "ax3.set_yticklabels([])\n",
    "ax3.set_yticks([])\n",
    "ax3.set_xticks([1])\n",
    "ax3.set_xticklabels([r\"$\\infty$\"], fontsize=16)\n",
    "ax3.set_ylim(ax2.get_ylim())\n",
    "ax3.grid(which='both', alpha=0.5, axis='y')\n",
    "\n",
    "\n",
    "\n",
    "fig.savefig(f\"../../figures/fig2_bc.pdf\", bbox_inches='tight')"
   ]
  },
  {
   "cell_type": "markdown",
   "metadata": {},
   "source": [
    "### Overflow pictures"
   ]
  },
  {
   "cell_type": "markdown",
   "metadata": {},
   "source": [
    "#### Accuracy distributions of transformers lookup table"
   ]
  },
  {
   "cell_type": "code",
   "execution_count": 13,
   "metadata": {},
   "outputs": [
    {
     "data": {
      "text/plain": [
       "(-0.005, 0.012)"
      ]
     },
     "execution_count": 13,
     "metadata": {},
     "output_type": "execute_result"
    },
    {
     "data": {
      "image/png": "[encoded data removed]",
      "text/plain": [
       "<Figure size 800x600 with 12 Axes>"
      ]
     },
     "metadata": {},
     "output_type": "display_data"
    }
   ],
   "source": [
    "# make a 2D histogram of transformer vs_lookup versus betas\n",
    "betavals = sorted(df_var['beta'].unique())\n",
    "all_betas = []\n",
    "lookup_vals_var = []\n",
    "lookup_vals_novar = []\n",
    "for beta in betavals:\n",
    "    vs_lookupvals_var = df_var[df_var['beta'] == beta]['vs_lookup'].values\n",
    "    lookup_vals_var.append(vs_lookupvals_var)\n",
    "    vs_lookupvals_novar = df_novar[df_novar['beta'] == beta]['vs_lookup'].values\n",
    "    lookup_vals_novar.append(vs_lookupvals_novar)\n",
    "\n",
    "fig, axes = plt.subplots(3, 4, figsize=(8, 6), constrained_layout=True, sharex=True, sharey=True)\n",
    "ax = axes.flatten()\n",
    "for i in range(len(betavals)):\n",
    "    beta = betavals[i]\n",
    "    vals_var = lookup_vals_var[i]\n",
    "    vals_novar = lookup_vals_novar[i]\n",
    "    ax[i].hist(vals_novar, alpha=0.5, color='r', label=r\"$D_N(\\beta p, 0)$\", density=True)\n",
    "    _, bins, _ = ax[i].hist(vals_var, bins=20, alpha=0.5, color='b', label=r\"$D_N(\\beta p, \\text{var})$\", density=True)\n",
    "    # put text with beta value in the axis\n",
    "    ax[i].text(0.5, 0.45, r\"$\\beta=$\"+f\"{beta}\", transform=ax[i].transAxes)\n",
    "    # break\n",
    "    # ax[i].set_title(f\"beta={beta}\")\n",
    "    ax[i].axvline(0, ls='--', c='k', alpha=0.5)\n",
    "\n",
    "ax[-1].set_visible(False)\n",
    "fig.suptitle(\"(Accuracy of Transformer) - (Accuracy of Lookup Table)\")\n",
    "ax[0].legend(bbox_to_anchor=(0.02, 1), loc=\"upper left\", framealpha=1)\n",
    "ax[0].set_xlim([-0.005, 0.012])\n",
    "# fig.savefig(f\"../../figures/agg_toric_code_vs_lookup.pdf\", bbox_inches='tight')\n"
   ]
  },
  {
   "cell_type": "markdown",
   "metadata": {},
   "source": []
  }
 ],
 "metadata": {
  "kernelspec": {
   "display_name": ".venv",
   "language": "python",
   "name": "python3"
  },
  "language_info": {
   "codemirror_mode": {
    "name": "ipython",
    "version": 3
   },
   "file_extension": ".py",
   "mimetype": "text/x-python",
   "name": "python",
   "nbconvert_exporter": "python",
   "pygments_lexer": "ipython3",
   "version": "3.9.6"
  }
 },
 "nbformat": 4,
 "nbformat_minor": 2
}
