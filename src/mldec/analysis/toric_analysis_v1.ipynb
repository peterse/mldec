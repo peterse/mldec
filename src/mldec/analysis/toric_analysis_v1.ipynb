{
 "cells": [
  {
   "cell_type": "markdown",
   "metadata": {},
   "source": [
    "### Analyzing with more and more data"
   ]
  },
  {
   "cell_type": "code",
   "execution_count": null,
   "metadata": {},
   "outputs": [],
   "source": [
    "# reload magic\n",
    "%load_ext autoreload\n",
    "%autoreload 2"
   ]
  },
  {
   "cell_type": "code",
   "execution_count": 1,
   "metadata": {},
   "outputs": [],
   "source": [
    "import pandas as pd\n",
    "import matplotlib.pyplot as plt\n",
    "import numpy as np\n",
    "\n",
    "from mldec.datasets import toy_problem_data, toric_code_data\n",
    "from mldec.models import baselines\n",
    "from mldec.utils import evaluation"
   ]
  },
  {
   "cell_type": "code",
   "execution_count": 67,
   "metadata": {},
   "outputs": [],
   "source": [
    "# ORIGINAL 10000 TRAIN\n",
    "target_var1 = \"toric-code-var-exp-v2/transformer_toric_code_results.csv\"\n",
    "target_var2 = \"toric-code-var-exp-v2.1/transformer_toric_code_results.csv\"\n",
    "df_var1 = pd.read_csv(target_var1)\n",
    "df_var2 = pd.read_csv(target_var2)\n",
    "df_var_original = pd.concat([df_var1, df_var2] , ignore_index=True)\n",
    "target_novar1 = \"toric-code-novar-exp-v2/transformer_toric_code_results.csv\"\n",
    "target_novar2 = \"toric-code-novar-exp-v2.1/transformer_toric_code_results.csv\"\n",
    "df_novar1 = pd.read_csv(target_novar1)\n",
    "df_novar2 = pd.read_csv(target_novar2)\n",
    "df_novar_original = pd.concat([df_novar1, df_novar2], ignore_index=True)"
   ]
  },
  {
   "cell_type": "code",
   "execution_count": 68,
   "metadata": {},
   "outputs": [],
   "source": [
    "#  DATA SWEEEP APRIL 11.A EXPERIMENT\n",
    "target_var1 = \"toric-code-var-exp-v3.1-datasweep/transformer_toric_code_results.csv\"\n",
    "df_var = pd.read_csv(target_var1)\n",
    "\n",
    "target_novar1 = \"toric-code-novar-exp-v3.1-datasweep/transformer_toric_code_results.csv\"\n",
    "df_novar = pd.read_csv(target_novar1)"
   ]
  },
  {
   "cell_type": "code",
   "execution_count": 89,
   "metadata": {},
   "outputs": [],
   "source": [
    "def ana_by_batch_size(df, col_name, quantile, append_inf=True):\n",
    "    \"\"\"For each value of batch_size, compute median and upper/lower quantile of df[col_name].\"\"\"\n",
    "    batch_sizes = df['batch_size'].unique()\n",
    "    # move 1994 to the end\n",
    "    batch_sizes = np.array(list(sorted([x for x in batch_sizes if x != 1994])))\n",
    "    if append_inf:\n",
    "        batch_sizes = np.concatenate([batch_sizes, [1994]])\n",
    "    medians = []\n",
    "    lower_q = []\n",
    "    upper_q = []\n",
    "    for bs in batch_sizes:\n",
    "        vals = 1 - df[df['batch_size'] == bs][col_name]\n",
    "        medians.append(np.median(vals))\n",
    "        lower_q.append(np.quantile(vals, 1-quantile))\n",
    "        upper_q.append(np.quantile(vals, quantile))\n",
    "    medians = np.array(medians)\n",
    "    lower_q = medians - np.array(lower_q)\n",
    "    upper_q = np.array(upper_q) - medians\n",
    "    bounds = np.array(list(zip(lower_q, upper_q))).T\n",
    "    return batch_sizes, medians, bounds\n",
    "\n",
    "def ana_single_batch_size(df, col_name, quantile, batch_size):\n",
    "    # add a single batch_size column to df\n",
    "    df[\"batch_size\"] = batch_size\n",
    "    return ana_by_batch_size(df, col_name, quantile, append_inf=False)\n",
    "\n",
    "quantile = 0.9\n",
    "batch_sizes, medians_beta1, bounds_beta1 = ana_by_batch_size(df_var[df_var[\"beta\"] == 1], \"val_acc\", quantile)\n",
    "batch_sizes, medians_beta175, bounds_beta175 = ana_by_batch_size(df_var[df_var[\"beta\"] == 1.75], \"val_acc\", quantile)\n",
    "batch_sizes, medians_beta1_novar, bounds_beta1_novar = ana_by_batch_size(df_novar[df_novar[\"beta\"] == 1], \"val_acc\", quantile)\n",
    "batch_sizes, medians_beta175_novar, bounds_beta175_novar = ana_by_batch_size(df_novar[df_novar[\"beta\"] == 1.75], \"val_acc\", quantile)"
   ]
  },
  {
   "cell_type": "code",
   "execution_count": 90,
   "metadata": {},
   "outputs": [
    {
     "name": "stderr",
     "output_type": "stream",
     "text": [
      "C:\\Users\\peter\\AppData\\Local\\Temp\\ipykernel_7052\\2407947059.py:24: SettingWithCopyWarning: \n",
      "A value is trying to be set on a copy of a slice from a DataFrame.\n",
      "Try using .loc[row_indexer,col_indexer] = value instead\n",
      "\n",
      "See the caveats in the documentation: https://pandas.pydata.org/pandas-docs/stable/user_guide/indexing.html#returning-a-view-versus-a-copy\n",
      "  df[\"batch_size\"] = batch_size\n"
     ]
    }
   ],
   "source": [
    "_, medians_beta1_original, bounds_beta1_original = ana_single_batch_size(df_var_original[df_var_original[\"beta\"] == 1], \"val_acc\", quantile, 10000)\n",
    "_, medians_beta175_original, bounds_beta175_original = ana_single_batch_size(df_var_original[df_var_original[\"beta\"] == 1.75], \"val_acc\", quantile, 10000)\n",
    "_, medians_beta1_novar_original, bounds_beta1_novar_original = ana_single_batch_size(df_novar_original[df_novar_original[\"beta\"] == 1], \"val_acc\", quantile, 10000)\n",
    "_, medians_beta175_novar_original, bounds_beta175_novar_original = ana_single_batch_size(df_novar_original[df_novar_original[\"beta\"] == 1.75], \"val_acc\", quantile, 10000)\n"
   ]
  },
  {
   "cell_type": "code",
   "execution_count": 91,
   "metadata": {},
   "outputs": [
    {
     "data": {
      "text/plain": [
       "(0.036, 0.066)"
      ]
     },
     "execution_count": 91,
     "metadata": {},
     "output_type": "execute_result"
    },
    {
     "data": {
      "image/png": "[encoded data removed]",
      "text/plain": [
       "<Figure size 640x480 with 2 Axes>"
      ]
     },
     "metadata": {},
     "output_type": "display_data"
    }
   ],
   "source": [
    "# close all figures\n",
    "plt.close('all')\n",
    "# define a gridspec\n",
    "from matplotlib import gridspec\n",
    "gs = gridspec.GridSpec(1, 6)\n",
    "ax = plt.subplot(gs[0, :5])\n",
    "ax2 = plt.subplot(gs[0, 5])\n",
    "\n",
    "n_batches = 32 # the total training data is this time n_batches\n",
    "ax.errorbar(batch_sizes[:-1] * n_batches, medians_beta1[:-1], yerr=bounds_beta1[:,:-1], fmt='o', c='cyan')\n",
    "ax.errorbar(batch_sizes[:-1] * n_batches, medians_beta175[:-1], yerr=bounds_beta175[:,:-1], fmt='o', c='b')\n",
    "ax.errorbar(batch_sizes[:-1] * n_batches, medians_beta1_novar[:-1], yerr=bounds_beta1_novar[:,:-1], fmt='o', c='pink')\n",
    "ax.errorbar(batch_sizes[:-1] * n_batches, medians_beta175_novar[:-1], yerr=bounds_beta175_novar[:,:-1], fmt='o', c='r')\n",
    "ax.annotate('//', xy=(1.02, 0),  xycoords='axes fraction', ha='center', va='center', fontsize=16)\n",
    "ax.annotate('//', xy=(1.02, 1),  xycoords='axes fraction', ha='center', va='center', fontsize=16)\n",
    "\n",
    "# also plot original data\n",
    "ax.errorbar(10000, medians_beta1_original[-1], yerr=bounds_beta1_original[:,-1].reshape(2,1), fmt='o', c='cyan')\n",
    "ax.errorbar(10000, medians_beta175_original[-1], yerr=bounds_beta175_original[:,-1].reshape(2,1), fmt='o', c='b')\n",
    "ax.errorbar(10000, medians_beta1_novar_original[-1], yerr=bounds_beta1_novar_original[:,-1].reshape(2,1), fmt='o', c='pink')\n",
    "ax.errorbar(10000, medians_beta175_novar_original[-1], yerr=bounds_beta175_novar_original[:,-1].reshape(2,1), fmt='o', c='r')\n",
    "\n",
    "ax.loglog()\n",
    "ax.spines[['right']].set_visible(False)\n",
    "ax.set_ylim(3.6e-2, 6.6e-2)\n",
    "ax.grid(axis='both')\n",
    "# put annotated '//' at y=0, x=xlim[1] in axis coordinates\n",
    "\n",
    "ax2.errorbar(1, medians_beta1[-1], yerr=bounds_beta1[:,-1].reshape(2,1), fmt='o', c='cyan')\n",
    "ax2.errorbar(1, medians_beta175[-1], yerr=bounds_beta175[:,-1].reshape(2,1), fmt='o', c='b')\n",
    "ax2.errorbar(1, medians_beta1_novar[-1], yerr=bounds_beta1_novar[:,-1].reshape(2,1), fmt='o', c='pink')\n",
    "ax2.errorbar(1, medians_beta175_novar[-1], yerr=bounds_beta175_novar[:,-1].reshape(2,1), fmt='o', c='r')\n",
    "ax2.spines[['left']].set_visible(False)\n",
    "\n",
    "# suppress y-axis on ax2 and ticks\n",
    "ax2.set_yticklabels([])\n",
    "ax2.set_yticks([])\n",
    "ax2.set_xticks([1])\n",
    "ax2.set_xticklabels([r\"$\\infty$\"])\n",
    "ax2.set_ylim(ax.get_ylim())\n"
   ]
  },
  {
   "cell_type": "code",
   "execution_count": 92,
   "metadata": {},
   "outputs": [
    {
     "data": {
      "text/plain": [
       "array([   256,    512,   1024,   2048,   4096,  16384,  65536, 524288,\n",
       "        63808], dtype=int64)"
      ]
     },
     "execution_count": 92,
     "metadata": {},
     "output_type": "execute_result"
    }
   ],
   "source": [
    "batch_sizes * 32"
   ]
  },
  {
   "cell_type": "markdown",
   "metadata": {},
   "source": [
    "Commentary:\n",
    " - In the regime of insufficient data (less than 10000 training data), you can accomplish var, beta=1 accuracies with about 1/2 the data (var, beta=1.75) or twice the data (novar, beta=1.75)\n",
    " - This is a plot of median error vs n_train, with fixed training steps"
   ]
  }
 ],
 "metadata": {
  "kernelspec": {
   "display_name": ".venv",
   "language": "python",
   "name": "python3"
  },
  "language_info": {
   "codemirror_mode": {
    "name": "ipython",
    "version": 3
   },
   "file_extension": ".py",
   "mimetype": "text/x-python",
   "name": "python",
   "nbconvert_exporter": "python",
   "pygments_lexer": "ipython3",
   "version": "3.11.1"
  }
 },
 "nbformat": 4,
 "nbformat_minor": 2
}
