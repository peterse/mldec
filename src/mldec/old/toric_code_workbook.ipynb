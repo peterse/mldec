{
 "cells": [
  {
   "cell_type": "code",
   "execution_count": 6,
   "metadata": {},
   "outputs": [
    {
     "name": "stdout",
     "output_type": "stream",
     "text": [
      "1.26.4\n",
      "if this^ is >=2 then pymatching might fail\n"
     ]
    }
   ],
   "source": [
    "import numpy as np\n",
    "\n",
    "\n",
    "print(np.__version__)\n",
    "print(\"if this^ is >=2 then pymatching might fail\")"
   ]
  },
  {
   "cell_type": "code",
   "execution_count": 7,
   "metadata": {},
   "outputs": [
    {
     "name": "stdout",
     "output_type": "stream",
     "text": [
      "The autoreload extension is already loaded. To reload it, use:\n",
      "  %reload_ext autoreload\n"
     ]
    }
   ],
   "source": [
    "# reload magic \n",
    "%load_ext autoreload"
   ]
  },
  {
   "cell_type": "code",
   "execution_count": 15,
   "metadata": {},
   "outputs": [],
   "source": [
    "import stim\n",
    "import pymatching"
   ]
  },
  {
   "cell_type": "code",
   "execution_count": null,
   "metadata": {},
   "outputs": [],
   "source": []
  },
  {
   "cell_type": "code",
   "execution_count": 10,
   "metadata": {},
   "outputs": [
    {
     "name": "stdout",
     "output_type": "stream",
     "text": [
      "xs [stim.PauliString(\"+XX_XX____\"), stim.PauliString(\"+____XX_XX\"), stim.PauliString(\"+__X__X___\"), stim.PauliString(\"+___X__X__\")]\n",
      "zs [stim.PauliString(\"+___ZZ_ZZ_\"), stim.PauliString(\"+_ZZ_ZZ___\"), stim.PauliString(\"+ZZ_______\"), stim.PauliString(\"+_______ZZ\")]\n"
     ]
    }
   ],
   "source": [
    "L = 3\n",
    "xs, zs, Hx, Hz = generate_rotated_surface_code_stabilizers(L)\n",
    "print(\"xs\", xs)\n",
    "print(\"zs\", zs)\n"
   ]
  },
  {
   "cell_type": "code",
   "execution_count": 11,
   "metadata": {},
   "outputs": [],
   "source": [
    "import numpy as np\n",
    "import matplotlib.pyplot as plt\n",
    "from scipy.sparse import hstack, kron, eye, csc_matrix, block_diag\n",
    "\n",
    "\n",
    "def repetition_code(n):\n",
    "    \"\"\"\n",
    "    Parity check matrix of a repetition code with length n.\n",
    "    \"\"\"\n",
    "    row_ind, col_ind = zip(*((i, j) for i in range(n) for j in (i, (i+1)%n)))\n",
    "    data = np.ones(2*n, dtype=np.uint8)\n",
    "    return csc_matrix((data, (row_ind, col_ind)))\n",
    "\n",
    "\n",
    "def toric_code_x_stabilisers(L):\n",
    "    \"\"\"\n",
    "    Sparse check matrix for the X stabilisers of a toric code with\n",
    "    lattice size L, constructed as the hypergraph product of\n",
    "    two repetition codes.\n",
    "    \"\"\"\n",
    "    Hr = repetition_code(L)\n",
    "    H = hstack(\n",
    "            [kron(Hr, eye(Hr.shape[1])), kron(eye(Hr.shape[0]), Hr.T)],\n",
    "            dtype=np.uint8\n",
    "        )\n",
    "    H.data = H.data % 2\n",
    "    H.eliminate_zeros()\n",
    "    return csc_matrix(H)\n",
    "\n"
   ]
  },
  {
   "cell_type": "code",
   "execution_count": 18,
   "metadata": {},
   "outputs": [],
   "source": [
    "from scipy.sparse import hstack, kron, eye, csc_matrix, block_diag\n",
    "def toric_code_x_logicals(L):\n",
    "    \"\"\"\n",
    "    The logical operator is X...X either horizontally or vertically across the lattice, in the unrotated version.\n",
    "    In the rotated version \n",
    "    \"\"\"\n",
    "    if L != 3:\n",
    "        raise NotImplementedError(\"Only L=3 is implemented\")\n",
    "    vertical_x = [1]*L + [0]*L*(L - 1)\n",
    "    _x = ([1] + [0]*(L-1)) * L\n",
    "    return np.array([\n",
    "        [0, 0, 0, 1, 1, 1, 0, 0, 0], # center horizontal.\n",
    "        # [1, 0, 0, 0, 1, 0, 0, 0, 1], # diagonal from top left to bottom right\n",
    "    ])\n",
    "\n"
   ]
  },
  {
   "cell_type": "code",
   "execution_count": 21,
   "metadata": {},
   "outputs": [
    {
     "name": "stdout",
     "output_type": "stream",
     "text": [
      "PCM for x-stabilizers, L=3 rotated surface code\n",
      "[[1 1 0 1 1 0 0 0 0]\n",
      " [0 0 0 0 1 1 0 1 1]\n",
      " [0 0 1 0 0 1 0 0 0]\n",
      " [0 0 0 1 0 0 1 0 0]]\n",
      "<pymatching.Matching object with 4 detectors, 1 boundary node, and 7 edges>\n",
      "z noise: [1 0 0 0 0 0 0 0 0]\n",
      "syndrome: [1 0 0 0]\n",
      "predicted physical error: [1 0 0 0 0 0 0 0 0]\n",
      "true logical error: [0]\n",
      "predicted logical error: [0]\n",
      "\n",
      "z noise: [0 1 0 0 0 0 0 0 0]\n",
      "syndrome: [1 0 0 0]\n",
      "predicted physical error: [1 0 0 0 0 0 0 0 0]\n",
      "true logical error: [0]\n",
      "predicted logical error: [0]\n",
      "\n",
      "z noise: [0 0 1 0 0 0 0 0 0]\n",
      "syndrome: [0 0 1 0]\n",
      "predicted physical error: [0 0 1 0 0 0 0 0 0]\n",
      "true logical error: [0]\n",
      "predicted logical error: [0]\n",
      "\n",
      "z noise: [0 0 0 1 0 0 0 0 0]\n",
      "syndrome: [1 0 0 1]\n",
      "predicted physical error: [0 0 0 1 0 0 0 0 0]\n",
      "true logical error: [1]\n",
      "predicted logical error: [1]\n",
      "\n",
      "z noise: [0 0 0 0 1 0 0 0 0]\n",
      "syndrome: [1 1 0 0]\n",
      "predicted physical error: [0 0 0 0 1 0 0 0 0]\n",
      "true logical error: [1]\n",
      "predicted logical error: [1]\n",
      "\n",
      "z noise: [0 0 0 0 0 1 0 0 0]\n",
      "syndrome: [0 1 1 0]\n",
      "predicted physical error: [0 0 0 0 0 1 0 0 0]\n",
      "true logical error: [1]\n",
      "predicted logical error: [1]\n",
      "\n",
      "z noise: [0 0 0 0 0 0 1 0 0]\n",
      "syndrome: [0 0 0 1]\n",
      "predicted physical error: [0 0 0 0 0 0 1 0 0]\n",
      "true logical error: [0]\n",
      "predicted logical error: [0]\n",
      "\n",
      "z noise: [0 0 0 0 0 0 0 1 0]\n",
      "syndrome: [0 1 0 0]\n",
      "predicted physical error: [0 0 0 0 0 0 0 1 0]\n",
      "true logical error: [0]\n",
      "predicted logical error: [0]\n",
      "\n",
      "z noise: [0 0 0 0 0 0 0 0 1]\n",
      "syndrome: [0 1 0 0]\n",
      "predicted physical error: [0 0 0 0 0 0 0 1 0]\n",
      "true logical error: [0]\n",
      "predicted logical error: [0]\n",
      "\n"
     ]
    }
   ],
   "source": [
    "(\"\"\"\n",
    "            \n",
    "         0 --- 1 --- 2\n",
    "         |  X  |     | X\n",
    "         3 --- 4 --- 5\n",
    "       X |     |  X  |        <--- qubit numbering and X stabilizers \n",
    "         6 --- 7 --- 8\n",
    "                  \n",
    "    \n",
    "\"\"\")\n",
    "# OKAY IM A FUCKING IDIOT, WE NEED TO BE NUMBERING THE SQUARES, NOT THE QUBITS!\n",
    "# see fig 5: https://arxiv.org/pdf/2307.14989\n",
    "from pymatching import Matching\n",
    "# generate a matching object specific to the PCM for x-stabilizers\n",
    "matching_x = Matching(Hx)\n",
    "print(\"PCM for x-stabilizers, L=3 rotated surface code\")\n",
    "print(Hx)\n",
    "# matching = Matching.from_check_matrix(Hx, use_virtual_boundary_node=True)\n",
    "matching = Matching(Hx)\n",
    "print(matching)\n",
    "for noise_i in range(9):\n",
    "  noise = np.zeros(9, dtype=int)\n",
    "  noise[noise_i] = 1\n",
    "  print(\"z noise:\", noise)\n",
    "  s = Hx @ noise % 2\n",
    "  print(\"syndrome:\", s)\n",
    "  c = matching.decode(s)\n",
    "  print(\"predicted physical error:\", c)\n",
    "\n",
    "  x_logicals = toric_code_x_logicals(L)\n",
    "  logical_flip_pred = x_logicals @ c % 2\n",
    "  logical_flip_true = x_logicals @ noise % 2\n",
    "  print(\"true logical error:\", logical_flip_true)\n",
    "  print(\"predicted logical error:\", logical_flip_pred)\n",
    "  print()"
   ]
  },
  {
   "cell_type": "code",
   "execution_count": 135,
   "metadata": {},
   "outputs": [
    {
     "name": "stdout",
     "output_type": "stream",
     "text": [
      "Z noise: [0 0 0 1 0 0 0 0 0]\n",
      "Prediction:  [0 0 0 0 0 0 0 0 0]\n",
      "True logical obs flipped:  [1 0]\n",
      "Predicted logical obs flipped:  [0 0]\n"
     ]
    }
   ],
   "source": [
    "from pymatching import Matching\n",
    "# generate a matching object specific to the PCM for x-stabilizers\n",
    "matching_x = Matching(Hx)\n",
    "\n",
    "# The noise we care about deepends _only_ on the z-type pauilis occuring the error string\n",
    "# i.e. if an error E = [ e_x e_z ] in binary symplectic form, then Hx only 'sees' e_z\n",
    "p = 0.1\n",
    "# for my project, this will just go over all possible errors :)\n",
    "# z_noise = np.random.binomial(1, p, size=Hx.shape[1])\n",
    "z_noise = np.array([0, 0, 0, 1, 0, 0, 0, 0, 0])\n",
    "z_syndrome = Hx @ z_noise % 2\n",
    "print(\"Z noise:\", z_noise)\n",
    "\n",
    "# generate a prediction and predict logical error\n",
    "prediction = matching_x.decode(z_syndrome)\n",
    "x_logicals = toric_code_x_logicals(L)\n",
    "logical_error_pred = x_logicals @ prediction % 2\n",
    "logical_error_true = x_logicals @ z_noise % 2\n",
    "\n",
    "print(\"Prediction: \", prediction)\n",
    "print(\"True logical obs flipped: \", logical_error_true)\n",
    "print(\"Predicted logical obs flipped: \", logical_error_pred)\n"
   ]
  },
  {
   "cell_type": "code",
   "execution_count": null,
   "metadata": {},
   "outputs": [],
   "source": [
    "\n"
   ]
  },
  {
   "cell_type": "code",
   "execution_count": null,
   "metadata": {},
   "outputs": [
    {
     "name": "stdout",
     "output_type": "stream",
     "text": [
      "8 9 1\n"
     ]
    },
    {
     "name": "stdout",
     "output_type": "stream",
     "text": [
      "Maximum likelihood, L=3\n",
      "0.9397690759087137\n"
     ]
    }
   ],
   "source": []
  },
  {
   "cell_type": "code",
   "execution_count": 11,
   "metadata": {},
   "outputs": [],
   "source": [
    "from itertools import chain, combinations\n",
    "from functools import reduce\n",
    "def powerset(iterable):\n",
    "    s = list(iterable)\n",
    "    return chain.from_iterable(combinations(s, r) for r in range(len(s)+1))\n",
    "        \n"
   ]
  },
  {
   "cell_type": "code",
   "execution_count": 15,
   "metadata": {},
   "outputs": [
    {
     "data": {
      "text/plain": [
       "<enumerate at 0x26bb72d9c10>"
      ]
     },
     "execution_count": 15,
     "metadata": {},
     "output_type": "execute_result"
    }
   ],
   "source": [
    "enumerate(powerset([1,2,3]))"
   ]
  },
  {
   "cell_type": "markdown",
   "metadata": {},
   "source": [
    "#### what we need is:\n",
    "1. answers for MLE on every syndrome -> separates good and bad\n",
    "2. for all \"good\" syndromes, we need answers from pymatching.\n",
    "\n",
    "#### build the parity check matrices\n",
    "\n",
    "so MWPM decoding for X-type and Z-type errors is the same process (PCM might be different), so our procedure is:\n",
    "1. get the syndrome logical pair $(\\sigma, \\ell)$\n",
    "2. Check that $f^*(\\sigma) = \\ell$, so we know we have a good example\n",
    "3. Let $\\sigma = [\\sigma_X | \\sigma_Z]$\n",
    "4. MWPM decode $\\sigma$ into $\\ell_X \\ell_Z = \\hat{\\ell}$, our guess for the logical operator\n",
    "5. if $\\hat{\\ell} \\notin \\ell \\mathcal{S}$, then we have an important example\n",
    "\n",
    "Issues:\n",
    " - organizing everything might be tough; do we start with $\\ell$\n",
    " - idea: I build the prism from the ground up; I could run MWPM at each layer before generating $\\ell \\mathcal{S}$, then check equality as I fill out that coset\n",
    " - probably need to downgrade to numpy 1.26"
   ]
  },
  {
   "cell_type": "code",
   "execution_count": 19,
   "metadata": {},
   "outputs": [],
   "source": [
    "import numpy as np\n",
    "from scipy.sparse import hstack, kron, eye, csc_matrix, block_diag\n",
    "\n",
    "\n",
    "def repetition_code(n):\n",
    "    \"\"\"\n",
    "    Parity check matrix of a repetition code with length n.\n",
    "    \"\"\"\n",
    "    row_ind, col_ind = zip(*((i, j) for i in range(n) for j in (i, (i+1)%n)))\n",
    "    data = np.ones(2*n, dtype=np.uint8)\n",
    "    return csc_matrix((data, (row_ind, col_ind)))\n",
    "\n",
    "\n",
    "def toric_code_x_stabilisers(L):\n",
    "    \"\"\"\n",
    "    Sparse check matrix for the X stabilisers of a toric code with\n",
    "    lattice size L, constructed as the hypergraph product of\n",
    "    two repetition codes.\n",
    "    \"\"\"\n",
    "    Hr = repetition_code(L)\n",
    "    H = hstack(\n",
    "            [kron(Hr, eye(Hr.shape[1])), kron(eye(Hr.shape[0]), Hr.T)],\n",
    "            dtype=np.uint8\n",
    "        )\n",
    "    H.data = H.data % 2\n",
    "    H.eliminate_zeros()\n",
    "    return csc_matrix(H)\n",
    "\n"
   ]
  },
  {
   "cell_type": "code",
   "execution_count": null,
   "metadata": {},
   "outputs": [],
   "source": [
    "toric_code"
   ]
  }
 ],
 "metadata": {
  "kernelspec": {
   "display_name": ".venv",
   "language": "python",
   "name": "python3"
  },
  "language_info": {
   "codemirror_mode": {
    "name": "ipython",
    "version": 3
   },
   "file_extension": ".py",
   "mimetype": "text/x-python",
   "name": "python",
   "nbconvert_exporter": "python",
   "pygments_lexer": "ipython3",
   "version": "3.11.1"
  }
 },
 "nbformat": 4,
 "nbformat_minor": 2
}
