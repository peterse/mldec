{
 "cells": [
  {
   "cell_type": "markdown",
   "id": "88672bd6",
   "metadata": {},
   "source": [
    "## Notes and resources\n",
    "\n",
    "https://quantum.cloud.ibm.com/ = dashboard for the IBM Quantum Cloud\n",
    "\n",
    "\n",
    "Before starting this tutorial, ensure that you have the following installed:\n",
    "\n",
    "* Qiskit SDK 1.0 or later with visualization support (`pip install `)\n",
    "* Qiskit Runtime 0.22 or later (`pip install `)\n"
   ]
  },
  {
   "cell_type": "code",
   "execution_count": 1,
   "id": "98bd80f4",
   "metadata": {},
   "outputs": [],
   "source": [
    "# autoreload\n",
    "%load_ext autoreload\n",
    "%autoreload 2\n"
   ]
  },
  {
   "cell_type": "markdown",
   "id": "14c29e8b",
   "metadata": {},
   "source": [
    "## Setup\n"
   ]
  },
  {
   "cell_type": "code",
   "execution_count": 52,
   "id": "1b9fd8ad",
   "metadata": {
    "slideshow": {
     "slide_type": "-"
    }
   },
   "outputs": [],
   "source": [
    "# Qiskit imports\n",
    "from qiskit_ibm_runtime import QiskitRuntimeService, SamplerV2 as Sampler\n",
    "from qiskit import transpile, QuantumCircuit, QuantumRegister, ClassicalRegister\n",
    "from qiskit_aer import Aer, AerSimulator\n",
    "from qiskit.transpiler import generate_preset_pass_manager\n",
    "from qiskit_aer.primitives import SamplerV2 as AerSampler\n",
    "from qiskit.transpiler import Layout\n",
    "from qiskit import QuantumCircuit, transpile\n",
    "# tutorial at https://github.com/Qiskit/textbook/blob/main/notebooks/quantum-hardware/error-correction-repetition-code.ipynb\n",
    "from mldec.hardware.topological_codes.circuits import RepetitionCode, HardwarePhaseFlipRepetitionCode\n",
    "from mldec.hardware.topological_codes.fitters import GraphDecoder, lookuptable_decoding\n",
    "\n",
    "# circuit wrappers and optimizers\n",
    "from mldec.hardware.topological_codes.wrappers import insert_idle_delays\n",
    "from mldec.hardware.topological_codes.noise import get_noise\n",
    "\n",
    "import numpy as np\n",
    "\n",
    "from qiskit_ibm_runtime.fake_provider import (FakeAlgiers, FakeAthensV2, FakeBelemV2, FakeManilaV2,\n",
    "                                            FakeAuckland, FakeBrisbane, FakeOsaka, FakeKyoto)\n",
    "fake_backends = [FakeAlgiers(), FakeAthensV2(), FakeBelemV2(), FakeManilaV2(), FakeAuckland(),\n",
    "                FakeBrisbane(), FakeOsaka(), FakeKyoto()] \n",
    "from qiskit_ibm_runtime.fake_provider import FakeTorino\n",
    "\n",
    "from qiskit_experiments.framework import BackendTiming, BaseExperiment, Options\n"
   ]
  },
  {
   "cell_type": "markdown",
   "id": "228e6574",
   "metadata": {},
   "source": [
    "#### Specify the backend/provider, in order to build a hardware-aware circuit"
   ]
  },
  {
   "cell_type": "code",
   "execution_count": 3,
   "id": "21002706",
   "metadata": {},
   "outputs": [],
   "source": [
    "service = QiskitRuntimeService()\n",
    "# backend = service.least_busy(simulator=False, operational=True, min_num_qubits=5)\n",
    "real_backend = service.backend('ibm_torino')\n",
    "fake_backend = FakeTorino()\n",
    "\n",
    "sim_backend = AerSimulator.from_backend(fake_backend)"
   ]
  },
  {
   "cell_type": "markdown",
   "id": "dc4ec17f",
   "metadata": {},
   "source": [
    "### my code\n",
    "\n",
    "This code seems to actually work and apply thermal relaxation to the delay gates."
   ]
  },
  {
   "cell_type": "code",
   "execution_count": 91,
   "id": "7e82de86",
   "metadata": {},
   "outputs": [
    {
     "data": {
      "text/plain": [
       "'dt'"
      ]
     },
     "execution_count": 91,
     "metadata": {},
     "output_type": "execute_result"
    }
   ],
   "source": [
    "timing.delay_unit"
   ]
  },
  {
   "cell_type": "code",
   "execution_count": 93,
   "id": "fde53e75",
   "metadata": {},
   "outputs": [
    {
     "name": "stdout",
     "output_type": "stream",
     "text": [
      "Help on method delay in module qiskit.circuit.quantumcircuit:\n",
      "\n",
      "delay(duration: 'Union[ParameterValueType, expr.Expr]', qarg: 'QubitSpecifier | None' = None, unit: 'str | None' = None) -> 'InstructionSet' method of qiskit.circuit.quantumcircuit.QuantumCircuit instance\n",
      "    Apply :class:`~.circuit.Delay`. If qarg is ``None``, applies to all qubits.\n",
      "    When applying to multiple qubits, delays with the same duration will be created.\n",
      "    \n",
      "    Args:\n",
      "        duration (Object):\n",
      "            duration of the delay. If this is an :class:`~.expr.Expr`, it must be\n",
      "            a constant expression of type :class:`~.types.Duration`.\n",
      "        qarg (Object): qubit argument to apply this delay.\n",
      "        unit (str | None): unit of the duration, unless ``duration`` is an :class:`~.expr.Expr`\n",
      "            in which case it must not be specified. Supported units: ``'s'``, ``'ms'``, ``'us'``,\n",
      "            ``'ns'``, ``'ps'``, and ``'dt'``. Default is ``'dt'``, i.e. integer time unit\n",
      "            depending on the target backend.\n",
      "    \n",
      "    Returns:\n",
      "        qiskit.circuit.InstructionSet: handle to the added instructions.\n",
      "    \n",
      "    Raises:\n",
      "        CircuitError: if arguments have bad format.\n",
      "\n"
     ]
    }
   ],
   "source": [
    "help(circ.delay)"
   ]
  },
  {
   "cell_type": "code",
   "execution_count": 96,
   "id": "abfecbde",
   "metadata": {},
   "outputs": [
    {
     "name": "stdout",
     "output_type": "stream",
     "text": [
      "Help on method round_delay in module qiskit_experiments.framework.backend_timing:\n",
      "\n",
      "round_delay(*, time: Optional[float] = None, samples: Union[int, float, NoneType] = None) -> Union[int, float] method of qiskit_experiments.framework.backend_timing.BackendTiming instance\n",
      "    Delay duration closest to input and consistent with timing constraints\n",
      "    \n",
      "    This method produces the value to pass for the ``duration`` of a\n",
      "    ``Delay`` instruction of a ``QuantumCircuit`` so that the delay fills\n",
      "    the time until the next valid pulse, assuming the ``Delay`` instruction\n",
      "    begins on a sample that is also valid for a pulse to begin on.\n",
      "    \n",
      "    The pulse timing constraints of the backend are considered in order to\n",
      "    give the number of samples closest to the input (either ``time`` or\n",
      "    ``samples``) for the start of a pulse in a subsequent instruction to be\n",
      "    valid. The delay value in samples is rounded to the least common\n",
      "    multiple of the pulse and acquire alignment values in order to ensure\n",
      "    that either type of pulse will be aligned.\n",
      "    \n",
      "    If :meth:`.BackendTiming.delay_unit` is ``s``, ``time`` is\n",
      "    returned directly. Typically, this is the case for a simulator where\n",
      "    converting to sample number is not needed.\n",
      "    \n",
      "    Args:\n",
      "        time: The nominal delay time to convert in seconds\n",
      "        samples: The nominal delay time to convert in samples\n",
      "    \n",
      "    Returns:\n",
      "        The delay duration in samples if :meth:`.BackendTiming.delay_unit`\n",
      "        is ``dt``. Otherwise return ``time``.\n",
      "    \n",
      "    Raises:\n",
      "        QiskitError: If either both ``time`` and ``samples`` are passed or\n",
      "            neither is passed.\n",
      "\n"
     ]
    }
   ],
   "source": [
    "help(timing.round_delay)"
   ]
  },
  {
   "cell_type": "code",
   "execution_count": 95,
   "id": "d8b77041",
   "metadata": {},
   "outputs": [
    {
     "name": "stdout",
     "output_type": "stream",
     "text": [
      "4496\n"
     ]
    },
    {
     "data": {
      "text/html": [
       "<pre style=\"word-wrap: normal;white-space: pre;background: #fff0;line-height: 1.1;font-family: &quot;Courier New&quot;,Courier,monospace\">     ┌────┐┌─────────────────┐ ░ ┌────┐ ░ ┌─┐\n",
       "  q: ┤ √X ├┤ Delay(4496[dt]) ├─░─┤ √X ├─░─┤M├\n",
       "     └────┘└─────────────────┘ ░ └────┘ ░ └╥┘\n",
       "c: 1/══════════════════════════════════════╩═\n",
       "                                           0 </pre>"
      ],
      "text/plain": [
       "     ┌────┐┌─────────────────┐ ░ ┌────┐ ░ ┌─┐\n",
       "  q: ┤ √X ├┤ Delay(4496[dt]) ├─░─┤ √X ├─░─┤M├\n",
       "     └────┘└─────────────────┘ ░ └────┘ ░ └╥┘\n",
       "c: 1/══════════════════════════════════════╩═\n",
       "                                           0 "
      ]
     },
     "metadata": {},
     "output_type": "display_data"
    },
    {
     "name": "stdout",
     "output_type": "stream",
     "text": [
      "13504\n"
     ]
    },
    {
     "data": {
      "text/html": [
       "<pre style=\"word-wrap: normal;white-space: pre;background: #fff0;line-height: 1.1;font-family: &quot;Courier New&quot;,Courier,monospace\">     ┌────┐┌──────────────────┐ ░ ┌────┐ ░ ┌─┐\n",
       "  q: ┤ √X ├┤ Delay(13504[dt]) ├─░─┤ √X ├─░─┤M├\n",
       "     └────┘└──────────────────┘ ░ └────┘ ░ └╥┘\n",
       "c: 1/═══════════════════════════════════════╩═\n",
       "                                            0 </pre>"
      ],
      "text/plain": [
       "     ┌────┐┌──────────────────┐ ░ ┌────┐ ░ ┌─┐\n",
       "  q: ┤ √X ├┤ Delay(13504[dt]) ├─░─┤ √X ├─░─┤M├\n",
       "     └────┘└──────────────────┘ ░ └────┘ ░ └╥┘\n",
       "c: 1/═══════════════════════════════════════╩═\n",
       "                                            0 "
      ]
     },
     "metadata": {},
     "output_type": "display_data"
    },
    {
     "name": "stdout",
     "output_type": "stream",
     "text": [
      "22496\n"
     ]
    },
    {
     "data": {
      "text/html": [
       "<pre style=\"word-wrap: normal;white-space: pre;background: #fff0;line-height: 1.1;font-family: &quot;Courier New&quot;,Courier,monospace\">     ┌────┐┌──────────────────┐ ░ ┌────┐ ░ ┌─┐\n",
       "  q: ┤ √X ├┤ Delay(22496[dt]) ├─░─┤ √X ├─░─┤M├\n",
       "     └────┘└──────────────────┘ ░ └────┘ ░ └╥┘\n",
       "c: 1/═══════════════════════════════════════╩═\n",
       "                                            0 </pre>"
      ],
      "text/plain": [
       "     ┌────┐┌──────────────────┐ ░ ┌────┐ ░ ┌─┐\n",
       "  q: ┤ √X ├┤ Delay(22496[dt]) ├─░─┤ √X ├─░─┤M├\n",
       "     └────┘└──────────────────┘ ░ └────┘ ░ └╥┘\n",
       "c: 1/═══════════════════════════════════════╩═\n",
       "                                            0 "
      ]
     },
     "metadata": {},
     "output_type": "display_data"
    },
    {
     "name": "stdout",
     "output_type": "stream",
     "text": [
      "31504\n"
     ]
    },
    {
     "data": {
      "text/html": [
       "<pre style=\"word-wrap: normal;white-space: pre;background: #fff0;line-height: 1.1;font-family: &quot;Courier New&quot;,Courier,monospace\">     ┌────┐┌──────────────────┐ ░ ┌────┐ ░ ┌─┐\n",
       "  q: ┤ √X ├┤ Delay(31504[dt]) ├─░─┤ √X ├─░─┤M├\n",
       "     └────┘└──────────────────┘ ░ └────┘ ░ └╥┘\n",
       "c: 1/═══════════════════════════════════════╩═\n",
       "                                            0 </pre>"
      ],
      "text/plain": [
       "     ┌────┐┌──────────────────┐ ░ ┌────┐ ░ ┌─┐\n",
       "  q: ┤ √X ├┤ Delay(31504[dt]) ├─░─┤ √X ├─░─┤M├\n",
       "     └────┘└──────────────────┘ ░ └────┘ ░ └╥┘\n",
       "c: 1/═══════════════════════════════════════╩═\n",
       "                                            0 "
      ]
     },
     "metadata": {},
     "output_type": "display_data"
    },
    {
     "name": "stdout",
     "output_type": "stream",
     "text": [
      "40496\n"
     ]
    },
    {
     "data": {
      "text/html": [
       "<pre style=\"word-wrap: normal;white-space: pre;background: #fff0;line-height: 1.1;font-family: &quot;Courier New&quot;,Courier,monospace\">     ┌────┐┌──────────────────┐ ░ ┌────┐ ░ ┌─┐\n",
       "  q: ┤ √X ├┤ Delay(40496[dt]) ├─░─┤ √X ├─░─┤M├\n",
       "     └────┘└──────────────────┘ ░ └────┘ ░ └╥┘\n",
       "c: 1/═══════════════════════════════════════╩═\n",
       "                                            0 </pre>"
      ],
      "text/plain": [
       "     ┌────┐┌──────────────────┐ ░ ┌────┐ ░ ┌─┐\n",
       "  q: ┤ √X ├┤ Delay(40496[dt]) ├─░─┤ √X ├─░─┤M├\n",
       "     └────┘└──────────────────┘ ░ └────┘ ░ └╥┘\n",
       "c: 1/═══════════════════════════════════════╩═\n",
       "                                            0 "
      ]
     },
     "metadata": {},
     "output_type": "display_data"
    },
    {
     "name": "stdout",
     "output_type": "stream",
     "text": [
      "49504\n"
     ]
    },
    {
     "data": {
      "text/html": [
       "<pre style=\"word-wrap: normal;white-space: pre;background: #fff0;line-height: 1.1;font-family: &quot;Courier New&quot;,Courier,monospace\">     ┌────┐┌──────────────────┐ ░ ┌────┐ ░ ┌─┐\n",
       "  q: ┤ √X ├┤ Delay(49504[dt]) ├─░─┤ √X ├─░─┤M├\n",
       "     └────┘└──────────────────┘ ░ └────┘ ░ └╥┘\n",
       "c: 1/═══════════════════════════════════════╩═\n",
       "                                            0 </pre>"
      ],
      "text/plain": [
       "     ┌────┐┌──────────────────┐ ░ ┌────┐ ░ ┌─┐\n",
       "  q: ┤ √X ├┤ Delay(49504[dt]) ├─░─┤ √X ├─░─┤M├\n",
       "     └────┘└──────────────────┘ ░ └────┘ ░ └╥┘\n",
       "c: 1/═══════════════════════════════════════╩═\n",
       "                                            0 "
      ]
     },
     "metadata": {},
     "output_type": "display_data"
    },
    {
     "name": "stdout",
     "output_type": "stream",
     "text": [
      "58496\n"
     ]
    },
    {
     "data": {
      "text/html": [
       "<pre style=\"word-wrap: normal;white-space: pre;background: #fff0;line-height: 1.1;font-family: &quot;Courier New&quot;,Courier,monospace\">     ┌────┐┌──────────────────┐ ░ ┌────┐ ░ ┌─┐\n",
       "  q: ┤ √X ├┤ Delay(58496[dt]) ├─░─┤ √X ├─░─┤M├\n",
       "     └────┘└──────────────────┘ ░ └────┘ ░ └╥┘\n",
       "c: 1/═══════════════════════════════════════╩═\n",
       "                                            0 </pre>"
      ],
      "text/plain": [
       "     ┌────┐┌──────────────────┐ ░ ┌────┐ ░ ┌─┐\n",
       "  q: ┤ √X ├┤ Delay(58496[dt]) ├─░─┤ √X ├─░─┤M├\n",
       "     └────┘└──────────────────┘ ░ └────┘ ░ └╥┘\n",
       "c: 1/═══════════════════════════════════════╩═\n",
       "                                            0 "
      ]
     },
     "metadata": {},
     "output_type": "display_data"
    },
    {
     "name": "stdout",
     "output_type": "stream",
     "text": [
      "67504\n"
     ]
    },
    {
     "data": {
      "text/html": [
       "<pre style=\"word-wrap: normal;white-space: pre;background: #fff0;line-height: 1.1;font-family: &quot;Courier New&quot;,Courier,monospace\">     ┌────┐┌──────────────────┐ ░ ┌────┐ ░ ┌─┐\n",
       "  q: ┤ √X ├┤ Delay(67504[dt]) ├─░─┤ √X ├─░─┤M├\n",
       "     └────┘└──────────────────┘ ░ └────┘ ░ └╥┘\n",
       "c: 1/═══════════════════════════════════════╩═\n",
       "                                            0 </pre>"
      ],
      "text/plain": [
       "     ┌────┐┌──────────────────┐ ░ ┌────┐ ░ ┌─┐\n",
       "  q: ┤ √X ├┤ Delay(67504[dt]) ├─░─┤ √X ├─░─┤M├\n",
       "     └────┘└──────────────────┘ ░ └────┘ ░ └╥┘\n",
       "c: 1/═══════════════════════════════════════╩═\n",
       "                                            0 "
      ]
     },
     "metadata": {},
     "output_type": "display_data"
    },
    {
     "name": "stdout",
     "output_type": "stream",
     "text": [
      "76496\n"
     ]
    },
    {
     "data": {
      "text/html": [
       "<pre style=\"word-wrap: normal;white-space: pre;background: #fff0;line-height: 1.1;font-family: &quot;Courier New&quot;,Courier,monospace\">     ┌────┐┌──────────────────┐ ░ ┌────┐ ░ ┌─┐\n",
       "  q: ┤ √X ├┤ Delay(76496[dt]) ├─░─┤ √X ├─░─┤M├\n",
       "     └────┘└──────────────────┘ ░ └────┘ ░ └╥┘\n",
       "c: 1/═══════════════════════════════════════╩═\n",
       "                                            0 </pre>"
      ],
      "text/plain": [
       "     ┌────┐┌──────────────────┐ ░ ┌────┐ ░ ┌─┐\n",
       "  q: ┤ √X ├┤ Delay(76496[dt]) ├─░─┤ √X ├─░─┤M├\n",
       "     └────┘└──────────────────┘ ░ └────┘ ░ └╥┘\n",
       "c: 1/═══════════════════════════════════════╩═\n",
       "                                            0 "
      ]
     },
     "metadata": {},
     "output_type": "display_data"
    },
    {
     "name": "stdout",
     "output_type": "stream",
     "text": [
      "85504\n"
     ]
    },
    {
     "data": {
      "text/html": [
       "<pre style=\"word-wrap: normal;white-space: pre;background: #fff0;line-height: 1.1;font-family: &quot;Courier New&quot;,Courier,monospace\">     ┌────┐┌──────────────────┐ ░ ┌────┐ ░ ┌─┐\n",
       "  q: ┤ √X ├┤ Delay(85504[dt]) ├─░─┤ √X ├─░─┤M├\n",
       "     └────┘└──────────────────┘ ░ └────┘ ░ └╥┘\n",
       "c: 1/═══════════════════════════════════════╩═\n",
       "                                            0 </pre>"
      ],
      "text/plain": [
       "     ┌────┐┌──────────────────┐ ░ ┌────┐ ░ ┌─┐\n",
       "  q: ┤ √X ├┤ Delay(85504[dt]) ├─░─┤ √X ├─░─┤M├\n",
       "     └────┘└──────────────────┘ ░ └────┘ ░ └╥┘\n",
       "c: 1/═══════════════════════════════════════╩═\n",
       "                                            0 "
      ]
     },
     "metadata": {},
     "output_type": "display_data"
    },
    {
     "name": "stdout",
     "output_type": "stream",
     "text": [
      "94496\n"
     ]
    },
    {
     "data": {
      "text/html": [
       "<pre style=\"word-wrap: normal;white-space: pre;background: #fff0;line-height: 1.1;font-family: &quot;Courier New&quot;,Courier,monospace\">     ┌────┐┌──────────────────┐ ░ ┌────┐ ░ ┌─┐\n",
       "  q: ┤ √X ├┤ Delay(94496[dt]) ├─░─┤ √X ├─░─┤M├\n",
       "     └────┘└──────────────────┘ ░ └────┘ ░ └╥┘\n",
       "c: 1/═══════════════════════════════════════╩═\n",
       "                                            0 </pre>"
      ],
      "text/plain": [
       "     ┌────┐┌──────────────────┐ ░ ┌────┐ ░ ┌─┐\n",
       "  q: ┤ √X ├┤ Delay(94496[dt]) ├─░─┤ √X ├─░─┤M├\n",
       "     └────┘└──────────────────┘ ░ └────┘ ░ └╥┘\n",
       "c: 1/═══════════════════════════════════════╩═\n",
       "                                            0 "
      ]
     },
     "metadata": {},
     "output_type": "display_data"
    },
    {
     "name": "stdout",
     "output_type": "stream",
     "text": [
      "103504\n"
     ]
    },
    {
     "data": {
      "text/html": [
       "<pre style=\"word-wrap: normal;white-space: pre;background: #fff0;line-height: 1.1;font-family: &quot;Courier New&quot;,Courier,monospace\">     ┌────┐┌───────────────────┐ ░ ┌────┐ ░ ┌─┐\n",
       "  q: ┤ √X ├┤ Delay(103504[dt]) ├─░─┤ √X ├─░─┤M├\n",
       "     └────┘└───────────────────┘ ░ └────┘ ░ └╥┘\n",
       "c: 1/════════════════════════════════════════╩═\n",
       "                                             0 </pre>"
      ],
      "text/plain": [
       "     ┌────┐┌───────────────────┐ ░ ┌────┐ ░ ┌─┐\n",
       "  q: ┤ √X ├┤ Delay(103504[dt]) ├─░─┤ √X ├─░─┤M├\n",
       "     └────┘└───────────────────┘ ░ └────┘ ░ └╥┘\n",
       "c: 1/════════════════════════════════════════╩═\n",
       "                                             0 "
      ]
     },
     "metadata": {},
     "output_type": "display_data"
    },
    {
     "name": "stdout",
     "output_type": "stream",
     "text": [
      "112496\n"
     ]
    },
    {
     "data": {
      "text/html": [
       "<pre style=\"word-wrap: normal;white-space: pre;background: #fff0;line-height: 1.1;font-family: &quot;Courier New&quot;,Courier,monospace\">     ┌────┐┌───────────────────┐ ░ ┌────┐ ░ ┌─┐\n",
       "  q: ┤ √X ├┤ Delay(112496[dt]) ├─░─┤ √X ├─░─┤M├\n",
       "     └────┘└───────────────────┘ ░ └────┘ ░ └╥┘\n",
       "c: 1/════════════════════════════════════════╩═\n",
       "                                             0 </pre>"
      ],
      "text/plain": [
       "     ┌────┐┌───────────────────┐ ░ ┌────┐ ░ ┌─┐\n",
       "  q: ┤ √X ├┤ Delay(112496[dt]) ├─░─┤ √X ├─░─┤M├\n",
       "     └────┘└───────────────────┘ ░ └────┘ ░ └╥┘\n",
       "c: 1/════════════════════════════════════════╩═\n",
       "                                             0 "
      ]
     },
     "metadata": {},
     "output_type": "display_data"
    },
    {
     "name": "stdout",
     "output_type": "stream",
     "text": [
      "121504\n"
     ]
    },
    {
     "data": {
      "text/html": [
       "<pre style=\"word-wrap: normal;white-space: pre;background: #fff0;line-height: 1.1;font-family: &quot;Courier New&quot;,Courier,monospace\">     ┌────┐┌───────────────────┐ ░ ┌────┐ ░ ┌─┐\n",
       "  q: ┤ √X ├┤ Delay(121504[dt]) ├─░─┤ √X ├─░─┤M├\n",
       "     └────┘└───────────────────┘ ░ └────┘ ░ └╥┘\n",
       "c: 1/════════════════════════════════════════╩═\n",
       "                                             0 </pre>"
      ],
      "text/plain": [
       "     ┌────┐┌───────────────────┐ ░ ┌────┐ ░ ┌─┐\n",
       "  q: ┤ √X ├┤ Delay(121504[dt]) ├─░─┤ √X ├─░─┤M├\n",
       "     └────┘└───────────────────┘ ░ └────┘ ░ └╥┘\n",
       "c: 1/════════════════════════════════════════╩═\n",
       "                                             0 "
      ]
     },
     "metadata": {},
     "output_type": "display_data"
    },
    {
     "name": "stdout",
     "output_type": "stream",
     "text": [
      "130496\n"
     ]
    },
    {
     "data": {
      "text/html": [
       "<pre style=\"word-wrap: normal;white-space: pre;background: #fff0;line-height: 1.1;font-family: &quot;Courier New&quot;,Courier,monospace\">     ┌────┐┌───────────────────┐ ░ ┌────┐ ░ ┌─┐\n",
       "  q: ┤ √X ├┤ Delay(130496[dt]) ├─░─┤ √X ├─░─┤M├\n",
       "     └────┘└───────────────────┘ ░ └────┘ ░ └╥┘\n",
       "c: 1/════════════════════════════════════════╩═\n",
       "                                             0 </pre>"
      ],
      "text/plain": [
       "     ┌────┐┌───────────────────┐ ░ ┌────┐ ░ ┌─┐\n",
       "  q: ┤ √X ├┤ Delay(130496[dt]) ├─░─┤ √X ├─░─┤M├\n",
       "     └────┘└───────────────────┘ ░ └────┘ ░ └╥┘\n",
       "c: 1/════════════════════════════════════════╩═\n",
       "                                             0 "
      ]
     },
     "metadata": {},
     "output_type": "display_data"
    },
    {
     "name": "stdout",
     "output_type": "stream",
     "text": [
      "139504\n"
     ]
    },
    {
     "data": {
      "text/html": [
       "<pre style=\"word-wrap: normal;white-space: pre;background: #fff0;line-height: 1.1;font-family: &quot;Courier New&quot;,Courier,monospace\">     ┌────┐┌───────────────────┐ ░ ┌────┐ ░ ┌─┐\n",
       "  q: ┤ √X ├┤ Delay(139504[dt]) ├─░─┤ √X ├─░─┤M├\n",
       "     └────┘└───────────────────┘ ░ └────┘ ░ └╥┘\n",
       "c: 1/════════════════════════════════════════╩═\n",
       "                                             0 </pre>"
      ],
      "text/plain": [
       "     ┌────┐┌───────────────────┐ ░ ┌────┐ ░ ┌─┐\n",
       "  q: ┤ √X ├┤ Delay(139504[dt]) ├─░─┤ √X ├─░─┤M├\n",
       "     └────┘└───────────────────┘ ░ └────┘ ░ └╥┘\n",
       "c: 1/════════════════════════════════════════╩═\n",
       "                                             0 "
      ]
     },
     "metadata": {},
     "output_type": "display_data"
    },
    {
     "name": "stdout",
     "output_type": "stream",
     "text": [
      "148496\n"
     ]
    },
    {
     "data": {
      "text/html": [
       "<pre style=\"word-wrap: normal;white-space: pre;background: #fff0;line-height: 1.1;font-family: &quot;Courier New&quot;,Courier,monospace\">     ┌────┐┌───────────────────┐ ░ ┌────┐ ░ ┌─┐\n",
       "  q: ┤ √X ├┤ Delay(148496[dt]) ├─░─┤ √X ├─░─┤M├\n",
       "     └────┘└───────────────────┘ ░ └────┘ ░ └╥┘\n",
       "c: 1/════════════════════════════════════════╩═\n",
       "                                             0 </pre>"
      ],
      "text/plain": [
       "     ┌────┐┌───────────────────┐ ░ ┌────┐ ░ ┌─┐\n",
       "  q: ┤ √X ├┤ Delay(148496[dt]) ├─░─┤ √X ├─░─┤M├\n",
       "     └────┘└───────────────────┘ ░ └────┘ ░ └╥┘\n",
       "c: 1/════════════════════════════════════════╩═\n",
       "                                             0 "
      ]
     },
     "metadata": {},
     "output_type": "display_data"
    },
    {
     "name": "stdout",
     "output_type": "stream",
     "text": [
      "157504\n"
     ]
    },
    {
     "data": {
      "text/html": [
       "<pre style=\"word-wrap: normal;white-space: pre;background: #fff0;line-height: 1.1;font-family: &quot;Courier New&quot;,Courier,monospace\">     ┌────┐┌───────────────────┐ ░ ┌────┐ ░ ┌─┐\n",
       "  q: ┤ √X ├┤ Delay(157504[dt]) ├─░─┤ √X ├─░─┤M├\n",
       "     └────┘└───────────────────┘ ░ └────┘ ░ └╥┘\n",
       "c: 1/════════════════════════════════════════╩═\n",
       "                                             0 </pre>"
      ],
      "text/plain": [
       "     ┌────┐┌───────────────────┐ ░ ┌────┐ ░ ┌─┐\n",
       "  q: ┤ √X ├┤ Delay(157504[dt]) ├─░─┤ √X ├─░─┤M├\n",
       "     └────┘└───────────────────┘ ░ └────┘ ░ └╥┘\n",
       "c: 1/════════════════════════════════════════╩═\n",
       "                                             0 "
      ]
     },
     "metadata": {},
     "output_type": "display_data"
    },
    {
     "name": "stdout",
     "output_type": "stream",
     "text": [
      "166496\n"
     ]
    },
    {
     "data": {
      "text/html": [
       "<pre style=\"word-wrap: normal;white-space: pre;background: #fff0;line-height: 1.1;font-family: &quot;Courier New&quot;,Courier,monospace\">     ┌────┐┌───────────────────┐ ░ ┌────┐ ░ ┌─┐\n",
       "  q: ┤ √X ├┤ Delay(166496[dt]) ├─░─┤ √X ├─░─┤M├\n",
       "     └────┘└───────────────────┘ ░ └────┘ ░ └╥┘\n",
       "c: 1/════════════════════════════════════════╩═\n",
       "                                             0 </pre>"
      ],
      "text/plain": [
       "     ┌────┐┌───────────────────┐ ░ ┌────┐ ░ ┌─┐\n",
       "  q: ┤ √X ├┤ Delay(166496[dt]) ├─░─┤ √X ├─░─┤M├\n",
       "     └────┘└───────────────────┘ ░ └────┘ ░ └╥┘\n",
       "c: 1/════════════════════════════════════════╩═\n",
       "                                             0 "
      ]
     },
     "metadata": {},
     "output_type": "display_data"
    },
    {
     "name": "stdout",
     "output_type": "stream",
     "text": [
      "175504\n"
     ]
    },
    {
     "data": {
      "text/html": [
       "<pre style=\"word-wrap: normal;white-space: pre;background: #fff0;line-height: 1.1;font-family: &quot;Courier New&quot;,Courier,monospace\">     ┌────┐┌───────────────────┐ ░ ┌────┐ ░ ┌─┐\n",
       "  q: ┤ √X ├┤ Delay(175504[dt]) ├─░─┤ √X ├─░─┤M├\n",
       "     └────┘└───────────────────┘ ░ └────┘ ░ └╥┘\n",
       "c: 1/════════════════════════════════════════╩═\n",
       "                                             0 </pre>"
      ],
      "text/plain": [
       "     ┌────┐┌───────────────────┐ ░ ┌────┐ ░ ┌─┐\n",
       "  q: ┤ √X ├┤ Delay(175504[dt]) ├─░─┤ √X ├─░─┤M├\n",
       "     └────┘└───────────────────┘ ░ └────┘ ░ └╥┘\n",
       "c: 1/════════════════════════════════════════╩═\n",
       "                                             0 "
      ]
     },
     "metadata": {},
     "output_type": "display_data"
    },
    {
     "name": "stdout",
     "output_type": "stream",
     "text": [
      "184496\n"
     ]
    },
    {
     "data": {
      "text/html": [
       "<pre style=\"word-wrap: normal;white-space: pre;background: #fff0;line-height: 1.1;font-family: &quot;Courier New&quot;,Courier,monospace\">     ┌────┐┌───────────────────┐ ░ ┌────┐ ░ ┌─┐\n",
       "  q: ┤ √X ├┤ Delay(184496[dt]) ├─░─┤ √X ├─░─┤M├\n",
       "     └────┘└───────────────────┘ ░ └────┘ ░ └╥┘\n",
       "c: 1/════════════════════════════════════════╩═\n",
       "                                             0 </pre>"
      ],
      "text/plain": [
       "     ┌────┐┌───────────────────┐ ░ ┌────┐ ░ ┌─┐\n",
       "  q: ┤ √X ├┤ Delay(184496[dt]) ├─░─┤ √X ├─░─┤M├\n",
       "     └────┘└───────────────────┘ ░ └────┘ ░ └╥┘\n",
       "c: 1/════════════════════════════════════════╩═\n",
       "                                             0 "
      ]
     },
     "metadata": {},
     "output_type": "display_data"
    },
    {
     "name": "stdout",
     "output_type": "stream",
     "text": [
      "193504\n"
     ]
    },
    {
     "data": {
      "text/html": [
       "<pre style=\"word-wrap: normal;white-space: pre;background: #fff0;line-height: 1.1;font-family: &quot;Courier New&quot;,Courier,monospace\">     ┌────┐┌───────────────────┐ ░ ┌────┐ ░ ┌─┐\n",
       "  q: ┤ √X ├┤ Delay(193504[dt]) ├─░─┤ √X ├─░─┤M├\n",
       "     └────┘└───────────────────┘ ░ └────┘ ░ └╥┘\n",
       "c: 1/════════════════════════════════════════╩═\n",
       "                                             0 </pre>"
      ],
      "text/plain": [
       "     ┌────┐┌───────────────────┐ ░ ┌────┐ ░ ┌─┐\n",
       "  q: ┤ √X ├┤ Delay(193504[dt]) ├─░─┤ √X ├─░─┤M├\n",
       "     └────┘└───────────────────┘ ░ └────┘ ░ └╥┘\n",
       "c: 1/════════════════════════════════════════╩═\n",
       "                                             0 "
      ]
     },
     "metadata": {},
     "output_type": "display_data"
    },
    {
     "name": "stdout",
     "output_type": "stream",
     "text": [
      "202496\n"
     ]
    },
    {
     "data": {
      "text/html": [
       "<pre style=\"word-wrap: normal;white-space: pre;background: #fff0;line-height: 1.1;font-family: &quot;Courier New&quot;,Courier,monospace\">     ┌────┐┌───────────────────┐ ░ ┌────┐ ░ ┌─┐\n",
       "  q: ┤ √X ├┤ Delay(202496[dt]) ├─░─┤ √X ├─░─┤M├\n",
       "     └────┘└───────────────────┘ ░ └────┘ ░ └╥┘\n",
       "c: 1/════════════════════════════════════════╩═\n",
       "                                             0 </pre>"
      ],
      "text/plain": [
       "     ┌────┐┌───────────────────┐ ░ ┌────┐ ░ ┌─┐\n",
       "  q: ┤ √X ├┤ Delay(202496[dt]) ├─░─┤ √X ├─░─┤M├\n",
       "     └────┘└───────────────────┘ ░ └────┘ ░ └╥┘\n",
       "c: 1/════════════════════════════════════════╩═\n",
       "                                             0 "
      ]
     },
     "metadata": {},
     "output_type": "display_data"
    },
    {
     "name": "stdout",
     "output_type": "stream",
     "text": [
      "211504\n"
     ]
    },
    {
     "data": {
      "text/html": [
       "<pre style=\"word-wrap: normal;white-space: pre;background: #fff0;line-height: 1.1;font-family: &quot;Courier New&quot;,Courier,monospace\">     ┌────┐┌───────────────────┐ ░ ┌────┐ ░ ┌─┐\n",
       "  q: ┤ √X ├┤ Delay(211504[dt]) ├─░─┤ √X ├─░─┤M├\n",
       "     └────┘└───────────────────┘ ░ └────┘ ░ └╥┘\n",
       "c: 1/════════════════════════════════════════╩═\n",
       "                                             0 </pre>"
      ],
      "text/plain": [
       "     ┌────┐┌───────────────────┐ ░ ┌────┐ ░ ┌─┐\n",
       "  q: ┤ √X ├┤ Delay(211504[dt]) ├─░─┤ √X ├─░─┤M├\n",
       "     └────┘└───────────────────┘ ░ └────┘ ░ └╥┘\n",
       "c: 1/════════════════════════════════════════╩═\n",
       "                                             0 "
      ]
     },
     "metadata": {},
     "output_type": "display_data"
    },
    {
     "name": "stdout",
     "output_type": "stream",
     "text": [
      "220496\n"
     ]
    },
    {
     "data": {
      "text/html": [
       "<pre style=\"word-wrap: normal;white-space: pre;background: #fff0;line-height: 1.1;font-family: &quot;Courier New&quot;,Courier,monospace\">     ┌────┐┌───────────────────┐ ░ ┌────┐ ░ ┌─┐\n",
       "  q: ┤ √X ├┤ Delay(220496[dt]) ├─░─┤ √X ├─░─┤M├\n",
       "     └────┘└───────────────────┘ ░ └────┘ ░ └╥┘\n",
       "c: 1/════════════════════════════════════════╩═\n",
       "                                             0 </pre>"
      ],
      "text/plain": [
       "     ┌────┐┌───────────────────┐ ░ ┌────┐ ░ ┌─┐\n",
       "  q: ┤ √X ├┤ Delay(220496[dt]) ├─░─┤ √X ├─░─┤M├\n",
       "     └────┘└───────────────────┘ ░ └────┘ ░ └╥┘\n",
       "c: 1/════════════════════════════════════════╩═\n",
       "                                             0 "
      ]
     },
     "metadata": {},
     "output_type": "display_data"
    }
   ],
   "source": [
    "# A T1 simulator\n",
    "from qiskit_ibm_runtime.fake_provider import FakePerth\n",
    "from qiskit_aer import AerSimulator\n",
    "from qiskit_aer.noise import NoiseModel\n",
    "import numpy as np\n",
    "import qiskit\n",
    "\n",
    "# Create a pure relaxation noise model for AerSimulator\n",
    "noise_model = NoiseModel.from_backend(\n",
    "    FakePerth(), thermal_relaxation=True, gate_error=False, readout_error=False\n",
    ")\n",
    "\n",
    "# Create a fake backend simulator\n",
    "backend = AerSimulator.from_backend(FakePerth(), noise_model=noise_model)\n",
    "\n",
    "sampler = Sampler(backend)\n",
    "qubit = 0\n",
    "# set the desired delays\n",
    "delays = list(np.arange(1e-6, 50e-6, 2e-6))\n",
    "\n",
    "timing = BackendTiming(backend)\n",
    "\n",
    "\n",
    "run_options = {'shots': 2000, 'seed_simulator': 101}\n",
    "transpile_options = {'scheduling_method': 'asap', 'optimization_level': 0}\n",
    "\n",
    "circuits = []\n",
    "rotation_angle = np.pi/3\n",
    "for delay_factor in delays:\n",
    "    circ = qiskit.QuantumCircuit(1, 1)\n",
    "    circ.sx(0)  # Brings the qubit to the X Axis\n",
    "    print(timing.round_delay(time=delay_factor))\n",
    "    circ.delay(timing.round_delay(time=delay_factor), 0, timing.delay_unit)\n",
    "    # circ.rz(rotation_angle, 0)\n",
    "    circ.barrier(0)\n",
    "    circ.sx(0)\n",
    "    circ.barrier(0)\n",
    "    circ.measure(0, 0)\n",
    "    display(circ.draw(fold=999))\n",
    "    circuits.append(circ)\n",
    "\n",
    "# CRITICAL FIX: Transpile circuits with scheduling and run the transpiled circuits\n",
    "transpiled = transpile(circuits, backend, scheduling_method='asap')\n",
    "# sampler.options.simulator.noise_model = noise_model\n",
    "# Run the transpiled circuits, not the original ones!\n",
    "jobs = sampler.run(transpiled, shots=2000)"
   ]
  },
  {
   "cell_type": "code",
   "execution_count": 92,
   "id": "77070b42",
   "metadata": {},
   "outputs": [
    {
     "name": "stdout",
     "output_type": "stream",
     "text": [
      "1e-06 3 1997\n",
      "3e-06 21 1979\n",
      "5e-06 22 1978\n",
      "7.000000000000001e-06 32 1968\n",
      "9.000000000000002e-06 44 1956\n",
      "1.1000000000000003e-05 55 1945\n",
      "1.3000000000000003e-05 61 1939\n",
      "1.5000000000000002e-05 78 1922\n",
      "1.7000000000000003e-05 71 1929\n",
      "1.9000000000000004e-05 95 1905\n",
      "2.1000000000000006e-05 88 1912\n",
      "2.3000000000000003e-05 84 1916\n",
      "2.5000000000000005e-05 120 1880\n",
      "2.7000000000000006e-05 120 1880\n",
      "2.9000000000000004e-05 121 1879\n",
      "3.1e-05 139 1861\n",
      "3.3e-05 126 1874\n",
      "3.5000000000000004e-05 153 1847\n",
      "3.7000000000000005e-05 151 1849\n",
      "3.9000000000000006e-05 152 1848\n",
      "4.100000000000001e-05 176 1824\n",
      "4.3e-05 172 1828\n",
      "4.5e-05 197 1803\n",
      "4.7000000000000004e-05 220 1780\n",
      "4.9000000000000005e-05 196 1804\n"
     ]
    }
   ],
   "source": [
    "for i, job_result in enumerate(jobs.result()):\n",
    "    results = job_result.data.c.get_counts()\n",
    "    print(delays[i], results['0'], results['1'])\n",
    "    # print(i, results)"
   ]
  },
  {
   "cell_type": "code",
   "execution_count": null,
   "id": "4107f093",
   "metadata": {},
   "outputs": [],
   "source": []
  },
  {
   "cell_type": "code",
   "execution_count": null,
   "id": "2e0298eb",
   "metadata": {},
   "outputs": [],
   "source": []
  },
  {
   "cell_type": "code",
   "execution_count": null,
   "id": "32d054e7",
   "metadata": {},
   "outputs": [],
   "source": []
  },
  {
   "cell_type": "code",
   "execution_count": null,
   "id": "652978c0",
   "metadata": {},
   "outputs": [],
   "source": [
    "# A T1 simulator\n",
    "from qiskit_ibm_runtime.fake_provider import FakePerth\n",
    "from qiskit_aer import AerSimulator\n",
    "from qiskit_aer.noise import NoiseModel\n",
    "\n",
    "# Create a pure relaxation noise model for AerSimulator\n",
    "noise_model = NoiseModel.from_backend(\n",
    "    FakePerth(), thermal_relaxation=True, gate_error=False, readout_error=False\n",
    ")\n",
    "\n",
    "# Create a fake backend simulator\n",
    "backend = AerSimulator.from_backend(FakePerth(), noise_model=noise_model)\n",
    "\n",
    "# Set scheduling method so circuit is scheduled for delay noise simulation\n",
    "exp1.set_transpile_options(scheduling_method='asap')\n",
    "\n",
    "# Run experiment\n",
    "expdata1 = exp1.run(backend=backend, shots=2000, seed_simulator=101)\n",
    "expdata1.block_for_results()  # Wait for job/analysis to finish.\n",
    "\n",
    "# Display the figure\n",
    "display(expdata1.figure(0))"
   ]
  },
  {
   "cell_type": "markdown",
   "id": "93eb4e85",
   "metadata": {},
   "source": [
    "### Ramsey experiment i want to reverse-engineer"
   ]
  },
  {
   "cell_type": "code",
   "execution_count": 14,
   "id": "8ad9e29d",
   "metadata": {},
   "outputs": [],
   "source": []
  },
  {
   "cell_type": "code",
   "execution_count": 50,
   "id": "c7d94af6",
   "metadata": {},
   "outputs": [
    {
     "name": "stdout",
     "output_type": "stream",
     "text": [
      "     ┌────┐┌─────────────────┐┌─────────┐ ░ ┌────┐ ░ ┌─┐\n",
      "  q: ┤ √X ├┤ Delay(1e-06[s]) ├┤ Rz(π/5) ├─░─┤ √X ├─░─┤M├\n",
      "     └────┘└─────────────────┘└─────────┘ ░ └────┘ ░ └╥┘\n",
      "c: 1/═════════════════════════════════════════════════╩═\n",
      "                                                      0 \n"
     ]
    }
   ],
   "source": [
    "from qiskit_experiments.library import T2Ramsey\n",
    "# A T1 simulator\n",
    "from qiskit_ibm_runtime.fake_provider import FakePerth\n",
    "from qiskit_aer import AerSimulator\n",
    "from qiskit_aer.noise import NoiseModel\n",
    "\n",
    "\n",
    "qubit = 0\n",
    "# set the desired delays\n",
    "delays = list(np.arange(1e-6, 50e-6, 2e-6))\n",
    "\n",
    "# Create a T2Ramsey experiment. Print the first circuit as an example\n",
    "exp1 = T2Ramsey((qubit,), delays, osc_freq=1e5)\n",
    "\n",
    "print(exp1.circuits()[0])\n",
    "\n",
    "# Create a pure relaxation noise model for AerSimulator\n",
    "noise_model = NoiseModel.from_backend(\n",
    "    FakePerth(), thermal_relaxation=True, gate_error=False, readout_error=False\n",
    ")\n",
    "\n",
    "# Create a fake backend simulator\n",
    "backend = AerSimulator.from_backend(FakePerth(), noise_model=noise_model)\n",
    "\n",
    "# Set scheduling method so circuit is scheduled for delay noise simulation\n",
    "exp1.set_transpile_options(scheduling_method='asap')\n",
    "\n",
    "# Run experiment\n",
    "expdata1 = exp1.run(backend=backend, shots=2000, seed_simulator=101)\n",
    "expdata1.block_for_results()  # Wait for job/analysis to finish.\n",
    "\n",
    "# Display the figure\n",
    "display(expdata1.figure(0))"
   ]
  },
  {
   "cell_type": "code",
   "execution_count": null,
   "id": "2cafa8a9",
   "metadata": {},
   "outputs": [],
   "source": []
  },
  {
   "cell_type": "code",
   "execution_count": 80,
   "id": "839a02db",
   "metadata": {},
   "outputs": [
    {
     "data": {
      "image/png": "[encoded data removed]",
      "text/plain": [
       "<qiskit_experiments.framework.containers.figure_data.FigureData at 0x1f1ff9d1950>"
      ]
     },
     "metadata": {},
     "output_type": "display_data"
    }
   ],
   "source": [
    "\n",
    "\n"
   ]
  },
  {
   "cell_type": "code",
   "execution_count": null,
   "id": "9bbd1935",
   "metadata": {},
   "outputs": [],
   "source": [
    "\n",
    "delay_factors = [1, 10, 100, 1e4, 1e5, 1e6]\n",
    "timing = BackendTiming(backend)\n",
    "circuits = []\n",
    "rotation_angle = np.pi/3\n",
    "for delay_factor in delay_factors:\n",
    "    circ = qiskit.QuantumCircuit(1, 1)\n",
    "    circ.sx(0)  # Brings the qubit to the X Axis\n",
    "    circ.delay(timing.round_delay(time=delay_factor), 0, unit='us')\n",
    "    # circ.rz(rotation_angle, 0)\n",
    "    circ.barrier(0)\n",
    "    circ.sx(0)\n",
    "    circ.barrier(0)\n",
    "    circ.measure(0, 0)\n",
    "    display(circ.draw(fold=999))\n",
    "    circuits.append(circ)\n",
    "\n",
    "# CRITICAL FIX: Transpile circuits with scheduling and run the transpiled circuits\n",
    "transpiled = transpile(circuits, backend, scheduling_method='asap')\n",
    "sampler.options.simulator.noise_model = noise_model\n",
    "# Run the transpiled circuits, not the original ones!\n",
    "jobs = sampler.run(transpiled, shots=2000)"
   ]
  }
 ],
 "metadata": {
  "celltoolbar": "Slideshow",
  "kernelspec": {
   "display_name": ".venv",
   "language": "python",
   "name": "python3"
  },
  "language_info": {
   "codemirror_mode": {
    "name": "ipython",
    "version": 3
   },
   "file_extension": ".py",
   "mimetype": "text/x-python",
   "name": "python",
   "nbconvert_exporter": "python",
   "pygments_lexer": "ipython3",
   "version": "3.11.1"
  }
 },
 "nbformat": 4,
 "nbformat_minor": 5
}
