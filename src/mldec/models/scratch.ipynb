{
 "cells": [
  {
   "cell_type": "code",
   "execution_count": 1,
   "metadata": {},
   "outputs": [],
   "source": [
    "# reload magic\n",
    "%load_ext autoreload\n",
    "%autoreload 2"
   ]
  },
  {
   "cell_type": "code",
   "execution_count": null,
   "metadata": {},
   "outputs": [],
   "source": [
    "\n",
    "from mldec.datasets import toy_problem_data\n",
    "import torch\n",
    "from mldec.utils import evaluation"
   ]
  },
  {
   "cell_type": "code",
   "execution_count": null,
   "metadata": {},
   "outputs": [],
   "source": [
    "\n",
    "\n"
   ]
  },
  {
   "cell_type": "code",
   "execution_count": 142,
   "metadata": {},
   "outputs": [],
   "source": [
    "n = 8\n",
    "batch_size = 10000\n",
    "dataset_config = {\n",
    "    'p': 0.15,\n",
    "    'alpha': 0.33,\n",
    "    'pcm': toy_problem_data.repetition_pcm(n),\n",
    "    \"sos_eos\": (0, 0),\n",
    "}\n",
    "X, Y, weights = toy_problem_data.create_dataset_training(n, dataset_config)\n",
    "weights_np = weights.numpy()\n",
    "\n",
    "Xb, Yb, weightsb, downsampled_weights = toy_problem_data.sample_virtual_XY(weights_np, batch_size, n, dataset_config)\n",
    "downsampled_weights_tensor = torch.tensor(downsampled_weights, dtype=torch.float32)\n",
    "\n",
    "Xgood, Ygood, weightsgood = toy_problem_data.uniform_over_good_examples(n, dataset_config)"
   ]
  },
  {
   "cell_type": "code",
   "execution_count": null,
   "metadata": {},
   "outputs": [],
   "source": [
    "from mldec.models.baselines import RepetitionCodeLookupTable, RepetitionCodeMinimumWeight\n",
    "\n",
    "\n",
    "\n",
    "mld = RepetitionCodeLookupTable(n)\n",
    "mld.train_on_histogram(Xgood, Ygood, weightsgood)\n",
    "\n",
    "minimum_weight_decoder = RepetitionCodeMinimumWeight(n)\n",
    "minimum_weight_decoder.make_decoder(X, Y)"
   ]
  },
  {
   "cell_type": "code",
   "execution_count": 153,
   "metadata": {},
   "outputs": [
    {
     "name": "stdout",
     "output_type": "stream",
     "text": [
      "torch.Size([120, 7])\n",
      "torch.Size([256, 7]) torch.Size([256, 10]) torch.Size([120, 10])\n"
     ]
    }
   ],
   "source": [
    "print(Xb.shape)\n",
    "print(X.shape, Y.shape, Ypred.shape)"
   ]
  },
  {
   "cell_type": "code",
   "execution_count": 162,
   "metadata": {},
   "outputs": [],
   "source": [
    "lookup = RepetitionCodeLookupTable(n)\n",
    "lookup.train_on_histogram(X, Y, downsampled_weights)\n"
   ]
  },
  {
   "cell_type": "code",
   "execution_count": 163,
   "metadata": {},
   "outputs": [
    {
     "name": "stdout",
     "output_type": "stream",
     "text": [
      "lookup train: 0.9994999170303345\n",
      "lookup test: 0.9970260858535767\n",
      "minimum weight: 0.997134804725647\n",
      "optimal: 0.9988806843757629\n"
     ]
    }
   ],
   "source": [
    "\n",
    "\n",
    "train_acc = evaluation.weighted_accuracy(lookup, X, Y, downsampled_weights_tensor) # training accuracy is evaluated on the same data from this epoch.\n",
    "val_acc = evaluation.weighted_accuracy(lookup, X, Y, weights) # validation accuracy is evaluated on the full dataset\n",
    "opt_val_acc = evaluation.weighted_accuracy(mld, X, Y, weights) # optimal validation accuracy is evaluated on the full dataset\n",
    "minimum_weight_val_acc = evaluation.weighted_accuracy(minimum_weight_decoder, X, Y, weights) # optimal validation accuracy is evaluated on the full dataset\n",
    "print(\"lookup train:\", train_acc)\n",
    "print(\"lookup test:\", val_acc)\n",
    "print(\"minimum weight:\", minimum_weight_val_acc)\n",
    "print(\"optimal:\", opt_val_acc)\n"
   ]
  },
  {
   "cell_type": "code",
   "execution_count": null,
   "metadata": {},
   "outputs": [],
   "source": []
  }
 ],
 "metadata": {
  "kernelspec": {
   "display_name": ".venv",
   "language": "python",
   "name": "python3"
  },
  "language_info": {
   "codemirror_mode": {
    "name": "ipython",
    "version": 3
   },
   "file_extension": ".py",
   "mimetype": "text/x-python",
   "name": "python",
   "nbconvert_exporter": "python",
   "pygments_lexer": "ipython3",
   "version": "3.11.1"
  }
 },
 "nbformat": 4,
 "nbformat_minor": 2
}
