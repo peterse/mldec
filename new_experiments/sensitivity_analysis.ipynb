{
 "cells": [
  {
   "cell_type": "markdown",
   "metadata": {},
   "source": [
    "### Sensitivity analysis\n",
    "\n",
    "how does the sensitivity of MLD change as a function of the error rate of the underlying model?\n",
    "\n",
    "First, we can look at simple cases where the baseline is MLD."
   ]
  },
  {
   "cell_type": "code",
   "execution_count": 1,
   "metadata": {},
   "outputs": [],
   "source": [
    "# autoreload magic\n",
    "%load_ext autoreload\n",
    "%autoreload 2\n"
   ]
  },
  {
   "cell_type": "code",
   "execution_count": 2,
   "metadata": {},
   "outputs": [],
   "source": [
    "import pandas as pd\n",
    "import matplotlib.pyplot as plt\n",
    "import numpy as np\n",
    "\n",
    "from mldec.datasets import toy_problem_data\n",
    "from mldec.models import baselines\n",
    "from mldec.utils import evaluation\n",
    "from mldec.codes import repetition_code"
   ]
  },
  {
   "cell_type": "code",
   "execution_count": 3,
   "metadata": {},
   "outputs": [
    {
     "name": "stderr",
     "output_type": "stream",
     "text": [
      "C:\\Users\\peter\\Desktop\\projects\\mldec\\src\\mldec\\models\\baselines.py:62: UserWarning: Creating a tensor from a list of numpy.ndarrays is extremely slow. Please consider converting the list to a single numpy.ndarray with numpy.array() before converting to a tensor. (Triggered internally at C:\\actions-runner\\_work\\pytorch\\pytorch\\pytorch\\torch\\csrc\\utils\\tensor_new.cpp:257.)\n",
      "  return torch.tensor(out)\n"
     ]
    }
   ],
   "source": [
    "# repetition code \n",
    "\n",
    "# compute optimal performance on this dataset\n",
    "p = 0.1\n",
    "alpha = 0.7\n",
    "n = 8\n",
    "dataset_config = {\"p\": p, \"alpha\": alpha, \"pcm\": toy_problem_data.repetition_pcm(n)}\n",
    "X, Y, good_weights = toy_problem_data.uniform_over_good_examples(n, dataset_config)\n",
    "X, Y, true_weights = toy_problem_data.create_dataset_training(n, dataset_config)\n",
    "\n",
    "mld = baselines.LookupTable()\n",
    "mld.train_on_histogram(X, Y, good_weights)\n",
    "mld_acc = evaluation.weighted_accuracy(mld, X, Y, true_weights) "
   ]
  },
  {
   "cell_type": "code",
   "execution_count": null,
   "metadata": {},
   "outputs": [],
   "source": []
  }
 ],
 "metadata": {
  "kernelspec": {
   "display_name": ".venv",
   "language": "python",
   "name": "python3"
  },
  "language_info": {
   "codemirror_mode": {
    "name": "ipython",
    "version": 3
   },
   "file_extension": ".py",
   "mimetype": "text/x-python",
   "name": "python",
   "nbconvert_exporter": "python",
   "pygments_lexer": "ipython3",
   "version": "3.11.1"
  }
 },
 "nbformat": 4,
 "nbformat_minor": 2
}
