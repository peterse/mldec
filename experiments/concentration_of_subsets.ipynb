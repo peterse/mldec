{
 "cells": [
  {
   "cell_type": "markdown",
   "metadata": {},
   "source": [
    "here we check whether the probability of a subset of $M$ elements sampled from the multiset $\\bigcup_{w=1}^n \\{p^w (1-p)^{n-w}\\}^{_n C_w}$ concentrates. This represents whether there is concentration in the probability of a size-$M$ subset constructed by sampling bitstrings without replacement, according to a chosen bernoulli error model."
   ]
  },
  {
   "cell_type": "code",
   "execution_count": 2,
   "metadata": {},
   "outputs": [],
   "source": [
    "from mldec.utils.bit_tools import binarr\n",
    "from math import comb"
   ]
  },
  {
   "cell_type": "code",
   "execution_count": 6,
   "metadata": {},
   "outputs": [],
   "source": [
    "import random\n",
    "\n",
    "def sample_without_replacement(counts, m):\n",
    "    \"\"\"\n",
    "    counts: list of nonnegative integers, where counts[i] is \n",
    "            how many balls are labeled i\n",
    "    m: how many balls to sample (m <= sum(counts))\n",
    "\n",
    "    Returns a list of m labels, chosen without replacement.\n",
    "    \"\"\"\n",
    "    counts = list(counts)          # copy to avoid mutating the original\n",
    "    total = sum(counts)\n",
    "    samples = []\n",
    "\n",
    "    for _ in range(m):\n",
    "        # pick a random integer between 1 and total inclusive\n",
    "        r = random.randint(1, total)\n",
    "        # find which label r corresponds to\n",
    "        csum = 0\n",
    "        for i, c in enumerate(counts):\n",
    "            csum += c\n",
    "            if r <= csum:\n",
    "                samples.append(i)\n",
    "                counts[i] -= 1\n",
    "                total -= 1\n",
    "                break\n",
    "    return samples"
   ]
  },
  {
   "cell_type": "code",
   "execution_count": 30,
   "metadata": {},
   "outputs": [],
   "source": [
    "\n",
    "def probability_of_m_subset_no_replacement(n, p, m):\n",
    "    \"\"\"\n",
    "    n: number of elements in the set\n",
    "    p: probability of selecting an element\n",
    "    m: number of elements to sample\n",
    "\n",
    "    Returns the probability of sampling exactly m elements\n",
    "    from the set, without replacement.\n",
    "    \"\"\"\n",
    "    weights = [comb(n, w) for w in range(1, n+1)]\n",
    "     # we do not have a chance of sampling the identity for technical reasons\n",
    "    weights = [0] + weights\n",
    "    draws = sample_without_replacement(weights, m)\n",
    "    counts = Counter(draws)\n",
    "    subset_prob = 0\n",
    "    for k, v in counts.items():\n",
    "        subset_prob += (1-p)**(n-k) * p**k * v\n",
    "    return subset_prob\n"
   ]
  },
  {
   "cell_type": "code",
   "execution_count": 39,
   "metadata": {},
   "outputs": [],
   "source": [
    "\n",
    "# initial histogram\n",
    "n = 6\n",
    "k = 1\n",
    "m = 2 ** (n - k)\n",
    "p = 0.05\n",
    "trials = 10000\n",
    "res = []\n",
    "for _ in range(trials):\n",
    "    res.append(probability_of_m_subset_no_replacement(n, p, m))"
   ]
  },
  {
   "cell_type": "code",
   "execution_count": 40,
   "metadata": {},
   "outputs": [
    {
     "data": {
      "text/plain": [
       "(array([  95.,  610.,  190., 2370., 1555., 1666., 2452.,  163.,  765.,\n",
       "         134.]),\n",
       " array([0.00928597, 0.03388969, 0.05849341, 0.08309713, 0.10770086,\n",
       "        0.13230458, 0.1569083 , 0.18151202, 0.20611574, 0.23071947,\n",
       "        0.25532319]),\n",
       " <BarContainer object of 10 artists>)"
      ]
     },
     "execution_count": 40,
     "metadata": {},
     "output_type": "execute_result"
    },
    {
     "data": {
      "image/png": "[encoded data removed]",
      "text/plain": [
       "<Figure size 640x480 with 1 Axes>"
      ]
     },
     "metadata": {},
     "output_type": "display_data"
    }
   ],
   "source": [
    "import matplotlib.pyplot as plt\n",
    "plt.hist(res)"
   ]
  },
  {
   "cell_type": "markdown",
   "metadata": {},
   "source": []
  }
 ],
 "metadata": {
  "kernelspec": {
   "display_name": ".venv",
   "language": "python",
   "name": "python3"
  },
  "language_info": {
   "codemirror_mode": {
    "name": "ipython",
    "version": 3
   },
   "file_extension": ".py",
   "mimetype": "text/x-python",
   "name": "python",
   "nbconvert_exporter": "python",
   "pygments_lexer": "ipython3",
   "version": "3.11.1"
  }
 },
 "nbformat": 4,
 "nbformat_minor": 2
}
